{
 "cells": [
  {
   "cell_type": "code",
   "execution_count": 1,
   "metadata": {},
   "outputs": [],
   "source": [
    "import numpy as np\n",
    "import pandas as pd\n",
    "import json\n",
    "\n",
    "from pyclustering.cluster.kmeans import kmeans\n",
    "from pyclustering.utils.metric import type_metric, distance_metric\n",
    "from pyclustering.cluster.center_initializer import kmeans_plusplus_initializer\n",
    "\n",
    "\n",
    "from sklearn.metrics.cluster import adjusted_rand_score\n",
    "\n",
    "import matplotlib.pyplot as plt\n",
    "from itertools import combinations"
   ]
  },
  {
   "cell_type": "markdown",
   "metadata": {},
   "source": [
    "### 还原轨迹数据所需函数"
   ]
  },
  {
   "cell_type": "code",
   "execution_count": 2,
   "metadata": {},
   "outputs": [],
   "source": [
    "def tr_fun(x,params):\n",
    "    '''\n",
    "    x: scalar,x-coordinate\n",
    "    params: ndarray,weights\n",
    "    module style: a0+a1*x+a2*x^2...\n",
    "    '''\n",
    "    x = np.array([x**i for i in range(len(params))])\n",
    "    ret = np.dot(x,params)\n",
    "    return ret"
   ]
  },
  {
   "cell_type": "markdown",
   "metadata": {},
   "source": [
    "### 全局聚类所需函数"
   ]
  },
  {
   "cell_type": "code",
   "execution_count": 3,
   "metadata": {},
   "outputs": [],
   "source": [
    "def df2array(df):\n",
    "    # 将数据以 ndarray 的形式读入内存\n",
    "    # [[x1,x2,...,x500,y1,y2,...,y500],[],...]\n",
    "    i = 0\n",
    "    data = np.array([])\n",
    "    while i <= len(df)-1:\n",
    "        arr_x = np.array(df['x'][i:i+500])\n",
    "        arr_y = np.array(df['y'][i:i+500])\n",
    "        arr = np.append(arr_x,arr_y)\n",
    "        if len(data)==0:\n",
    "            data = np.array([arr])\n",
    "        else:\n",
    "            data = np.append(data,[arr],axis=0)\n",
    "        i+=500\n",
    "    return data"
   ]
  },
  {
   "cell_type": "code",
   "execution_count": 4,
   "metadata": {},
   "outputs": [],
   "source": [
    "# 确保定义的距离是有效的，非负性，同一性，对称性，直递性（三角不等式）\n",
    "\n",
    "def dist(tr1,tr2):\n",
    "    length = len(tr1)\n",
    "    if not(length == 1000):\n",
    "        # 传入参数形式为(k,1000)\n",
    "        # 计算k个簇心点更新前后的距离\n",
    "        distance = 0\n",
    "        for i in range(length):\n",
    "            pre = tr1[i]\n",
    "            now = tr2[i]\n",
    "            half = int(len(pre)/2)\n",
    "            x1 = pre[0:half]\n",
    "            y1 = pre[half:]\n",
    "            x2 = now[0:half]\n",
    "            y2 = now[half:]\n",
    "            deta_x = x1 - x2\n",
    "            deta_y = y1 - y2\n",
    "            distance = distance + np.sum((deta_x**2 + deta_y**2) ** 0.5) / len(x1)\n",
    "    else:       \n",
    "        half = int(length/2)\n",
    "        x1 = tr1[0:half]\n",
    "        y1 = tr1[half:]\n",
    "        x2 = tr2[0:half]\n",
    "        y2 = tr2[half:]\n",
    "        deta_x = x1 - x2\n",
    "        deta_y = y1 - y2\n",
    "        distance = np.sum((deta_x**2 + deta_y**2) ** 0.5) / len(x1)\n",
    "        # print(distance)\n",
    "    return distance"
   ]
  },
  {
   "cell_type": "code",
   "execution_count": 5,
   "metadata": {},
   "outputs": [],
   "source": [
    "def cluster(data,K):\n",
    "\n",
    "    metric = distance_metric(type_metric.USER_DEFINED, func=dist)\n",
    "    initial_centers = kmeans_plusplus_initializer(data, K).initialize()\n",
    "\n",
    "    kmeans_instance = kmeans(data, initial_centers, metric=metric)\n",
    "\n",
    "    kmeans_instance.process()\n",
    "    clusters = kmeans_instance.get_clusters()\n",
    "    centers = kmeans_instance.get_centers()\n",
    "    \n",
    "    return clusters,centers"
   ]
  },
  {
   "cell_type": "code",
   "execution_count": 6,
   "metadata": {},
   "outputs": [],
   "source": [
    "# ndarray中每个元素长度要相等\n",
    "def getKmeansResult(data,K):\n",
    "    clusters,centers = cluster(data,K)\n",
    "    labels = np.zeros(NUM_TR)\n",
    "    for i in range(K):\n",
    "        for j in range(NUM_TR):\n",
    "            if j in clusters[i]:\n",
    "                labels[j] = i\n",
    "    return labels,np.array(centers)"
   ]
  },
  {
   "cell_type": "code",
   "execution_count": 7,
   "metadata": {},
   "outputs": [],
   "source": [
    "def cost(data,labels,centers):\n",
    "    loss = 0\n",
    "    for i in range(len(data)):\n",
    "        loss = loss + dist(data[i],centers[int(labels[i])])\n",
    "    loss = loss / len(data)\n",
    "    return loss # 平均每个簇的损失"
   ]
  },
  {
   "cell_type": "code",
   "execution_count": 8,
   "metadata": {},
   "outputs": [],
   "source": [
    "def chooseK(data,K):\n",
    "    x = np.arange(3,K+1)\n",
    "    y = np.zeros(len(x))\n",
    "    for k in range(3,K+1):\n",
    "        labels,centers = getKmeansResult(data,k)\n",
    "        y[k-3] = cost(data, labels,centers)\n",
    "    plt.plot(x,y)\n",
    "    plt.xlabel('K')\n",
    "    plt.ylabel('cost')\n",
    "    plt.grid(True)\n",
    "    plt.show()"
   ]
  },
  {
   "cell_type": "markdown",
   "metadata": {},
   "source": [
    "### main"
   ]
  },
  {
   "cell_type": "code",
   "execution_count": 9,
   "metadata": {},
   "outputs": [],
   "source": [
    "# resample 50 points each segment\n",
    "def resample(tr_id,x_minmax,params):\n",
    "    segment_num = len(params)\n",
    "    global RESAMPLE_DATA\n",
    "    matrix = np.zeros((segment_num * RESAMPLE_EACH_SEGMENT,3))\n",
    "    matrix[:,0] = tr_id\n",
    "    x = np.array([])\n",
    "    y = np.array([])\n",
    "    x_min = x_minmax[:,0]\n",
    "    x_max = x_minmax[:,1]\n",
    "    delta_x = (x_max - x_min)/RESAMPLE_EACH_SEGMENT\n",
    "    for i in range(segment_num):\n",
    "        lx = [x_min[i]+j*delta_x[i] for j in range(RESAMPLE_EACH_SEGMENT)]\n",
    "        ly = [tr_fun(in_x,params[i]) for in_x in lx]\n",
    "        x = np.append(x,lx)\n",
    "        y = np.append(y,ly)\n",
    "    matrix[:,1] = x\n",
    "    matrix[:,2] = y\n",
    "\n",
    "    if len(RESAMPLE_DATA) == 0:\n",
    "        RESAMPLE_DATA = matrix\n",
    "    else:\n",
    "        RESAMPLE_DATA = np.append(RESAMPLE_DATA,matrix,axis = 0)"
   ]
  },
  {
   "cell_type": "code",
   "execution_count": 10,
   "metadata": {},
   "outputs": [],
   "source": [
    "def para2df(file_name):\n",
    "    global RESAMPLE_DATA\n",
    "    global RESAMPLE_EACH_SEGMENT\n",
    "    RESAMPLE_DATA = np.array([])\n",
    "    with open(file_name,\"r\") as f:\n",
    "        data=json.load(f)\n",
    "    para_dic = json.loads(s=data)\n",
    "    #######\n",
    "    for k,v in para_dic.items():\n",
    "        RESAMPLE_EACH_SEGMENT = int(500/len(v['x_minmax']))\n",
    "        break\n",
    "    #######\n",
    "    print(RESAMPLE_EACH_SEGMENT)\n",
    "    for k,v in para_dic.items():\n",
    "        tr_id = k\n",
    "        params = np.array(v['param'])\n",
    "        x_minmax = np.array(v['x_minmax'])\n",
    "        resample(tr_id,x_minmax,params)\n",
    "    df = pd.DataFrame(RESAMPLE_DATA,columns=['person_id','x','y'])\n",
    "    return df"
   ]
  },
  {
   "cell_type": "code",
   "execution_count": 11,
   "metadata": {},
   "outputs": [],
   "source": [
    "def RI(a,b):\n",
    "    ss = 0\n",
    "    dd = 0\n",
    "    sum = 0\n",
    "    for com in combinations(range(len(a)),2):\n",
    "        sum = sum + 1\n",
    "        if (a[com[0]] == a[com[1]]) and (b[com[0]] == b[com[1]]):\n",
    "            ss = ss + 1\n",
    "        if (a[com[0]] != a[com[1]]) and (b[com[0]] != b[com[1]]):\n",
    "            dd = dd + 1\n",
    "    return (ss + dd) / sum"
   ]
  },
  {
   "cell_type": "code",
   "execution_count": 12,
   "metadata": {},
   "outputs": [],
   "source": [
    "# 对于抽样率不为1的实验，生成所有轨迹的分类结果\n",
    "def allTraResult(centers):\n",
    "    result = []\n",
    "    for i in ALL_DATA:\n",
    "        distArr = []\n",
    "        for j in range(K):\n",
    "            distArr.append(dist(np.array(i),np.array(centers[j])))\n",
    "        minDist = np.min(distArr)\n",
    "        result.append(distArr.index(minDist))\n",
    "    return result"
   ]
  },
  {
   "cell_type": "code",
   "execution_count": 13,
   "metadata": {},
   "outputs": [],
   "source": [
    "RESAMPLE_EACH_SEGMENT = 0\n",
    "RESAMPLE_DATA = np.array([])"
   ]
  },
  {
   "cell_type": "code",
   "execution_count": 14,
   "metadata": {},
   "outputs": [],
   "source": [
    "all_df = pd.read_csv('./data/all.csv')\n",
    "ALL_DATA = df2array(all_df)"
   ]
  },
  {
   "cell_type": "markdown",
   "metadata": {},
   "source": [
    "### 加载第一个节点的参数文件"
   ]
  },
  {
   "cell_type": "code",
   "execution_count": 54,
   "metadata": {},
   "outputs": [
    {
     "name": "stdout",
     "output_type": "stream",
     "text": [
      "25\n"
     ]
    }
   ],
   "source": [
    "df1 = para2df('para/ex2/node1K5a09.txt')"
   ]
  },
  {
   "cell_type": "markdown",
   "metadata": {},
   "source": [
    "### 加载第二个节点参数文件"
   ]
  },
  {
   "cell_type": "code",
   "execution_count": 55,
   "metadata": {},
   "outputs": [
    {
     "name": "stdout",
     "output_type": "stream",
     "text": [
      "25\n"
     ]
    }
   ],
   "source": [
    "df2 = para2df('para/ex2/node2K5a09.txt')"
   ]
  },
  {
   "cell_type": "markdown",
   "metadata": {},
   "source": [
    "### 加载第三个节点参数文件"
   ]
  },
  {
   "cell_type": "code",
   "execution_count": 56,
   "metadata": {},
   "outputs": [
    {
     "name": "stdout",
     "output_type": "stream",
     "text": [
      "25\n"
     ]
    }
   ],
   "source": [
    "df3 = para2df('para/ex2/node3K5a09.txt')"
   ]
  },
  {
   "cell_type": "markdown",
   "metadata": {
    "collapsed": true
   },
   "source": [
    "### 实验二：轨迹数量抽样"
   ]
  },
  {
   "cell_type": "code",
   "execution_count": 38,
   "metadata": {},
   "outputs": [],
   "source": [
    "DATA01 = df2array(df)"
   ]
  },
  {
   "cell_type": "code",
   "execution_count": 43,
   "metadata": {},
   "outputs": [],
   "source": [
    "DATA03 = df2array(df)"
   ]
  },
  {
   "cell_type": "code",
   "execution_count": 48,
   "metadata": {},
   "outputs": [],
   "source": [
    "DATA05 = df2array(df)"
   ]
  },
  {
   "cell_type": "code",
   "execution_count": 53,
   "metadata": {},
   "outputs": [],
   "source": [
    "DATA07 = df2array(df)"
   ]
  },
  {
   "cell_type": "code",
   "execution_count": 58,
   "metadata": {},
   "outputs": [],
   "source": [
    "DATA09 = df2array(df)"
   ]
  },
  {
   "cell_type": "code",
   "execution_count": 81,
   "metadata": {},
   "outputs": [
    {
     "name": "stdout",
     "output_type": "stream",
     "text": [
      "202 621 1046 1461 1883\n"
     ]
    }
   ],
   "source": [
    "print(len(DATA01),len(DATA03),len(DATA05),len(DATA07),len(DATA09))"
   ]
  },
  {
   "cell_type": "code",
   "execution_count": 68,
   "metadata": {},
   "outputs": [
    {
     "data": {
      "image/png": "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\n",
      "text/plain": [
       "<Figure size 432x288 with 1 Axes>"
      ]
     },
     "metadata": {
      "needs_background": "light"
     },
     "output_type": "display_data"
    }
   ],
   "source": [
    "for i in range(len(DATA09)):\n",
    "    x = DATA09[i][:500]\n",
    "    y = DATA09[i][500:]\n",
    "    A = y <-30\n",
    "    if True in A:\n",
    "        continue\n",
    "    plt.plot(x,y,linewidth=0.2)\n",
    "    plt.xlabel('x')\n",
    "    plt.ylabel('y')\n",
    "    \n",
    "plt.show()"
   ]
  },
  {
   "cell_type": "code",
   "execution_count": 69,
   "metadata": {},
   "outputs": [],
   "source": [
    "K = 5"
   ]
  },
  {
   "cell_type": "code",
   "execution_count": 70,
   "metadata": {},
   "outputs": [],
   "source": [
    "baseline = [1.0, 2.0, 1.0, 3.0, 4.0, 4.0, 0.0, 3.0, 3.0, 1.0, 3.0, 0.0, 4.0, 4.0, 4.0, 3.0, 4.0, 1.0, 4.0, 1.0, 3.0, 0.0, 1.0, 4.0, 0.0, 3.0, 3.0, 3.0, 2.0, 2.0, 4.0, 3.0, 3.0, 0.0, 3.0, 4.0, 4.0, 3.0, 1.0, 0.0, 1.0, 4.0, 0.0, 2.0, 3.0, 0.0, 2.0, 3.0, 3.0, 4.0, 3.0, 3.0, 3.0, 3.0, 3.0, 2.0, 2.0, 3.0, 0.0, 4.0, 0.0, 3.0, 2.0, 2.0, 2.0, 4.0, 3.0, 1.0, 3.0, 1.0, 0.0, 3.0, 4.0, 3.0, 3.0, 0.0, 0.0, 1.0, 1.0, 3.0, 2.0, 3.0, 0.0, 2.0, 2.0, 0.0, 4.0, 3.0, 4.0, 3.0, 0.0, 3.0, 3.0, 0.0, 3.0, 3.0, 3.0, 3.0, 4.0, 1.0, 0.0, 4.0, 0.0, 0.0, 3.0, 0.0, 3.0, 3.0, 0.0, 3.0, 3.0, 4.0, 4.0, 2.0, 2.0, 2.0, 0.0, 1.0, 0.0, 1.0, 4.0, 2.0, 3.0, 3.0, 0.0, 3.0, 3.0, 3.0, 2.0, 0.0, 4.0, 0.0, 4.0, 3.0, 3.0, 3.0, 4.0, 3.0, 3.0, 3.0, 4.0, 3.0, 2.0, 3.0, 3.0, 3.0, 4.0, 4.0, 0.0, 3.0, 1.0, 3.0, 4.0, 2.0, 4.0, 4.0, 0.0, 3.0, 2.0, 3.0, 2.0, 4.0, 0.0, 4.0, 3.0, 2.0, 0.0, 2.0, 2.0, 4.0, 2.0, 3.0, 0.0, 2.0, 3.0, 2.0, 0.0, 0.0, 2.0, 4.0, 3.0, 4.0, 4.0, 4.0, 0.0, 0.0, 2.0, 3.0, 0.0, 2.0, 3.0, 2.0, 3.0, 0.0, 0.0, 4.0, 1.0, 0.0, 0.0, 3.0, 4.0, 3.0, 2.0, 3.0, 1.0, 3.0, 3.0, 3.0, 3.0, 0.0, 0.0, 3.0, 4.0, 3.0, 3.0, 4.0, 3.0, 3.0, 3.0, 3.0, 3.0, 3.0, 0.0, 4.0, 4.0, 4.0, 4.0, 0.0, 3.0, 1.0, 3.0, 3.0, 1.0, 4.0, 2.0, 4.0, 4.0, 1.0, 3.0, 0.0, 0.0, 4.0, 2.0, 3.0, 1.0, 2.0, 4.0, 4.0, 0.0, 2.0, 3.0, 3.0, 4.0, 2.0, 3.0, 3.0, 4.0, 3.0, 1.0, 3.0, 0.0, 3.0, 0.0, 1.0, 3.0, 4.0, 3.0, 3.0, 0.0, 4.0, 1.0, 0.0, 3.0, 3.0, 2.0, 3.0, 2.0, 3.0, 0.0, 2.0, 2.0, 2.0, 1.0, 1.0, 3.0, 3.0, 3.0, 2.0, 4.0, 1.0, 4.0, 3.0, 3.0, 1.0, 2.0, 3.0, 1.0, 3.0, 4.0, 3.0, 0.0, 1.0, 4.0, 3.0, 4.0, 0.0, 3.0, 0.0, 1.0, 3.0, 0.0, 2.0, 0.0, 4.0, 3.0, 1.0, 3.0, 3.0, 4.0, 3.0, 0.0, 2.0, 0.0, 2.0, 2.0, 1.0, 3.0, 1.0, 3.0, 2.0, 3.0, 0.0, 2.0, 1.0, 3.0, 3.0, 4.0, 2.0, 3.0, 0.0, 2.0, 2.0, 3.0, 3.0, 1.0, 4.0, 2.0, 0.0, 3.0, 1.0, 3.0, 2.0, 4.0, 4.0, 2.0, 3.0, 2.0, 4.0, 0.0, 4.0, 3.0, 3.0, 0.0, 3.0, 0.0, 4.0, 2.0, 1.0, 2.0, 3.0, 0.0, 3.0, 4.0, 3.0, 0.0, 3.0, 3.0, 3.0, 4.0, 3.0, 4.0, 0.0, 2.0, 3.0, 0.0, 2.0, 3.0, 2.0, 2.0, 2.0, 3.0, 3.0, 2.0, 1.0, 3.0, 4.0, 0.0, 4.0, 1.0, 1.0, 3.0, 4.0, 2.0, 3.0, 3.0, 2.0, 3.0, 3.0, 3.0, 3.0, 0.0, 3.0, 0.0, 3.0, 3.0, 1.0, 3.0, 3.0, 2.0, 0.0, 4.0, 3.0, 0.0, 0.0, 1.0, 4.0, 2.0, 1.0, 3.0, 1.0, 3.0, 2.0, 3.0, 3.0, 3.0, 3.0, 3.0, 0.0, 2.0, 0.0, 2.0, 1.0, 0.0, 0.0, 3.0, 3.0, 2.0, 0.0, 2.0, 2.0, 1.0, 3.0, 1.0, 2.0, 2.0, 3.0, 0.0, 3.0, 3.0, 1.0, 3.0, 3.0, 3.0, 0.0, 3.0, 2.0, 4.0, 2.0, 2.0, 3.0, 1.0, 2.0, 0.0, 4.0, 3.0, 3.0, 3.0, 2.0, 0.0, 0.0, 2.0, 0.0, 2.0, 2.0, 3.0, 3.0, 1.0, 3.0, 3.0, 2.0, 2.0, 3.0, 4.0, 2.0, 4.0, 0.0, 3.0, 0.0, 3.0, 3.0, 2.0, 3.0, 0.0, 3.0, 2.0, 3.0, 3.0, 3.0, 3.0, 2.0, 2.0, 3.0, 4.0, 3.0, 3.0, 2.0, 1.0, 0.0, 2.0, 3.0, 0.0, 2.0, 3.0, 2.0, 2.0, 4.0, 2.0, 4.0, 4.0, 3.0, 3.0, 3.0, 0.0, 0.0, 3.0, 1.0, 3.0, 4.0, 0.0, 0.0, 3.0, 4.0, 3.0, 2.0, 2.0, 2.0, 3.0, 3.0, 2.0, 3.0, 3.0, 3.0, 2.0, 1.0, 3.0, 3.0, 4.0, 3.0, 3.0, 2.0, 3.0, 3.0, 2.0, 1.0, 3.0, 0.0, 3.0, 1.0, 2.0, 2.0, 3.0, 3.0, 3.0, 0.0, 3.0, 3.0, 1.0, 3.0, 3.0, 3.0, 1.0, 2.0, 4.0, 2.0, 1.0, 2.0, 3.0, 3.0, 0.0, 3.0, 3.0, 3.0, 3.0, 3.0, 2.0, 1.0, 3.0, 2.0, 3.0, 0.0, 3.0, 3.0, 3.0, 3.0, 4.0, 0.0, 4.0, 4.0, 3.0, 0.0, 3.0, 3.0, 0.0, 3.0, 3.0, 3.0, 2.0, 2.0, 3.0, 3.0, 3.0, 1.0, 0.0, 0.0, 3.0, 1.0, 3.0, 0.0, 2.0, 3.0, 0.0, 1.0, 0.0, 0.0, 2.0, 3.0, 3.0, 3.0, 2.0, 0.0, 2.0, 3.0, 1.0, 3.0, 2.0, 2.0, 2.0, 3.0, 3.0, 3.0, 2.0, 0.0, 3.0, 3.0, 1.0, 3.0, 3.0, 3.0, 3.0, 1.0, 2.0, 2.0, 1.0, 1.0, 2.0, 3.0, 3.0, 2.0, 2.0, 1.0, 3.0, 3.0, 4.0, 0.0, 3.0, 3.0, 0.0, 3.0, 0.0, 1.0, 1.0, 3.0, 0.0, 2.0, 1.0, 0.0, 1.0, 2.0, 3.0, 0.0, 3.0, 3.0, 2.0, 3.0, 1.0, 3.0, 1.0, 2.0, 3.0, 0.0, 3.0, 3.0, 0.0, 3.0, 0.0, 0.0, 1.0, 0.0, 1.0, 4.0, 3.0, 2.0, 0.0, 1.0, 4.0, 0.0, 3.0, 3.0, 3.0, 3.0, 3.0, 3.0, 2.0, 3.0, 3.0, 3.0, 4.0, 1.0, 3.0, 2.0, 0.0, 2.0, 2.0, 3.0, 0.0, 1.0, 1.0, 2.0, 1.0, 1.0, 4.0, 3.0, 0.0, 4.0, 3.0, 3.0, 3.0, 3.0, 1.0, 3.0, 3.0, 3.0, 4.0, 3.0, 3.0, 2.0, 3.0, 1.0, 3.0, 4.0, 3.0, 3.0, 3.0, 0.0, 0.0, 3.0, 1.0, 1.0, 0.0, 4.0, 2.0, 0.0, 4.0, 2.0, 3.0, 3.0, 3.0, 1.0, 3.0, 4.0, 3.0, 3.0, 3.0, 3.0, 3.0, 3.0, 1.0, 0.0, 3.0, 2.0, 2.0, 3.0, 3.0, 2.0, 2.0, 4.0, 3.0, 2.0, 0.0, 2.0, 3.0, 3.0, 3.0, 3.0, 2.0, 0.0, 3.0, 4.0, 3.0, 0.0, 3.0, 3.0, 3.0, 4.0, 4.0, 1.0, 4.0, 4.0, 1.0, 0.0, 4.0, 0.0, 3.0, 2.0, 3.0, 3.0, 2.0, 2.0, 2.0, 4.0, 4.0, 3.0, 2.0, 3.0, 3.0, 3.0, 3.0, 3.0, 0.0, 4.0, 0.0, 3.0, 2.0, 4.0, 1.0, 2.0, 1.0, 3.0, 1.0, 2.0, 2.0, 2.0, 2.0, 2.0, 0.0, 3.0, 4.0, 4.0, 2.0, 2.0, 0.0, 4.0, 0.0, 1.0, 2.0, 3.0, 3.0, 0.0, 3.0, 3.0, 4.0, 4.0, 3.0, 3.0, 3.0, 1.0, 0.0, 4.0, 3.0, 4.0, 0.0, 2.0, 1.0, 1.0, 0.0, 4.0, 0.0, 4.0, 3.0, 3.0, 3.0, 4.0, 3.0, 3.0, 3.0, 3.0, 0.0, 2.0, 3.0, 2.0, 2.0, 3.0, 0.0, 3.0, 3.0, 0.0, 4.0, 4.0, 2.0, 4.0, 4.0, 0.0, 3.0, 2.0, 0.0, 3.0, 3.0, 2.0, 2.0, 2.0, 2.0, 3.0, 3.0, 3.0, 1.0, 3.0, 1.0, 2.0, 2.0, 2.0, 3.0, 3.0, 3.0, 2.0, 0.0, 1.0, 3.0, 3.0, 0.0, 4.0, 2.0, 0.0, 4.0, 2.0, 3.0, 0.0, 3.0, 3.0, 0.0, 3.0, 0.0, 0.0, 3.0, 3.0, 2.0, 3.0, 2.0, 2.0, 3.0, 4.0, 0.0, 3.0, 1.0, 3.0, 3.0, 3.0, 4.0, 1.0, 4.0, 1.0, 3.0, 3.0, 2.0, 3.0, 3.0, 0.0, 3.0, 0.0, 2.0, 2.0, 2.0, 3.0, 3.0, 3.0, 3.0, 3.0, 3.0, 0.0, 3.0, 2.0, 3.0, 1.0, 4.0, 0.0, 3.0, 0.0, 0.0, 4.0, 0.0, 2.0, 2.0, 3.0, 3.0, 3.0, 3.0, 0.0, 2.0, 0.0, 3.0, 4.0, 3.0, 1.0, 2.0, 0.0, 0.0, 4.0, 3.0, 3.0, 2.0, 2.0, 3.0, 0.0, 2.0, 2.0, 4.0, 3.0, 4.0, 3.0, 3.0, 3.0, 1.0, 3.0, 3.0, 1.0, 0.0, 0.0, 0.0, 4.0, 2.0, 0.0, 3.0, 3.0, 2.0, 0.0, 0.0, 3.0, 0.0, 2.0, 3.0, 0.0, 3.0, 4.0, 0.0, 4.0, 3.0, 3.0, 1.0, 4.0, 2.0, 3.0, 1.0, 3.0, 2.0, 0.0, 3.0, 4.0, 4.0, 3.0, 3.0, 2.0, 3.0, 0.0, 3.0, 4.0, 3.0, 1.0, 2.0, 3.0, 3.0, 2.0, 2.0, 2.0, 0.0, 3.0, 0.0, 1.0, 0.0, 3.0, 2.0, 0.0, 3.0, 0.0, 3.0, 4.0, 0.0, 0.0, 0.0, 0.0, 1.0, 0.0, 2.0, 4.0, 0.0, 3.0, 3.0, 2.0, 4.0, 0.0, 4.0, 0.0, 1.0, 0.0, 3.0, 3.0, 0.0, 1.0, 3.0, 0.0, 3.0, 0.0, 1.0, 3.0, 3.0, 3.0, 3.0, 4.0, 4.0, 3.0, 3.0, 2.0, 0.0, 2.0, 1.0, 3.0, 2.0, 3.0, 3.0, 0.0, 0.0, 1.0, 1.0, 3.0, 0.0, 2.0, 4.0, 3.0, 3.0, 3.0, 4.0, 2.0, 0.0, 3.0, 3.0, 1.0, 3.0, 3.0, 2.0, 2.0, 3.0, 2.0, 3.0, 3.0, 3.0, 0.0, 4.0, 0.0, 0.0, 2.0, 3.0, 3.0, 0.0, 3.0, 3.0, 2.0, 0.0, 2.0, 1.0, 2.0, 3.0, 2.0, 4.0, 3.0, 3.0, 0.0, 3.0, 3.0, 2.0, 3.0, 2.0, 2.0, 2.0, 3.0, 1.0, 0.0, 0.0, 3.0, 1.0, 3.0, 3.0, 4.0, 4.0, 2.0, 3.0, 0.0, 0.0, 1.0, 3.0, 3.0, 3.0, 2.0, 3.0, 0.0, 2.0, 1.0, 2.0, 2.0, 2.0, 0.0, 0.0, 0.0, 1.0, 3.0, 2.0, 3.0, 3.0, 2.0, 3.0, 3.0, 1.0, 2.0, 4.0, 4.0, 1.0, 0.0, 3.0, 3.0, 3.0, 1.0, 0.0, 3.0, 4.0, 4.0, 3.0, 1.0, 2.0, 3.0, 2.0, 3.0, 2.0, 3.0, 0.0, 3.0, 0.0, 3.0, 3.0, 3.0, 2.0, 2.0, 4.0, 3.0, 2.0, 4.0, 3.0, 3.0, 2.0, 4.0, 2.0, 0.0, 0.0, 0.0, 0.0, 2.0, 1.0, 3.0, 3.0, 4.0, 1.0, 2.0, 4.0, 2.0, 1.0, 4.0, 0.0, 0.0, 4.0, 2.0, 2.0, 0.0, 4.0, 0.0, 3.0, 3.0, 3.0, 3.0, 4.0, 4.0, 0.0, 1.0, 2.0, 2.0, 1.0, 1.0, 2.0, 0.0, 4.0, 1.0, 0.0, 0.0, 0.0, 2.0, 2.0, 1.0, 2.0, 4.0, 3.0, 4.0, 1.0, 3.0, 4.0, 3.0, 0.0, 3.0, 1.0, 2.0, 0.0, 3.0, 2.0, 0.0, 0.0, 2.0, 2.0, 4.0, 3.0, 3.0, 1.0, 1.0, 2.0, 3.0, 0.0, 2.0, 3.0, 2.0, 3.0, 2.0, 0.0, 1.0, 1.0, 3.0, 3.0, 3.0, 0.0, 3.0, 4.0, 2.0, 4.0, 3.0, 0.0, 1.0, 3.0, 2.0, 4.0, 3.0, 3.0, 4.0, 3.0, 3.0, 1.0, 3.0, 1.0, 0.0, 4.0, 3.0, 0.0, 4.0, 4.0, 0.0, 3.0, 2.0, 2.0, 0.0, 2.0, 0.0, 3.0, 3.0, 1.0, 3.0, 2.0, 4.0, 1.0, 2.0, 4.0, 4.0, 0.0, 0.0, 3.0, 4.0, 0.0, 0.0, 3.0, 3.0, 0.0, 3.0, 1.0, 1.0, 0.0, 1.0, 3.0, 3.0, 0.0, 2.0, 1.0, 3.0, 4.0, 0.0, 0.0, 3.0, 4.0, 0.0, 3.0, 2.0, 4.0, 2.0, 3.0, 4.0, 1.0, 3.0, 1.0, 2.0, 0.0, 3.0, 3.0, 4.0, 3.0, 0.0, 4.0, 0.0, 3.0, 4.0, 3.0, 3.0, 3.0, 3.0, 0.0, 1.0, 0.0, 3.0, 2.0, 4.0, 3.0, 3.0, 3.0, 0.0, 0.0, 3.0, 1.0, 3.0, 3.0, 3.0, 3.0, 2.0, 4.0, 4.0, 3.0, 3.0, 3.0, 2.0, 0.0, 3.0, 4.0, 1.0, 2.0, 0.0, 4.0, 0.0, 3.0, 2.0, 2.0, 3.0, 3.0, 3.0, 0.0, 3.0, 3.0, 2.0, 4.0, 3.0, 3.0, 0.0, 2.0, 3.0, 2.0, 4.0, 0.0, 3.0, 0.0, 3.0, 3.0, 2.0, 0.0, 4.0, 3.0, 0.0, 0.0, 1.0, 1.0, 0.0, 2.0, 3.0, 0.0, 3.0, 1.0, 4.0, 4.0, 3.0, 0.0, 3.0, 3.0, 3.0, 3.0, 3.0, 1.0, 4.0, 3.0, 2.0, 3.0, 3.0, 3.0, 0.0, 3.0, 2.0, 3.0, 0.0, 3.0, 3.0, 3.0, 2.0, 0.0, 4.0, 3.0, 4.0, 4.0, 4.0, 4.0, 3.0, 4.0, 2.0, 3.0, 3.0, 3.0, 1.0, 0.0, 2.0, 4.0, 1.0, 3.0, 2.0, 0.0, 4.0, 0.0, 3.0, 1.0, 4.0, 3.0, 4.0, 3.0, 3.0, 0.0, 0.0, 0.0, 3.0, 3.0, 3.0, 2.0, 3.0, 0.0, 3.0, 1.0, 0.0, 3.0, 3.0, 2.0, 3.0, 0.0, 3.0, 1.0, 0.0, 3.0, 3.0, 1.0, 2.0, 3.0, 0.0, 1.0, 4.0, 3.0, 4.0, 3.0, 3.0, 0.0, 3.0, 4.0, 4.0, 3.0, 2.0, 2.0, 4.0, 0.0, 2.0, 2.0, 4.0, 3.0, 3.0, 2.0, 3.0, 3.0, 0.0, 3.0, 1.0, 3.0, 2.0, 2.0, 2.0, 3.0, 2.0, 3.0, 3.0, 3.0, 4.0, 2.0, 0.0, 0.0, 0.0, 3.0, 4.0, 3.0, 3.0, 0.0, 2.0, 0.0, 4.0, 3.0, 2.0, 3.0, 4.0, 0.0, 3.0, 3.0, 4.0, 1.0, 3.0, 2.0, 3.0, 4.0, 0.0, 3.0, 2.0, 3.0, 4.0, 3.0, 3.0, 3.0, 2.0, 3.0, 3.0, 3.0, 2.0, 0.0, 3.0, 0.0, 0.0, 2.0, 2.0, 2.0, 2.0, 2.0, 0.0, 0.0, 4.0, 4.0, 3.0, 3.0, 2.0, 4.0, 2.0, 3.0, 3.0, 3.0, 3.0, 0.0, 3.0, 3.0, 4.0, 3.0, 2.0, 1.0, 0.0, 1.0, 4.0, 4.0, 3.0, 3.0, 4.0, 0.0, 3.0, 3.0, 2.0, 3.0, 0.0, 0.0, 4.0, 1.0, 4.0, 2.0, 4.0, 3.0, 4.0, 3.0, 4.0, 4.0, 1.0, 0.0, 0.0, 3.0, 0.0, 3.0, 3.0, 1.0, 2.0, 0.0, 3.0, 4.0, 3.0, 0.0, 2.0, 3.0, 0.0, 2.0, 3.0, 3.0, 0.0, 0.0, 2.0, 0.0, 4.0, 0.0, 2.0, 0.0, 0.0, 3.0, 3.0, 2.0, 3.0, 1.0, 4.0, 0.0, 0.0, 3.0, 1.0, 3.0, 3.0, 3.0, 4.0, 3.0, 1.0, 4.0, 3.0, 1.0, 0.0, 2.0, 1.0, 2.0, 4.0, 0.0, 3.0, 3.0, 2.0, 0.0, 0.0, 3.0, 2.0, 0.0, 4.0, 0.0, 3.0, 3.0, 0.0, 3.0, 4.0, 3.0, 2.0, 4.0, 0.0, 0.0, 4.0, 0.0, 2.0, 3.0, 3.0, 3.0, 3.0, 4.0, 2.0, 2.0, 3.0, 3.0, 3.0, 2.0, 0.0, 2.0, 2.0, 2.0, 1.0, 1.0, 2.0, 2.0, 2.0, 2.0, 3.0, 3.0, 2.0, 2.0, 3.0, 3.0, 4.0, 3.0, 4.0, 3.0, 3.0, 0.0, 3.0, 0.0, 4.0, 0.0, 2.0, 0.0, 3.0, 3.0, 3.0, 2.0, 3.0, 3.0, 4.0, 4.0, 0.0, 3.0, 0.0, 2.0, 2.0, 4.0, 1.0, 2.0, 0.0, 3.0, 3.0, 0.0, 4.0, 3.0, 3.0, 0.0, 3.0, 0.0, 4.0, 3.0, 3.0, 0.0, 2.0, 4.0, 3.0, 3.0, 4.0, 0.0, 3.0, 3.0, 0.0, 2.0, 3.0, 2.0, 1.0, 3.0, 1.0, 2.0, 3.0, 3.0, 2.0, 4.0, 3.0, 1.0, 3.0, 4.0, 0.0, 3.0, 3.0, 0.0, 0.0, 3.0, 1.0, 3.0, 0.0, 2.0, 3.0, 2.0, 2.0, 4.0, 2.0, 3.0, 3.0, 1.0, 3.0, 3.0, 2.0, 3.0, 2.0, 3.0, 3.0, 2.0, 2.0, 2.0, 3.0, 3.0, 3.0, 1.0, 4.0, 0.0, 3.0, 2.0, 3.0, 1.0, 3.0, 0.0, 4.0, 3.0, 4.0, 3.0, 2.0, 3.0, 2.0, 0.0, 3.0, 4.0, 3.0, 3.0, 3.0, 0.0, 3.0, 2.0, 2.0, 3.0, 1.0, 1.0, 0.0, 0.0, 1.0, 1.0, 4.0, 3.0, 3.0, 2.0, 0.0, 2.0, 3.0, 2.0, 1.0, 3.0, 1.0, 3.0, 4.0, 1.0, 4.0, 3.0, 3.0, 4.0, 1.0, 2.0, 1.0, 4.0, 0.0, 3.0, 0.0, 1.0, 0.0, 3.0, 4.0, 0.0, 0.0, 3.0, 3.0, 3.0, 4.0, 3.0, 3.0, 3.0, 3.0, 4.0, 3.0, 3.0, 3.0, 3.0, 3.0, 3.0, 0.0, 2.0, 3.0, 3.0, 3.0, 2.0, 1.0, 2.0, 3.0, 4.0, 0.0, 0.0, 1.0, 3.0, 0.0, 1.0, 3.0, 0.0, 0.0, 3.0, 3.0, 3.0, 3.0, 3.0, 4.0, 3.0, 3.0, 0.0, 3.0, 0.0, 3.0, 0.0, 3.0, 0.0, 0.0, 0.0, 3.0, 4.0, 1.0, 0.0, 3.0, 2.0, 4.0, 3.0, 0.0, 3.0, 3.0, 3.0, 3.0, 3.0, 3.0, 0.0, 2.0, 0.0, 4.0, 4.0, 3.0, 3.0, 3.0, 3.0, 0.0, 4.0, 3.0, 3.0, 0.0, 0.0, 3.0, 3.0, 2.0, 3.0, 3.0, 4.0, 3.0, 4.0, 3.0, 0.0, 2.0, 2.0, 0.0, 0.0, 4.0, 0.0, 3.0, 3.0, 0.0, 2.0, 3.0, 4.0, 0.0, 1.0, 1.0, 4.0, 3.0, 4.0, 2.0, 1.0, 2.0, 2.0]"
   ]
  },
  {
   "cell_type": "code",
   "execution_count": 98,
   "metadata": {},
   "outputs": [
    {
     "data": {
      "text/plain": [
       "0.8457144794271715"
      ]
     },
     "execution_count": 98,
     "metadata": {},
     "output_type": "execute_result"
    }
   ],
   "source": [
    "ri = 0\n",
    "for i in range(10):\n",
    "    labels,centers = cluster(DATA01,K)\n",
    "    l01 = allTraResult(centers)\n",
    "    ri = ri + RI(l01,baseline)\n",
    "ri/10"
   ]
  },
  {
   "cell_type": "code",
   "execution_count": 75,
   "metadata": {},
   "outputs": [
    {
     "data": {
      "text/plain": [
       "0.8623755037185074"
      ]
     },
     "execution_count": 75,
     "metadata": {},
     "output_type": "execute_result"
    }
   ],
   "source": [
    "ri = 0\n",
    "for i in range(10):\n",
    "    labels,centers = cluster(DATA03,K)\n",
    "    l03 = allTraResult(centers)\n",
    "    ri = ri + RI(l03,baseline)\n",
    "ri/10"
   ]
  },
  {
   "cell_type": "code",
   "execution_count": 94,
   "metadata": {},
   "outputs": [
    {
     "data": {
      "text/plain": [
       "0.9054928978875676"
      ]
     },
     "execution_count": 94,
     "metadata": {},
     "output_type": "execute_result"
    }
   ],
   "source": [
    "ri = 0\n",
    "for i in range(10):\n",
    "    labels,centers = cluster(DATA05,K)\n",
    "    l05 = allTraResult(centers)\n",
    "    ri = ri + RI(l05,baseline)\n",
    "ri/10"
   ]
  },
  {
   "cell_type": "code",
   "execution_count": 96,
   "metadata": {},
   "outputs": [
    {
     "data": {
      "text/plain": [
       "0.9147615914410625"
      ]
     },
     "execution_count": 96,
     "metadata": {},
     "output_type": "execute_result"
    }
   ],
   "source": [
    "ri = 0\n",
    "for i in range(10):\n",
    "    labels,centers = cluster(DATA07,K)\n",
    "    l07 = allTraResult(centers)\n",
    "    ri = ri + RI(l07,baseline)\n",
    "ri/10"
   ]
  },
  {
   "cell_type": "code",
   "execution_count": 100,
   "metadata": {},
   "outputs": [
    {
     "data": {
      "text/plain": [
       "0.9164472510711412"
      ]
     },
     "execution_count": 100,
     "metadata": {},
     "output_type": "execute_result"
    }
   ],
   "source": [
    "ri = 0\n",
    "for i in range(10):\n",
    "    labels,centers = cluster(DATA09,K)\n",
    "    l09 = allTraResult(centers)\n",
    "    ri = ri + RI(l09,baseline)\n",
    "ri/10"
   ]
  },
  {
   "cell_type": "code",
   "execution_count": 103,
   "metadata": {},
   "outputs": [
    {
     "data": {
      "image/png": "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\n",
      "text/plain": [
       "<Figure size 432x288 with 2 Axes>"
      ]
     },
     "metadata": {
      "needs_background": "light"
     },
     "output_type": "display_data"
    }
   ],
   "source": [
    "γ = [0.1,0.3,0.5,0.7,0.9]\n",
    "RI = [0.845 , 0.862 , 0.905 , 0.915 , 0.916]\n",
    "CR = [70.168,22.750,13.548,9.689,7.541]\n",
    "\n",
    "fig,ax1 = plt.subplots()\n",
    "ax2 = ax1.twinx()           # 做镜像处理N\n",
    "ax1.plot(γ,RI,'g-',label='RI')\n",
    "ax2.plot(γ,CR,'b--',label='CR')\n",
    " \n",
    "ax1.set_xlabel(\"γ\")    #设置x轴标题\n",
    "ax1.set_ylabel('RI',color = 'g')   #设置Y1轴标题\n",
    "ax2.set_ylabel('CR',color = 'b') \n",
    "ax2.legend(loc=1)\n",
    "ax1.legend(loc=2)\n",
    "ax1.grid()\n",
    "plt.show()"
   ]
  },
 ],
 "metadata": {
  "kernelspec": {
   "display_name": "Python 3",
   "language": "python",
   "name": "python3"
  },
  "language_info": {
   "codemirror_mode": {
    "name": "ipython",
    "version": 3
   },
   "file_extension": ".py",
   "mimetype": "text/x-python",
   "name": "python",
   "nbconvert_exporter": "python",
   "pygments_lexer": "ipython3",
   "version": "3.7.6"
  }
 },
 "nbformat": 4,
 "nbformat_minor": 2
}
