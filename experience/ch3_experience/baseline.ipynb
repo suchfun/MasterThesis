{
 "cells": [
  {
   "cell_type": "code",
   "execution_count": 1,
   "metadata": {},
   "outputs": [],
   "source": [
    "import numpy as np \n",
    "import pandas as pd \n",
    "import matplotlib.pyplot as plt\n",
    "\n",
    "from sklearn.metrics.cluster import adjusted_rand_score\n",
    "\n",
    "from pyclustering.cluster.kmeans import kmeans\n",
    "from pyclustering.utils.metric import type_metric, distance_metric\n",
    "from pyclustering.cluster.center_initializer import kmeans_plusplus_initializer"
   ]
  },
  {
   "cell_type": "code",
   "execution_count": 2,
   "metadata": {},
   "outputs": [],
   "source": [
    "def df2array(df):\n",
    "    # 将数据以 ndarray 的形式读入内存\n",
    "    # [[x1,x2,...,x500,y1,y2,...,y500],[],...]\n",
    "    i = 0\n",
    "    data = np.array([])\n",
    "    while i <= len(df)-1:\n",
    "        arr_x = np.array(df['x'][i:i+POINTS_NUM_PER_TR])\n",
    "        arr_y = np.array(df['y'][i:i+POINTS_NUM_PER_TR])\n",
    "        arr = np.append(arr_x,arr_y)\n",
    "        if len(data)==0:\n",
    "            data = np.array([arr])\n",
    "        else:\n",
    "            data = np.append(data,[arr],axis=0)\n",
    "        i+=POINTS_NUM_PER_TR\n",
    "    return data"
   ]
  },
  {
   "cell_type": "code",
   "execution_count": 3,
   "metadata": {},
   "outputs": [],
   "source": [
    "# 确保定义的距离是有效的，非负性，同一性，对称性，直递性（三角不等式）\n",
    "\n",
    "def dist(tr1,tr2):\n",
    "    length = len(tr1)\n",
    "    if not(length == 1000):\n",
    "        # 传入参数形式为(k,1000)\n",
    "        # 计算k个簇心点更新前后的距离\n",
    "        distance = 0\n",
    "        for i in range(length):\n",
    "            pre = tr1[i]\n",
    "            now = tr2[i]\n",
    "            half = int(len(pre)/2)\n",
    "            x1 = pre[0:half]\n",
    "            y1 = pre[half:]\n",
    "            x2 = now[0:half]\n",
    "            y2 = now[half:]\n",
    "            deta_x = x1 - x2\n",
    "            deta_y = y1 - y2\n",
    "            distance = distance + np.sum((deta_x**2 + deta_y**2) ** 0.5) / len(x1)\n",
    "    else:       \n",
    "        half = int(length/2)\n",
    "        x1 = tr1[0:half]\n",
    "        y1 = tr1[half:]\n",
    "        x2 = tr2[0:half]\n",
    "        y2 = tr2[half:]\n",
    "        deta_x = x1 - x2\n",
    "        deta_y = y1 - y2\n",
    "        distance = np.sum((deta_x**2 + deta_y**2) ** 0.5) / len(x1)\n",
    "        # print(distance)\n",
    "    return distance"
   ]
  },
  {
   "cell_type": "code",
   "execution_count": 4,
   "metadata": {},
   "outputs": [],
   "source": [
    "def cluster(data,K):\n",
    "\n",
    "    metric = distance_metric(type_metric.USER_DEFINED, func=dist)\n",
    "    initial_centers = kmeans_plusplus_initializer(data, K).initialize()\n",
    "\n",
    "    kmeans_instance = kmeans(data, initial_centers, metric=metric)\n",
    "\n",
    "    kmeans_instance.process()\n",
    "    clusters = kmeans_instance.get_clusters()\n",
    "    centers = kmeans_instance.get_centers()\n",
    "    \n",
    "    return clusters,centers"
   ]
  },
  {
   "cell_type": "code",
   "execution_count": 5,
   "metadata": {},
   "outputs": [],
   "source": [
    "# ndarray中每个元素长度要相等\n",
    "\n",
    "\n",
    "def getKmeansResult(data,K):\n",
    "    clusters,centers = cluster(data,K)\n",
    "    labels = np.zeros(NUM_TR)\n",
    "    for i in range(K):\n",
    "        for j in range(NUM_TR):\n",
    "            if j in clusters[i]:\n",
    "                labels[j] = i\n",
    "    return labels,np.array(centers)"
   ]
  },
  {
   "cell_type": "code",
   "execution_count": 6,
   "metadata": {},
   "outputs": [],
   "source": [
    "def cost(data,labels,centers):\n",
    "    loss = 0\n",
    "    for i in range(len(data)):\n",
    "        loss = loss + dist(data[i],centers[int(labels[i])])\n",
    "    loss = loss / len(data)\n",
    "    return loss"
   ]
  },
  {
   "cell_type": "code",
   "execution_count": 7,
   "metadata": {},
   "outputs": [],
   "source": [
    "def chooseK(data,K):\n",
    "    x = np.arange(3,K+1)\n",
    "    y = np.zeros(len(x))\n",
    "    for k in range(3,K+1):\n",
    "        labels,centers = getKmeansResult(data,k)\n",
    "        y[k-3] = cost(data, labels,centers)\n",
    "    plt.plot(x,y)\n",
    "    plt.grid(True)\n",
    "    plt.show()"
   ]
  },
  {
   "cell_type": "code",
   "execution_count": 8,
   "metadata": {},
   "outputs": [],
   "source": [
    "POINTS_NUM_PER_TR = 500\n",
    "\n",
    "df = pd.read_csv('./data/all.csv')\n",
    "\n",
    "NUM_TR = int(len(df)/POINTS_NUM_PER_TR)"
   ]
  },
  {
   "cell_type": "code",
   "execution_count": 9,
   "metadata": {},
   "outputs": [],
   "source": [
    "data = df2array(df)"
   ]
  },
  {
   "cell_type": "code",
   "execution_count": null,
   "metadata": {},
   "outputs": [],
   "source": [
    "chooseK(data,20)"
   ]
  },
  {
   "cell_type": "code",
   "execution_count": 11,
   "metadata": {},
   "outputs": [],
   "source": [
    "K = 9"
   ]
  },
  {
   "cell_type": "code",
   "execution_count": 12,
   "metadata": {},
   "outputs": [],
   "source": [
    "labels,centers = getKmeansResult(data,K)"
   ]
  },
  {
   "cell_type": "markdown",
   "metadata": {},
   "source": [
    "### l1是标准答案"
   ]
  },
  {
   "cell_type": "code",
   "execution_count": 21,
   "metadata": {},
   "outputs": [],
   "source": [
    "baseline = labels.tolist()"
   ]
  },
  {
   "cell_type": "code",
   "execution_count": 29,
   "metadata": {},
   "outputs": [],
   "source": [
    "import json\n",
    "with open('./baseline.txt','w') as f:#dict转txt\n",
    "    json.dump(json.dumps(baseline),f)\n",
    "f.close()"
   ]
  },
  {
   "cell_type": "markdown",
   "metadata": {},
   "source": [
    "### l2是我们算法得到的聚类结果"
   ]
  },
  {
   "cell_type": "code",
   "execution_count": 25,
   "metadata": {},
   "outputs": [],
   "source": [
    "from itertools import combinations"
   ]
  },
  {
   "cell_type": "code",
   "execution_count": 26,
   "metadata": {},
   "outputs": [],
   "source": [
    "def RI(a,b):\n",
    "    ss = 0\n",
    "    dd = 0\n",
    "    sum = 0\n",
    "    for com in combinations(range(len(a)),2):\n",
    "        sum = sum + 1\n",
    "        if (a[com[0]] == a[com[1]]) and (b[com[0]] == b[com[1]]):\n",
    "            ss = ss + 1\n",
    "        if (a[com[0]] != a[com[1]]) and (b[com[0]] != b[com[1]]):\n",
    "            dd = dd + 1\n",
    "    return (ss + dd) / sum"
   ]
  },
  {
   "cell_type": "code",
   "execution_count": 27,
   "metadata": {},
   "outputs": [
    {
     "data": {
      "text/plain": [
       "0.9912201909671031"
      ]
     },
     "execution_count": 27,
     "metadata": {},
     "output_type": "execute_result"
    }
   ],
   "source": [
    "RI(baseline,l2)"
   ]
  },
  {
   "cell_type": "code",
   "execution_count": 15,
   "metadata": {},
   "outputs": [],
   "source": [
    "import json"
   ]
  },
  {
   "cell_type": "code",
   "execution_count": 17,
   "metadata": {},
   "outputs": [],
   "source": [
    "with open('./centers.txt','w') as f:#dict转txt\n",
    "    json.dump(json.dumps(centers.tolist()),f)\n",
    "f.close()"
   ]
  },
  {
   "cell_type": "code",
   "execution_count": null,
   "metadata": {},
   "outputs": [],
   "source": []
  }
 ],
 "metadata": {
  "kernelspec": {
   "display_name": "Python 3",
   "language": "python",
   "name": "python3"
  },
  "language_info": {
   "codemirror_mode": {
    "name": "ipython",
    "version": 3
   },
   "file_extension": ".py",
   "mimetype": "text/x-python",
   "name": "python",
   "nbconvert_exporter": "python",
   "pygments_lexer": "ipython3",
   "version": "3.7.4"
  }
 },
 "nbformat": 4,
 "nbformat_minor": 2
}
