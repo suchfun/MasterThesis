{
 "cells": [
  {
   "cell_type": "code",
   "execution_count": 1,
   "metadata": {},
   "outputs": [],
   "source": [
    "import numpy as np\n",
    "import pandas as pd\n",
    "import json\n",
    "\n",
    "from pyclustering.cluster.kmeans import kmeans\n",
    "from pyclustering.utils.metric import type_metric, distance_metric\n",
    "from pyclustering.cluster.center_initializer import kmeans_plusplus_initializer\n",
    "\n",
    "\n",
    "from sklearn.metrics.cluster import adjusted_rand_score\n",
    "\n",
    "import matplotlib.pyplot as plt\n",
    "from itertools import combinations"
   ]
  },
  {
   "cell_type": "markdown",
   "metadata": {},
   "source": [
    "### 还原轨迹数据所需函数"
   ]
  },
  {
   "cell_type": "code",
   "execution_count": 2,
   "metadata": {},
   "outputs": [],
   "source": [
    "def tr_fun(x,params):\n",
    "    '''\n",
    "    x: scalar,x-coordinate\n",
    "    params: ndarray,weights\n",
    "    module style: a0+a1*x+a2*x^2...\n",
    "    '''\n",
    "    x = np.array([x**i for i in range(len(params))])\n",
    "    ret = np.dot(x,params)\n",
    "    return ret"
   ]
  },
  {
   "cell_type": "markdown",
   "metadata": {},
   "source": [
    "### 全局聚类所需函数"
   ]
  },
  {
   "cell_type": "code",
   "execution_count": 3,
   "metadata": {},
   "outputs": [],
   "source": [
    "def df2array(df):\n",
    "    # 将数据以 ndarray 的形式读入内存\n",
    "    # [[x1,x2,...,x500,y1,y2,...,y500],[],...]\n",
    "    i = 0\n",
    "    data = np.array([])\n",
    "    while i <= len(df)-1:\n",
    "        arr_x = np.array(df['x'][i:i+500])\n",
    "        arr_y = np.array(df['y'][i:i+500])\n",
    "        arr = np.append(arr_x,arr_y)\n",
    "        if len(data)==0:\n",
    "            data = np.array([arr])\n",
    "        else:\n",
    "            data = np.append(data,[arr],axis=0)\n",
    "        i+=500\n",
    "    return data"
   ]
  },
  {
   "cell_type": "code",
   "execution_count": 4,
   "metadata": {},
   "outputs": [],
   "source": [
    "# 确保定义的距离是有效的，非负性，同一性，对称性，直递性（三角不等式）\n",
    "\n",
    "def dist(tr1,tr2):\n",
    "    length = len(tr1)\n",
    "    if not(length == 1000):\n",
    "        # 传入参数形式为(k,1000)\n",
    "        # 计算k个簇心点更新前后的距离\n",
    "        distance = 0\n",
    "        for i in range(length):\n",
    "            pre = tr1[i]\n",
    "            now = tr2[i]\n",
    "            half = int(len(pre)/2)\n",
    "            x1 = pre[0:half]\n",
    "            y1 = pre[half:]\n",
    "            x2 = now[0:half]\n",
    "            y2 = now[half:]\n",
    "            deta_x = x1 - x2\n",
    "            deta_y = y1 - y2\n",
    "            distance = distance + np.sum((deta_x**2 + deta_y**2) ** 0.5) / len(x1)\n",
    "    else:       \n",
    "        half = int(length/2)\n",
    "        x1 = tr1[0:half]\n",
    "        y1 = tr1[half:]\n",
    "        x2 = tr2[0:half]\n",
    "        y2 = tr2[half:]\n",
    "        deta_x = x1 - x2\n",
    "        deta_y = y1 - y2\n",
    "        distance = np.sum((deta_x**2 + deta_y**2) ** 0.5) / len(x1)\n",
    "        # print(distance)\n",
    "    return distance"
   ]
  },
  {
   "cell_type": "code",
   "execution_count": 5,
   "metadata": {},
   "outputs": [],
   "source": [
    "def cluster(data,K):\n",
    "\n",
    "    metric = distance_metric(type_metric.USER_DEFINED, func=dist)\n",
    "    initial_centers = kmeans_plusplus_initializer(data, K).initialize()\n",
    "\n",
    "    kmeans_instance = kmeans(data, initial_centers, metric=metric)\n",
    "\n",
    "    kmeans_instance.process()\n",
    "    clusters = kmeans_instance.get_clusters()\n",
    "    centers = kmeans_instance.get_centers()\n",
    "    \n",
    "    return clusters,centers"
   ]
  },
  {
   "cell_type": "code",
   "execution_count": 6,
   "metadata": {},
   "outputs": [],
   "source": [
    "# ndarray中每个元素长度要相等\n",
    "def getKmeansResult(data,K):\n",
    "    clusters,centers = cluster(data,K)\n",
    "    labels = np.zeros(NUM_TR)\n",
    "    for i in range(K):\n",
    "        for j in range(NUM_TR):\n",
    "            if j in clusters[i]:\n",
    "                labels[j] = i\n",
    "    return labels,np.array(centers)"
   ]
  },
  {
   "cell_type": "code",
   "execution_count": 7,
   "metadata": {},
   "outputs": [],
   "source": [
    "def cost(data,labels,centers):\n",
    "    loss = 0\n",
    "    for i in range(len(data)):\n",
    "        loss = loss + dist(data[i],centers[int(labels[i])])\n",
    "    loss = loss / len(data)\n",
    "    return loss # 平均每个簇的损失"
   ]
  },
  {
   "cell_type": "code",
   "execution_count": 8,
   "metadata": {},
   "outputs": [],
   "source": [
    "def chooseK(data,K):\n",
    "    x = np.arange(3,K+1)\n",
    "    y = np.zeros(len(x))\n",
    "    for k in range(3,K+1):\n",
    "        labels,centers = getKmeansResult(data,k)\n",
    "        y[k-3] = cost(data, labels,centers)\n",
    "    plt.plot(x,y)\n",
    "    plt.xlabel('K')\n",
    "    plt.ylabel('cost')\n",
    "    plt.grid(True)\n",
    "    plt.show()"
   ]
  },
  {
   "cell_type": "markdown",
   "metadata": {},
   "source": [
    "### main"
   ]
  },
  {
   "cell_type": "code",
   "execution_count": 9,
   "metadata": {},
   "outputs": [],
   "source": [
    "# resample 50 points each segment\n",
    "def resample(tr_id,x_minmax,params):\n",
    "    segment_num = len(params)\n",
    "    global RESAMPLE_DATA\n",
    "    matrix = np.zeros((segment_num * RESAMPLE_EACH_SEGMENT,3))\n",
    "    matrix[:,0] = tr_id\n",
    "    x = np.array([])\n",
    "    y = np.array([])\n",
    "    x_min = x_minmax[:,0]\n",
    "    x_max = x_minmax[:,1]\n",
    "    delta_x = (x_max - x_min)/RESAMPLE_EACH_SEGMENT\n",
    "    for i in range(segment_num):\n",
    "        lx = [x_min[i]+j*delta_x[i] for j in range(RESAMPLE_EACH_SEGMENT)]\n",
    "        ly = [tr_fun(in_x,params[i]) for in_x in lx]\n",
    "        x = np.append(x,lx)\n",
    "        y = np.append(y,ly)\n",
    "    matrix[:,1] = x\n",
    "    matrix[:,2] = y\n",
    "\n",
    "    if len(RESAMPLE_DATA) == 0:\n",
    "        RESAMPLE_DATA = matrix\n",
    "    else:\n",
    "        RESAMPLE_DATA = np.append(RESAMPLE_DATA,matrix,axis = 0)"
   ]
  },
  {
   "cell_type": "code",
   "execution_count": 10,
   "metadata": {},
   "outputs": [],
   "source": [
    "def para2df(file_name):\n",
    "    global RESAMPLE_DATA\n",
    "    global RESAMPLE_EACH_SEGMENT\n",
    "    RESAMPLE_DATA = np.array([])\n",
    "    with open(file_name,\"r\") as f:\n",
    "        data=json.load(f)\n",
    "    para_dic = json.loads(s=data)\n",
    "    #######\n",
    "    for k,v in para_dic.items():\n",
    "        RESAMPLE_EACH_SEGMENT = int(500/len(v['x_minmax']))\n",
    "        break\n",
    "    #######\n",
    "    print(RESAMPLE_EACH_SEGMENT)\n",
    "    for k,v in para_dic.items():\n",
    "        tr_id = k\n",
    "        params = np.array(v['param'])\n",
    "        x_minmax = np.array(v['x_minmax'])\n",
    "        resample(tr_id,x_minmax,params)\n",
    "    df = pd.DataFrame(RESAMPLE_DATA,columns=['person_id','x','y'])\n",
    "    return df"
   ]
  },
  {
   "cell_type": "code",
   "execution_count": 72,
   "metadata": {},
   "outputs": [],
   "source": [
    "def stableClustering(data,k):\n",
    "    labels,centers = getKmeansResult(data,k)\n",
    "    min_cost = cost(data,labels,centers)\n",
    "    for i in range(30): # 取30次聚类中损失函数最小的\n",
    "        labels_,centers_ = getKmeansResult(data,k)\n",
    "        cost_ = cost(data,labels_,centers_)\n",
    "        if cost_ < min_cost:\n",
    "            labels = labels_\n",
    "            centers = centers_\n",
    "            min_cost = cost_\n",
    "    print(min_cost)\n",
    "    return labels,centers"
   ]
  },
  {
   "cell_type": "code",
   "execution_count": null,
   "metadata": {},
   "outputs": [],
   "source": [
    "# 对于抽样率不为1的实验，生成所有轨迹的分类结果\n",
    "def allTraResult(centers):\n",
    "    result = []\n",
    "    for i in ALL_DATA:\n",
    "        distArr = []\n",
    "        for j in range(K):\n",
    "            distArr.append(dist(np.array(i),np.array(centers[j])))\n",
    "        minDist = np.min(distArr)\n",
    "        result.append(distArr.index(minDist))\n",
    "    return result"
   ]
  },
  {
   "cell_type": "code",
   "execution_count": 12,
   "metadata": {},
   "outputs": [],
   "source": [
    "def RI(a,b):\n",
    "    ss = 0\n",
    "    dd = 0\n",
    "    sum = 0\n",
    "    for com in combinations(range(len(a)),2):\n",
    "        sum = sum + 1\n",
    "        if (a[com[0]] == a[com[1]]) and (b[com[0]] == b[com[1]]):\n",
    "            ss = ss + 1\n",
    "        if (a[com[0]] != a[com[1]]) and (b[com[0]] != b[com[1]]):\n",
    "            dd = dd + 1\n",
    "    return (ss + dd) / sum"
   ]
  },
  {
   "cell_type": "code",
   "execution_count": 13,
   "metadata": {},
   "outputs": [],
   "source": [
    "RESAMPLE_EACH_SEGMENT = 0\n",
    "RESAMPLE_DATA = np.array([])"
   ]
  },
  {
   "cell_type": "code",
   "execution_count": 14,
   "metadata": {},
   "outputs": [],
   "source": [
    "all_df = pd.read_csv('./data/all.csv')\n",
    "ALL_DATA = df2array(all_df)"
   ]
  },
  {
   "cell_type": "markdown",
   "metadata": {},
   "source": [
    "### 加载第一个节点的参数文件"
   ]
  },
  {
   "cell_type": "code",
   "execution_count": 80,
   "metadata": {},
   "outputs": [
    {
     "name": "stdout",
     "output_type": "stream",
     "text": [
      "50\n"
     ]
    }
   ],
   "source": [
    "df1 = para2df('paraC1/node1para10.txt')"
   ]
  },
  {
   "cell_type": "markdown",
   "metadata": {},
   "source": [
    "### 加载第二个节点参数文件"
   ]
  },
  {
   "cell_type": "code",
   "execution_count": 81,
   "metadata": {},
   "outputs": [
    {
     "name": "stdout",
     "output_type": "stream",
     "text": [
      "50\n"
     ]
    }
   ],
   "source": [
    "df2 = para2df('paraC1/node2para10.txt')"
   ]
  },
  {
   "cell_type": "markdown",
   "metadata": {},
   "source": [
    "### 加载第三个节点参数文件"
   ]
  },
  {
   "cell_type": "code",
   "execution_count": 82,
   "metadata": {},
   "outputs": [
    {
     "name": "stdout",
     "output_type": "stream",
     "text": [
      "50\n"
     ]
    }
   ],
   "source": [
    "df3 = para2df('paraC1/node3para10.txt')"
   ]
  },
  {
   "cell_type": "code",
   "execution_count": 83,
   "metadata": {},
   "outputs": [],
   "source": [
    "frames = [df1, df2, df3]\n",
    "\n",
    "df = pd.concat(frames)"
   ]
  },
  {
   "cell_type": "code",
   "execution_count": 84,
   "metadata": {},
   "outputs": [
    {
     "data": {
      "text/plain": [
       "549"
      ]
     },
     "execution_count": 84,
     "metadata": {},
     "output_type": "execute_result"
    }
   ],
   "source": [
    "NUM_TR = int(len(df)/500)\n",
    "NUM_TR"
   ]
  },
  {
   "cell_type": "markdown",
   "metadata": {},
   "source": [
    "### 第一个实验：轨迹点数抽样"
   ]
  },
  {
   "cell_type": "code",
   "execution_count": 32,
   "metadata": {},
   "outputs": [],
   "source": [
    "DATA50 = df2array(df)"
   ]
  },
  {
   "cell_type": "code",
   "execution_count": 42,
   "metadata": {},
   "outputs": [],
   "source": [
    "DATA20 = df2array(df)"
   ]
  },
  {
   "cell_type": "code",
   "execution_count": 85,
   "metadata": {},
   "outputs": [],
   "source": [
    "DATA10 = df2array(df)"
   ]
  },
  {
   "cell_type": "code",
   "execution_count": 67,
   "metadata": {},
   "outputs": [],
   "source": [
    "DATA5 = df2array(df)"
   ]
  },
  {
   "cell_type": "code",
   "execution_count": 55,
   "metadata": {},
   "outputs": [],
   "source": [
    "DATA2 = df2array(df)"
   ]
  },
  {
   "cell_type": "code",
   "execution_count": 86,
   "metadata": {
    "scrolled": true
   },
   "outputs": [
    {
     "data": {
      "image/png": "[encoded data removed]",
      "text/plain": [
       "<Figure size 432x288 with 1 Axes>"
      ]
     },
     "metadata": {
      "needs_background": "light"
     },
     "output_type": "display_data"
    }
   ],
   "source": [
    "for i in range(len(DATA10)):\n",
    "    x = DATA10[i][:500]\n",
    "    y = DATA10[i][500:]\n",
    "    plt.plot(x,y,linewidth=0.5)\n",
    "    plt.xlabel('x')\n",
    "    plt.ylabel('y')\n",
    "    \n",
    "plt.show()"
   ]
  },
  {
   "cell_type": "code",
   "execution_count": 22,
   "metadata": {},
   "outputs": [
    {
     "data": {
      "image/png": "[encoded data removed]",
      "text/plain": [
       "<Figure size 432x288 with 1 Axes>"
      ]
     },
     "metadata": {
      "needs_background": "light"
     },
     "output_type": "display_data"
    }
   ],
   "source": [
    "for i in range(len(ALL_DATA)):\n",
    "    x = ALL_DATA[i][:500]\n",
    "    y = ALL_DATA[i][500:]\n",
    "    plt.plot(x,y,linewidth=0.5)\n",
    "    plt.xlabel('x')\n",
    "    plt.ylabel('y')\n",
    "    \n",
    "plt.show()"
   ]
  },
  {
   "cell_type": "code",
   "execution_count": 58,
   "metadata": {},
   "outputs": [],
   "source": [
    "K = 6"
   ]
  },
  {
   "cell_type": "code",
   "execution_count": 71,
   "metadata": {},
   "outputs": [],
   "source": [
    "baseline = [3.0, 4.0, 1.0, 0.0, 0.0, 4.0, 4.0, 0.0, 2.0, 0.0, 5.0, 3.0, 1.0, 4.0, 1.0, 2.0, 0.0, 3.0, 0.0, 4.0, 1.0, 4.0, 1.0, 2.0, 5.0, 1.0, 0.0, 0.0, 0.0, 1.0, 2.0, 2.0, 4.0, 5.0, 0.0, 0.0, 0.0, 0.0, 0.0, 2.0, 3.0, 5.0, 2.0, 1.0, 1.0, 5.0, 1.0, 0.0, 2.0, 1.0, 1.0, 0.0, 2.0, 1.0, 1.0, 0.0, 5.0, 4.0, 0.0, 1.0, 0.0, 4.0, 4.0, 0.0, 4.0, 0.0, 0.0, 5.0, 0.0, 4.0, 0.0, 2.0, 1.0, 0.0, 3.0, 5.0, 1.0, 3.0, 0.0, 3.0, 1.0, 0.0, 0.0, 1.0, 2.0, 0.0, 1.0, 3.0, 0.0, 2.0, 0.0, 5.0, 0.0, 0.0, 2.0, 3.0, 0.0, 0.0, 3.0, 0.0, 0.0, 0.0, 0.0, 0.0, 1.0, 0.0, 1.0, 0.0, 1.0, 4.0, 0.0, 0.0, 1.0, 5.0, 3.0, 1.0, 5.0, 5.0, 3.0, 0.0, 4.0, 0.0, 0.0, 0.0, 0.0, 5.0, 3.0, 2.0, 5.0, 1.0, 0.0, 3.0, 4.0, 4.0, 1.0, 2.0, 5.0, 0.0, 2.0, 2.0, 4.0, 1.0, 0.0, 4.0, 5.0, 3.0, 3.0, 4.0, 5.0, 4.0, 0.0, 4.0, 0.0, 0.0, 5.0, 0.0, 2.0, 0.0, 0.0, 0.0, 0.0, 0.0, 3.0, 0.0, 1.0, 2.0, 1.0, 1.0, 0.0, 2.0, 4.0, 5.0, 4.0, 1.0, 5.0, 4.0, 4.0, 3.0, 0.0, 5.0, 4.0, 4.0, 2.0, 0.0, 3.0, 5.0, 0.0, 0.0, 5.0, 1.0, 4.0, 2.0, 1.0, 1.0, 1.0, 4.0, 0.0, 1.0, 1.0, 0.0, 2.0, 4.0, 1.0, 1.0, 5.0, 4.0, 0.0, 0.0, 0.0, 3.0, 2.0, 0.0, 4.0, 0.0, 1.0, 3.0, 1.0, 3.0, 0.0, 3.0, 4.0, 4.0, 2.0, 5.0, 3.0, 3.0, 4.0, 4.0, 2.0, 1.0, 0.0, 0.0, 4.0, 0.0, 3.0, 0.0, 2.0, 3.0, 0.0, 5.0, 2.0, 5.0, 0.0, 3.0, 4.0, 3.0, 1.0, 5.0, 2.0, 0.0, 0.0, 5.0, 2.0, 4.0, 1.0, 0.0, 0.0, 5.0, 0.0, 1.0, 3.0, 0.0, 0.0, 1.0, 5.0, 1.0, 3.0, 0.0, 2.0, 2.0, 3.0, 1.0, 1.0, 5.0, 1.0, 5.0, 4.0, 1.0, 5.0, 0.0, 5.0, 2.0, 0.0, 3.0, 1.0, 1.0, 5.0, 0.0, 1.0, 1.0, 3.0, 0.0, 4.0, 0.0, 4.0, 5.0, 2.0, 0.0, 4.0, 4.0, 5.0, 4.0, 2.0, 0.0, 3.0, 3.0, 0.0, 0.0, 1.0, 0.0, 5.0, 0.0, 3.0, 5.0, 5.0, 4.0, 1.0, 5.0, 1.0, 1.0, 0.0, 3.0, 0.0, 1.0, 2.0, 2.0, 3.0, 3.0, 1.0, 2.0, 0.0, 5.0, 0.0, 1.0, 4.0, 4.0, 5.0, 4.0, 3.0, 1.0, 3.0, 5.0, 1.0, 5.0, 0.0, 5.0, 1.0, 0.0, 1.0, 1.0, 0.0, 0.0, 1.0, 2.0, 5.0, 1.0, 0.0, 4.0, 4.0, 0.0, 3.0, 0.0, 5.0, 4.0, 4.0, 2.0, 4.0, 1.0, 5.0, 1.0, 0.0, 0.0, 2.0, 1.0, 1.0, 0.0, 0.0, 0.0, 5.0, 0.0, 5.0, 0.0, 1.0, 0.0, 0.0, 4.0, 4.0, 4.0, 2.0, 4.0, 5.0, 2.0, 5.0, 0.0, 1.0, 2.0, 1.0, 4.0, 1.0, 1.0, 3.0, 0.0, 0.0, 0.0, 0.0, 0.0, 3.0, 2.0, 0.0, 4.0, 0.0, 1.0, 2.0, 4.0, 3.0, 4.0, 3.0, 4.0, 4.0, 4.0, 0.0, 3.0, 2.0, 2.0, 0.0, 3.0, 0.0, 0.0, 0.0, 4.0, 0.0, 5.0, 2.0, 0.0, 2.0, 5.0, 3.0, 3.0, 0.0, 2.0, 0.0, 5.0, 2.0, 2.0, 3.0, 1.0, 1.0, 2.0, 0.0, 5.0, 2.0, 4.0, 0.0, 4.0, 1.0, 1.0, 2.0, 2.0, 1.0, 0.0, 1.0, 0.0, 0.0, 3.0, 5.0, 5.0, 5.0, 5.0, 5.0, 0.0, 2.0, 0.0, 3.0, 0.0, 2.0, 3.0, 4.0, 0.0, 2.0, 0.0, 2.0, 5.0, 1.0, 2.0, 5.0, 0.0, 0.0, 3.0, 1.0, 0.0, 0.0, 1.0, 5.0, 3.0, 2.0, 4.0, 3.0, 3.0, 4.0, 0.0, 0.0, 4.0, 0.0, 5.0, 2.0, 5.0, 0.0, 0.0, 5.0, 4.0, 3.0, 1.0, 5.0, 3.0, 1.0, 1.0, 1.0, 2.0, 0.0, 1.0, 2.0, 0.0, 5.0, 1.0, 0.0, 1.0, 4.0, 2.0, 0.0, 1.0, 1.0, 1.0, 2.0, 5.0, 4.0, 4.0, 2.0, 1.0, 0.0, 0.0, 0.0, 4.0, 2.0, 5.0, 1.0, 5.0, 0.0, 0.0, 5.0]"
   ]
  },
  {
   "cell_type": "markdown",
   "metadata": {},
   "source": [
    "==================================================================="
   ]
  },
  {
   "cell_type": "code",
   "execution_count": 89,
   "metadata": {},
   "outputs": [
    {
     "name": "stdout",
     "output_type": "stream",
     "text": [
      "4.045324880317209\n",
      "4.069003835514857\n",
      "4.045324880317209\n",
      "4.062945427717388\n",
      "4.045324880317209\n",
      "0.9487748128647974 0.8303429121066618\n"
     ]
    }
   ],
   "source": [
    "ri = 0\n",
    "ari = 0\n",
    "N = 5\n",
    "for i in range(N):\n",
    "    l50,centers = stableClustering(DATA50,K)\n",
    "    ri = ri + RI(l50,baseline)\n",
    "    ari = ari + adjusted_rand_score(l50,baseline)\n",
    "print(ri/N,ari/N)"
   ]
  },
  {
   "cell_type": "code",
   "execution_count": 90,
   "metadata": {},
   "outputs": [
    {
     "name": "stdout",
     "output_type": "stream",
     "text": [
      "4.2648607360916175\n",
      "4.2601623622081055\n",
      "4.265704802074554\n",
      "4.2648607360916175\n",
      "4.265704802074554\n",
      "0.9933575312778375 0.9784259242617079\n"
     ]
    }
   ],
   "source": [
    "ri = 0\n",
    "ari = 0\n",
    "N = 5\n",
    "for i in range(N):\n",
    "    l20,centers = stableClustering(DATA20,K)\n",
    "    ri = ri + RI(l20,baseline)\n",
    "    ari = ari + adjusted_rand_score(l20,baseline)\n",
    "print(ri/N,ari/N)"
   ]
  },
  {
   "cell_type": "code",
   "execution_count": null,
   "metadata": {},
   "outputs": [
    {
     "name": "stdout",
     "output_type": "stream",
     "text": [
      "4.2938768422430895\n",
      "4.299407594347817\n",
      "4.299407594347817\n",
      "4.299407594347817\n"
     ]
    }
   ],
   "source": [
    "ri = 0\n",
    "ari = 0\n",
    "N = 5\n",
    "for i in range(N):\n",
    "    l10,centers = stableClustering(DATA10,K)\n",
    "    ri = ri + RI(l10,baseline)\n",
    "    ari = ari + adjusted_rand_score(l10,baseline)\n",
    "print(ri/N,ari/N)"
   ]
  },
  {
   "cell_type": "code",
   "execution_count": null,
   "metadata": {},
   "outputs": [],
   "source": [
    "ri = 0\n",
    "ari = 0\n",
    "N = 5\n",
    "for i in range(N):\n",
    "    l5,centers = stableClustering(DATA5,K)\n",
    "    ri = ri + RI(l5,baseline)\n",
    "    ari = ari + adjusted_rand_score(l5,baseline)\n",
    "print(ri/N,ari/N)"
   ]
  },
  {
   "cell_type": "code",
   "execution_count": null,
   "metadata": {},
   "outputs": [],
   "source": [
    "ri = 0\n",
    "ari = 0\n",
    "N = 5\n",
    "for i in range(N):\n",
    "    l2,centers = stableClustering(DATA2,K)\n",
    "    ri = ri + RI(l2,baseline)\n",
    "    ari = ari + adjusted_rand_score(l2,baseline)\n",
    "print(ri/N,ari/N)"
   ]
  },
  {
   "cell_type": "markdown",
   "metadata": {},
   "source": [
    "+++++++++++++++++++++++++++++++++++++++++++++++++++++++++++++++"
   ]
  },
  {
   "cell_type": "code",
   "execution_count": 73,
   "metadata": {},
   "outputs": [
    {
     "name": "stdout",
     "output_type": "stream",
     "text": [
      "4.325291074096967\n",
      "1.0 1.0\n"
     ]
    }
   ],
   "source": [
    "# 该实验说明，在原始数据集上的聚类结果与baseline一样\n",
    "ri = 0\n",
    "ari = 0\n",
    "N = 1\n",
    "for i in range(N):\n",
    "    l,centers = stableClustering(ALL_DATA,K)\n",
    "    ri = ri + RI(l,baseline)\n",
    "    ari = ari + adjusted_rand_score(l,baseline)\n",
    "print(ri/N,ari/N)"
   ]
  },
  {
   "cell_type": "code",
   "execution_count": null,
   "metadata": {},
   "outputs": [],
   "source": [
    "# 聚类直接产生的结果 VS. 通过簇心点来对全局数据打标签的结果\n",
    "# 理应应该是一样的\n",
    "ri = 0\n",
    "ari = 0\n",
    "N = 1\n",
    "for i in range(N):\n",
    "    l1,centers = stableClustering(ALL_DATA,K)\n",
    "    l2 = allTraResult(enters)\n",
    "    ri = ri + RI(l1,l2)\n",
    "    ari = ari + adjusted_rand_score(l1,l2)\n",
    "print(ri/N,ari/N)"
   ]
  },
  {
   "cell_type": "code",
   "execution_count": 629,
   "metadata": {
    "scrolled": true
   },
   "outputs": [
    {
     "data": {
      "image/png": "[encoded data removed]",
      "text/plain": [
       "<matplotlib.figure.Figure at 0x2599b500fd0>"
      ]
     },
     "metadata": {},
     "output_type": "display_data"
    }
   ],
   "source": [
    "N = [50,20,10,5,2]\n",
    "RI = [ 0.854 , 0.899 , 0.911 , 0.931 , 0.959]\n",
    "CR = [56.017, 26.452, 14.063 , 7.341, 3.008]\n",
    "\n",
    "fig,ax1 = plt.subplots()\n",
    "ax2 = ax1.twinx()           # 做镜像处理N\n",
    "ax1.plot(delta,RI,'g-',label='RI')\n",
    "ax2.plot(delta,CR,'b--',label='CR')\n",
    " \n",
    "ax1.set_xlabel(\"N\")    #设置x轴标题\n",
    "ax1.set_ylabel('RI',color = 'g')   #设置Y1轴标题\n",
    "ax2.set_ylabel('CR',color = 'b') \n",
    "ax2.legend(loc=1)\n",
    "ax1.legend(loc=2)\n",
    "ax1.grid()\n",
    "plt.show()"
   ]
  },
  {
   "cell_type": "markdown",
   "metadata": {
    "collapsed": true
   },
   "source": [
    "### End"
   ]
  }
 ],
 "metadata": {
  "kernelspec": {
   "display_name": "Python 3",
   "language": "python",
   "name": "python3"
  },
  "language_info": {
   "codemirror_mode": {
    "name": "ipython",
    "version": 3
   },
   "file_extension": ".py",
   "mimetype": "text/x-python",
   "name": "python",
   "nbconvert_exporter": "python",
   "pygments_lexer": "ipython3",
   "version": "3.7.6"
  }
 },
 "nbformat": 4,
 "nbformat_minor": 2
}
