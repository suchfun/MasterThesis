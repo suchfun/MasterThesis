{
 "cells": [
  {
   "cell_type": "code",
   "execution_count": 1,
   "metadata": {},
   "outputs": [],
   "source": [
    "import numpy as np\n",
    "import pandas as pd\n",
    "import json\n",
    "\n",
    "from pyclustering.cluster.kmeans import kmeans\n",
    "from pyclustering.utils.metric import type_metric, distance_metric\n",
    "from pyclustering.cluster.center_initializer import kmeans_plusplus_initializer\n",
    "\n",
    "\n",
    "from sklearn.metrics.cluster import adjusted_rand_score\n",
    "\n",
    "import matplotlib.pyplot as plt\n",
    "from itertools import combinations"
   ]
  },
  {
   "cell_type": "markdown",
   "metadata": {},
   "source": [
    "### 还原轨迹数据所需函数"
   ]
  },
  {
   "cell_type": "code",
   "execution_count": 2,
   "metadata": {},
   "outputs": [],
   "source": [
    "def tr_fun(x,params):\n",
    "    '''\n",
    "    x: scalar,x-coordinate\n",
    "    params: ndarray,weights\n",
    "    module style: a0+a1*x+a2*x^2...\n",
    "    '''\n",
    "    x = np.array([x**i for i in range(len(params))])\n",
    "    ret = np.dot(x,params)\n",
    "    return ret"
   ]
  },
  {
   "cell_type": "markdown",
   "metadata": {},
   "source": [
    "### 全局聚类所需函数"
   ]
  },
  {
   "cell_type": "code",
   "execution_count": 3,
   "metadata": {},
   "outputs": [],
   "source": [
    "def df2array(df):\n",
    "    # 将数据以 ndarray 的形式读入内存\n",
    "    # [[x1,x2,...,x500,y1,y2,...,y500],[],...]\n",
    "    i = 0\n",
    "    data = np.array([])\n",
    "    while i <= len(df)-1:\n",
    "        arr_x = np.array(df['x'][i:i+500])\n",
    "        arr_y = np.array(df['y'][i:i+500])\n",
    "        arr = np.append(arr_x,arr_y)\n",
    "        if len(data)==0:\n",
    "            data = np.array([arr])\n",
    "        else:\n",
    "            data = np.append(data,[arr],axis=0)\n",
    "        i+=500\n",
    "    return data"
   ]
  },
  {
   "cell_type": "code",
   "execution_count": 4,
   "metadata": {},
   "outputs": [],
   "source": [
    "# 确保定义的距离是有效的，非负性，同一性，对称性，直递性（三角不等式）\n",
    "\n",
    "def dist(tr1,tr2):\n",
    "    length = len(tr1)\n",
    "    if not(length == 1000):\n",
    "        # 传入参数形式为(k,1000)\n",
    "        # 计算k个簇心点更新前后的距离\n",
    "        distance = 0\n",
    "        for i in range(length):\n",
    "            pre = tr1[i]\n",
    "            now = tr2[i]\n",
    "            half = int(len(pre)/2)\n",
    "            x1 = pre[0:half]\n",
    "            y1 = pre[half:]\n",
    "            x2 = now[0:half]\n",
    "            y2 = now[half:]\n",
    "            deta_x = x1 - x2\n",
    "            deta_y = y1 - y2\n",
    "            distance = distance + np.sum((deta_x**2 + deta_y**2) ** 0.5) / len(x1)\n",
    "    else:       \n",
    "        half = int(length/2)\n",
    "        x1 = tr1[0:half]\n",
    "        y1 = tr1[half:]\n",
    "        x2 = tr2[0:half]\n",
    "        y2 = tr2[half:]\n",
    "        deta_x = x1 - x2\n",
    "        deta_y = y1 - y2\n",
    "        distance = np.sum((deta_x**2 + deta_y**2) ** 0.5) / len(x1)\n",
    "        # print(distance)\n",
    "    return distance"
   ]
  },
  {
   "cell_type": "code",
   "execution_count": 5,
   "metadata": {},
   "outputs": [],
   "source": [
    "def cluster(data,K):\n",
    "\n",
    "    metric = distance_metric(type_metric.USER_DEFINED, func=dist)\n",
    "    initial_centers = kmeans_plusplus_initializer(data, K).initialize()\n",
    "\n",
    "    kmeans_instance = kmeans(data, initial_centers, metric=metric)\n",
    "\n",
    "    kmeans_instance.process()\n",
    "    clusters = kmeans_instance.get_clusters()\n",
    "    centers = kmeans_instance.get_centers()\n",
    "    \n",
    "    return clusters,centers"
   ]
  },
  {
   "cell_type": "code",
   "execution_count": 31,
   "metadata": {},
   "outputs": [],
   "source": [
    "# ndarray中每个元素长度要相等\n",
    "def getKmeansResult(data,K):\n",
    "    clusters,centers = cluster(data,K)\n",
    "    labels = np.zeros(len(data))\n",
    "    for i in range(K):\n",
    "        for j in range(len(data)):\n",
    "            if j in clusters[i]:\n",
    "                labels[j] = i\n",
    "    return labels,np.array(centers)"
   ]
  },
  {
   "cell_type": "code",
   "execution_count": 7,
   "metadata": {},
   "outputs": [],
   "source": [
    "def cost(data,labels,centers):\n",
    "    loss = 0\n",
    "    for i in range(len(data)):\n",
    "        loss = loss + dist(data[i],centers[int(labels[i])])\n",
    "    loss = loss / len(data)\n",
    "    return loss # 平均每个簇的损失"
   ]
  },
  {
   "cell_type": "code",
   "execution_count": 8,
   "metadata": {},
   "outputs": [],
   "source": [
    "def chooseK(data,K):\n",
    "    x = np.arange(3,K+1)\n",
    "    y = np.zeros(len(x))\n",
    "    for k in range(3,K+1):\n",
    "        labels,centers = getKmeansResult(data,k)\n",
    "        y[k-3] = cost(data, labels,centers)\n",
    "    plt.plot(x,y)\n",
    "    plt.xlabel('K')\n",
    "    plt.ylabel('cost')\n",
    "    plt.grid(True)\n",
    "    plt.show()"
   ]
  },
  {
   "cell_type": "markdown",
   "metadata": {},
   "source": [
    "### main"
   ]
  },
  {
   "cell_type": "code",
   "execution_count": 9,
   "metadata": {},
   "outputs": [],
   "source": [
    "# resample 50 points each segment\n",
    "def resample(tr_id,x_minmax,params):\n",
    "    segment_num = len(params)\n",
    "    global RESAMPLE_DATA\n",
    "    matrix = np.zeros((segment_num * RESAMPLE_EACH_SEGMENT,3))\n",
    "    matrix[:,0] = tr_id\n",
    "    x = np.array([])\n",
    "    y = np.array([])\n",
    "    x_min = x_minmax[:,0]\n",
    "    x_max = x_minmax[:,1]\n",
    "    delta_x = (x_max - x_min)/RESAMPLE_EACH_SEGMENT\n",
    "    for i in range(segment_num):\n",
    "        lx = [x_min[i]+j*delta_x[i] for j in range(RESAMPLE_EACH_SEGMENT)]\n",
    "        ly = [tr_fun(in_x,params[i]) for in_x in lx]\n",
    "        x = np.append(x,lx)\n",
    "        y = np.append(y,ly)\n",
    "    matrix[:,1] = x\n",
    "    matrix[:,2] = y\n",
    "\n",
    "    if len(RESAMPLE_DATA) == 0:\n",
    "        RESAMPLE_DATA = matrix\n",
    "    else:\n",
    "        RESAMPLE_DATA = np.append(RESAMPLE_DATA,matrix,axis = 0)"
   ]
  },
  {
   "cell_type": "code",
   "execution_count": 10,
   "metadata": {},
   "outputs": [],
   "source": [
    "def para2df(file_name):\n",
    "    global RESAMPLE_DATA\n",
    "    global RESAMPLE_EACH_SEGMENT\n",
    "    RESAMPLE_DATA = np.array([])\n",
    "    with open(file_name,\"r\") as f:\n",
    "        data=json.load(f)\n",
    "    para_dic = json.loads(s=data)\n",
    "    #######\n",
    "    for k,v in para_dic.items():\n",
    "        RESAMPLE_EACH_SEGMENT = int(500/len(v['x_minmax']))\n",
    "        break\n",
    "    #######\n",
    "    print(RESAMPLE_EACH_SEGMENT)\n",
    "    for k,v in para_dic.items():\n",
    "        tr_id = k\n",
    "        params = np.array(v['param'])\n",
    "        x_minmax = np.array(v['x_minmax'])\n",
    "        resample(tr_id,x_minmax,params)\n",
    "    df = pd.DataFrame(RESAMPLE_DATA,columns=['person_id','x','y'])\n",
    "    return df"
   ]
  },
  {
   "cell_type": "code",
   "execution_count": 11,
   "metadata": {},
   "outputs": [],
   "source": [
    "def RI(a,b):\n",
    "    ss = 0\n",
    "    dd = 0\n",
    "    sum = 0\n",
    "    for com in combinations(range(len(a)),2):\n",
    "        sum = sum + 1\n",
    "        if (a[com[0]] == a[com[1]]) and (b[com[0]] == b[com[1]]):\n",
    "            ss = ss + 1\n",
    "        if (a[com[0]] != a[com[1]]) and (b[com[0]] != b[com[1]]):\n",
    "            dd = dd + 1\n",
    "    return (ss + dd) / sum"
   ]
  },
  {
   "cell_type": "code",
   "execution_count": 12,
   "metadata": {},
   "outputs": [],
   "source": [
    "# 对于抽样率不为1的实验，生成所有轨迹的分类结果\n",
    "def allTraResult(centers):\n",
    "    result = []\n",
    "    for i in ALL_DATA:\n",
    "        distArr = []\n",
    "        for j in range(K):\n",
    "            distArr.append(dist(np.array(i),np.array(centers[j])))\n",
    "        minDist = np.min(distArr)\n",
    "        result.append(distArr.index(minDist))\n",
    "    return result"
   ]
  },
  {
   "cell_type": "code",
   "execution_count": 13,
   "metadata": {},
   "outputs": [],
   "source": [
    "def stableClustering(data,k):\n",
    "    labels,centers = getKmeansResult(data,k)\n",
    "    min_cost = cost(data,labels,centers)\n",
    "    for i in range(50): # 取50次聚类中损失函数最小的\n",
    "        labels_,centers_ = getKmeansResult(data,k)\n",
    "        cost_ = cost(data,labels_,centers_)\n",
    "        if cost_ < min_cost:\n",
    "            labels = labels_\n",
    "            centers = centers_\n",
    "            min_cost = cost_\n",
    "    print(min_cost)\n",
    "    return labels,centers"
   ]
  },
  {
   "cell_type": "code",
   "execution_count": 14,
   "metadata": {},
   "outputs": [],
   "source": [
    "RESAMPLE_EACH_SEGMENT = 0\n",
    "RESAMPLE_DATA = np.array([])"
   ]
  },
  {
   "cell_type": "code",
   "execution_count": 15,
   "metadata": {},
   "outputs": [],
   "source": [
    "all_df = pd.read_csv('./data/all.csv')\n",
    "ALL_DATA = df2array(all_df)"
   ]
  },
  {
   "cell_type": "markdown",
   "metadata": {},
   "source": [
    "### 加载第一个节点的参数文件"
   ]
  },
  {
   "cell_type": "code",
   "execution_count": 75,
   "metadata": {},
   "outputs": [
    {
     "name": "stdout",
     "output_type": "stream",
     "text": [
      "25\n"
     ]
    }
   ],
   "source": [
    "df1 = para2df('paraC1/node1K5a09.txt')"
   ]
  },
  {
   "cell_type": "markdown",
   "metadata": {},
   "source": [
    "### 加载第二个节点参数文件"
   ]
  },
  {
   "cell_type": "code",
   "execution_count": 76,
   "metadata": {},
   "outputs": [
    {
     "name": "stdout",
     "output_type": "stream",
     "text": [
      "25\n"
     ]
    }
   ],
   "source": [
    "df2 = para2df('paraC1/node2K5a09.txt')"
   ]
  },
  {
   "cell_type": "markdown",
   "metadata": {},
   "source": [
    "### 加载第三个节点参数文件"
   ]
  },
  {
   "cell_type": "code",
   "execution_count": 77,
   "metadata": {},
   "outputs": [
    {
     "name": "stdout",
     "output_type": "stream",
     "text": [
      "25\n"
     ]
    }
   ],
   "source": [
    "df3 = para2df('paraC1/node3K5a09.txt')"
   ]
  },
  {
   "cell_type": "code",
   "execution_count": 78,
   "metadata": {},
   "outputs": [],
   "source": [
    "frames = [df1, df2, df3]\n",
    "\n",
    "df = pd.concat(frames)"
   ]
  },
  {
   "cell_type": "code",
   "execution_count": 79,
   "metadata": {},
   "outputs": [
    {
     "data": {
      "text/plain": [
       "485"
      ]
     },
     "execution_count": 79,
     "metadata": {},
     "output_type": "execute_result"
    }
   ],
   "source": [
    "NUM_TR = int(len(df)/500)\n",
    "NUM_TR "
   ]
  },
  {
   "cell_type": "markdown",
   "metadata": {
    "collapsed": true
   },
   "source": [
    "### 实验二：轨迹数量抽样"
   ]
  },
  {
   "cell_type": "code",
   "execution_count": 62,
   "metadata": {},
   "outputs": [],
   "source": [
    "DATA01 = df2array(df)"
   ]
  },
  {
   "cell_type": "code",
   "execution_count": 42,
   "metadata": {},
   "outputs": [],
   "source": [
    "DATA03 = df2array(df)"
   ]
  },
  {
   "cell_type": "code",
   "execution_count": 52,
   "metadata": {},
   "outputs": [],
   "source": [
    "DATA05 = df2array(df)"
   ]
  },
  {
   "cell_type": "code",
   "execution_count": 70,
   "metadata": {},
   "outputs": [],
   "source": [
    "DATA07 = df2array(df)"
   ]
  },
  {
   "cell_type": "code",
   "execution_count": 80,
   "metadata": {},
   "outputs": [],
   "source": [
    "DATA09 = df2array(df)"
   ]
  },
  {
   "cell_type": "code",
   "execution_count": 85,
   "metadata": {},
   "outputs": [
    {
     "name": "stdout",
     "output_type": "stream",
     "text": [
      "47 157 271 378 485\n"
     ]
    }
   ],
   "source": [
    "print(len(DATA01),len(DATA03),len(DATA05),len(DATA07),len(DATA09))"
   ]
  },
  {
   "cell_type": "code",
   "execution_count": 100,
   "metadata": {},
   "outputs": [],
   "source": [
    "def genSJData(data):\n",
    "    length = len(ALL_DATA)\n",
    "    pro = [1/length for i in range(length)]\n",
    "    tmp = np.random.choice(range(length),len(data),p = pro,replace=False)\n",
    "    SJData = ALL_DATA[tmp]\n",
    "    return SJData"
   ]
  },
  {
   "cell_type": "code",
   "execution_count": 104,
   "metadata": {},
   "outputs": [],
   "source": [
    "SJ01 = genSJData(DATA01)\n",
    "SJ03 = genSJData(DATA03)\n",
    "SJ05 = genSJData(DATA05)\n",
    "SJ07 = genSJData(DATA07)\n",
    "SJ09 = genSJData(DATA09)"
   ]
  },
  {
   "cell_type": "code",
   "execution_count": 115,
   "metadata": {},
   "outputs": [
    {
     "data": {
      "image/png": "[encoded data removed]",
      "text/plain": [
       "<Figure size 432x288 with 1 Axes>"
      ]
     },
     "metadata": {
      "needs_background": "light"
     },
     "output_type": "display_data"
    }
   ],
   "source": [
    "for i in range(len(SJ09)):\n",
    "    x = SJ09[i][:500]\n",
    "    y = SJ09[i][500:]\n",
    "    plt.plot(x,y,linewidth=0.2)\n",
    "    plt.xlabel('x')\n",
    "    plt.ylabel('y')\n",
    "    \n",
    "plt.show()"
   ]
  },
  {
   "cell_type": "code",
   "execution_count": 73,
   "metadata": {},
   "outputs": [],
   "source": [
    "K = 6"
   ]
  },
  {
   "cell_type": "code",
   "execution_count": 74,
   "metadata": {},
   "outputs": [],
   "source": [
    "baseline = [3.0, 4.0, 1.0, 0.0, 0.0, 4.0, 4.0, 0.0, 2.0, 0.0, 5.0, 3.0, 1.0, 4.0, 1.0, 2.0, 0.0, 3.0, 0.0, 4.0, 1.0, 4.0, 1.0, 2.0, 5.0, 1.0, 0.0, 0.0, 0.0, 1.0, 2.0, 2.0, 4.0, 5.0, 0.0, 0.0, 0.0, 0.0, 0.0, 2.0, 3.0, 5.0, 2.0, 1.0, 1.0, 5.0, 1.0, 0.0, 2.0, 1.0, 1.0, 0.0, 2.0, 1.0, 1.0, 0.0, 5.0, 4.0, 0.0, 1.0, 0.0, 4.0, 4.0, 0.0, 4.0, 0.0, 0.0, 5.0, 0.0, 4.0, 0.0, 2.0, 1.0, 0.0, 3.0, 5.0, 1.0, 3.0, 0.0, 3.0, 1.0, 0.0, 0.0, 1.0, 2.0, 0.0, 1.0, 3.0, 0.0, 2.0, 0.0, 5.0, 0.0, 0.0, 2.0, 3.0, 0.0, 0.0, 3.0, 0.0, 0.0, 0.0, 0.0, 0.0, 1.0, 0.0, 1.0, 0.0, 1.0, 4.0, 0.0, 0.0, 1.0, 5.0, 3.0, 1.0, 5.0, 5.0, 3.0, 0.0, 4.0, 0.0, 0.0, 0.0, 0.0, 5.0, 3.0, 2.0, 5.0, 1.0, 0.0, 3.0, 4.0, 4.0, 1.0, 2.0, 5.0, 0.0, 2.0, 2.0, 4.0, 1.0, 0.0, 4.0, 5.0, 3.0, 3.0, 4.0, 5.0, 4.0, 0.0, 4.0, 0.0, 0.0, 5.0, 0.0, 2.0, 0.0, 0.0, 0.0, 0.0, 0.0, 3.0, 0.0, 1.0, 2.0, 1.0, 1.0, 0.0, 2.0, 4.0, 5.0, 4.0, 1.0, 5.0, 4.0, 4.0, 3.0, 0.0, 5.0, 4.0, 4.0, 2.0, 0.0, 3.0, 5.0, 0.0, 0.0, 5.0, 1.0, 4.0, 2.0, 1.0, 1.0, 1.0, 4.0, 0.0, 1.0, 1.0, 0.0, 2.0, 4.0, 1.0, 1.0, 5.0, 4.0, 0.0, 0.0, 0.0, 3.0, 2.0, 0.0, 4.0, 0.0, 1.0, 3.0, 1.0, 3.0, 0.0, 3.0, 4.0, 4.0, 2.0, 5.0, 3.0, 3.0, 4.0, 4.0, 2.0, 1.0, 0.0, 0.0, 4.0, 0.0, 3.0, 0.0, 2.0, 3.0, 0.0, 5.0, 2.0, 5.0, 0.0, 3.0, 4.0, 3.0, 1.0, 5.0, 2.0, 0.0, 0.0, 5.0, 2.0, 4.0, 1.0, 0.0, 0.0, 5.0, 0.0, 1.0, 3.0, 0.0, 0.0, 1.0, 5.0, 1.0, 3.0, 0.0, 2.0, 2.0, 3.0, 1.0, 1.0, 5.0, 1.0, 5.0, 4.0, 1.0, 5.0, 0.0, 5.0, 2.0, 0.0, 3.0, 1.0, 1.0, 5.0, 0.0, 1.0, 1.0, 3.0, 0.0, 4.0, 0.0, 4.0, 5.0, 2.0, 0.0, 4.0, 4.0, 5.0, 4.0, 2.0, 0.0, 3.0, 3.0, 0.0, 0.0, 1.0, 0.0, 5.0, 0.0, 3.0, 5.0, 5.0, 4.0, 1.0, 5.0, 1.0, 1.0, 0.0, 3.0, 0.0, 1.0, 2.0, 2.0, 3.0, 3.0, 1.0, 2.0, 0.0, 5.0, 0.0, 1.0, 4.0, 4.0, 5.0, 4.0, 3.0, 1.0, 3.0, 5.0, 1.0, 5.0, 0.0, 5.0, 1.0, 0.0, 1.0, 1.0, 0.0, 0.0, 1.0, 2.0, 5.0, 1.0, 0.0, 4.0, 4.0, 0.0, 3.0, 0.0, 5.0, 4.0, 4.0, 2.0, 4.0, 1.0, 5.0, 1.0, 0.0, 0.0, 2.0, 1.0, 1.0, 0.0, 0.0, 0.0, 5.0, 0.0, 5.0, 0.0, 1.0, 0.0, 0.0, 4.0, 4.0, 4.0, 2.0, 4.0, 5.0, 2.0, 5.0, 0.0, 1.0, 2.0, 1.0, 4.0, 1.0, 1.0, 3.0, 0.0, 0.0, 0.0, 0.0, 0.0, 3.0, 2.0, 0.0, 4.0, 0.0, 1.0, 2.0, 4.0, 3.0, 4.0, 3.0, 4.0, 4.0, 4.0, 0.0, 3.0, 2.0, 2.0, 0.0, 3.0, 0.0, 0.0, 0.0, 4.0, 0.0, 5.0, 2.0, 0.0, 2.0, 5.0, 3.0, 3.0, 0.0, 2.0, 0.0, 5.0, 2.0, 2.0, 3.0, 1.0, 1.0, 2.0, 0.0, 5.0, 2.0, 4.0, 0.0, 4.0, 1.0, 1.0, 2.0, 2.0, 1.0, 0.0, 1.0, 0.0, 0.0, 3.0, 5.0, 5.0, 5.0, 5.0, 5.0, 0.0, 2.0, 0.0, 3.0, 0.0, 2.0, 3.0, 4.0, 0.0, 2.0, 0.0, 2.0, 5.0, 1.0, 2.0, 5.0, 0.0, 0.0, 3.0, 1.0, 0.0, 0.0, 1.0, 5.0, 3.0, 2.0, 4.0, 3.0, 3.0, 4.0, 0.0, 0.0, 4.0, 0.0, 5.0, 2.0, 5.0, 0.0, 0.0, 5.0, 4.0, 3.0, 1.0, 5.0, 3.0, 1.0, 1.0, 1.0, 2.0, 0.0, 1.0, 2.0, 0.0, 5.0, 1.0, 0.0, 1.0, 4.0, 2.0, 0.0, 1.0, 1.0, 1.0, 2.0, 5.0, 4.0, 4.0, 2.0, 1.0, 0.0, 0.0, 0.0, 4.0, 2.0, 5.0, 1.0, 5.0, 0.0, 0.0, 5.0]"
   ]
  },
  {
   "cell_type": "code",
   "execution_count": 106,
   "metadata": {},
   "outputs": [
    {
     "name": "stdout",
     "output_type": "stream",
     "text": [
      "3.9605367515131276\n",
      "0.9012471248321434 0.7156448391408881\n",
      "3.993149269767512\n",
      "0.8956098014970816 0.6929697474041326\n",
      "4.003366438913776\n",
      "0.8808118277425445 0.6600497784525271\n",
      "3.9605367515131276\n",
      "0.9012471248321434 0.7156448391408881\n",
      "3.9587588817211414\n",
      "0.8854785741826546 0.672751789276288\n",
      "0.8928788906173134 0.6914121986829448\n"
     ]
    }
   ],
   "source": [
    "ri = 0\n",
    "ari = 0\n",
    "N = 5\n",
    "for i in range(N):\n",
    "    labels,centers = stableClustering(SJ01,K)\n",
    "    l01 = allTraResult(centers)\n",
    "    ri = ri + RI(l01,baseline)\n",
    "    ari = ari + adjusted_rand_score(l01,baseline)\n",
    "    print(RI(l01,baseline),adjusted_rand_score(l01,baseline))\n",
    "print(ri/N,ari/N)"
   ]
  },
  {
   "cell_type": "code",
   "execution_count": 109,
   "metadata": {},
   "outputs": [
    {
     "name": "stdout",
     "output_type": "stream",
     "text": [
      "4.085364849420019\n",
      "0.9336617340087485 0.7879980531469981\n",
      "4.085364849420019\n",
      "0.9336617340087485 0.7879980531469981\n",
      "4.085364849420019\n",
      "0.9336617340087485 0.7879980531469981\n",
      "4.085364849420019\n",
      "0.9336617340087485 0.7879980531469981\n",
      "4.085364849420019\n",
      "0.9336617340087485 0.7879980531469981\n",
      "0.9336617340087485 0.7879980531469981\n"
     ]
    }
   ],
   "source": [
    "ri = 0\n",
    "ari = 0\n",
    "N = 5\n",
    "for i in range(N):\n",
    "    labels,centers = stableClustering(SJ03,K)\n",
    "    l03 = allTraResult(centers)\n",
    "    ri = ri + RI(l03,baseline)\n",
    "    ari = ari + adjusted_rand_score(l03,baseline)\n",
    "    print(RI(l03,baseline),adjusted_rand_score(l03,baseline))\n",
    "print(ri/N,ari/N)"
   ]
  },
  {
   "cell_type": "code",
   "execution_count": 112,
   "metadata": {},
   "outputs": [
    {
     "name": "stdout",
     "output_type": "stream",
     "text": [
      "4.310247459509044\n",
      "0.9484464121893822 0.8284506402234391\n",
      "4.350692442149786\n",
      "0.9919295866406074 0.9737811013715536\n",
      "4.350692442149786\n",
      "0.9919295866406074 0.9737811013715536\n",
      "4.310247459509044\n",
      "0.9484464121893822 0.8284506402234391\n",
      "4.362125732400406\n",
      "0.8755866671984897 0.5872499273752927\n",
      "0.9512677329716939 0.8383426821130555\n"
     ]
    }
   ],
   "source": [
    "ri = 0\n",
    "ari = 0\n",
    "N = 5\n",
    "for i in range(N):\n",
    "    labels,centers = stableClustering(SJ05,K)\n",
    "    l05 = allTraResult(centers)\n",
    "    ri = ri + RI(l05,baseline)\n",
    "    ari = ari + adjusted_rand_score(l05,baseline)\n",
    "    print(RI(l05,baseline),adjusted_rand_score(l05,baseline))\n",
    "print(ri/N,ari/N)"
   ]
  },
  {
   "cell_type": "code",
   "execution_count": 114,
   "metadata": {},
   "outputs": [
    {
     "name": "stdout",
     "output_type": "stream",
     "text": [
      "4.425662297170302\n",
      "0.9775105367423185 0.9265420618568753\n",
      "4.427742524598921\n",
      "0.9683897730445534 0.8967311796670995\n",
      "4.4197236463364895\n",
      "0.9926010131227314 0.9758806039570967\n",
      "4.4197236463364895\n",
      "0.9926010131227314 0.9758806039570967\n",
      "4.4274481958867336\n",
      "0.9916304362277798 0.9727269662193017\n",
      "0.9845465544520229 0.949552283131494\n"
     ]
    }
   ],
   "source": [
    "ri = 0\n",
    "ari = 0\n",
    "N = 5\n",
    "for i in range(N):\n",
    "    labels,centers = stableClustering(SJ07,K)\n",
    "    l07 = allTraResult(centers)\n",
    "    ri = ri + RI(l07,baseline)\n",
    "    ari = ari + adjusted_rand_score(l07,baseline)\n",
    "    print(RI(l07,baseline),adjusted_rand_score(l07,baseline))\n",
    "print(ri/N,ari/N)"
   ]
  },
  {
   "cell_type": "code",
   "execution_count": 116,
   "metadata": {},
   "outputs": [
    {
     "name": "stdout",
     "output_type": "stream",
     "text": [
      "4.314122534115003\n",
      "0.9940834696129659 0.9807610285192401\n",
      "4.320029409053557\n",
      "0.9949609774905934 0.9836166473627838\n",
      "4.320029409053557\n",
      "0.9949609774905934 0.9836166473627838\n",
      "4.314122534115003\n",
      "0.9940834696129659 0.9807610285192401\n",
      "4.314122534115003\n",
      "0.9940834696129659 0.9807610285192401\n",
      "0.994434472764017 0.9819032760566575\n"
     ]
    }
   ],
   "source": [
    "ri = 0\n",
    "ari = 0\n",
    "N = 5\n",
    "for i in range(N):    \n",
    "    labels,centers = stableClustering(SJ09,K)\n",
    "    l09 = allTraResult(centers)    \n",
    "    ri = ri + RI(l09,baseline)\n",
    "    ari = ari + adjusted_rand_score(l09,baseline) \n",
    "    print(RI(l09,baseline),adjusted_rand_score(l09,baseline) )\n",
    "print(ri/N,ari/N)"
   ]
  },
  {
   "cell_type": "code",
   "execution_count": 103,
   "metadata": {},
   "outputs": [
    {
     "data": {
      "image/png": "[encoded data removed]",
      "text/plain": [
       "<Figure size 432x288 with 2 Axes>"
      ]
     },
     "metadata": {
      "needs_background": "light"
     },
     "output_type": "display_data"
    }
   ],
   "source": [
    "γ = [0.1,0.3,0.5,0.7,0.9]\n",
    "RI = [0.845 , 0.862 , 0.905 , 0.915 , 0.916]\n",
    "CR = [70.168,22.750,13.548,9.689,7.541]\n",
    "\n",
    "fig,ax1 = plt.subplots()\n",
    "ax2 = ax1.twinx()           # 做镜像处理N\n",
    "ax1.plot(γ,RI,'g-',label='RI')\n",
    "ax2.plot(γ,CR,'b--',label='CR')\n",
    " \n",
    "ax1.set_xlabel(\"γ\")   #设置x轴标题\n",
    "ax1.set_ylabel('RI',color = 'g')   #设置Y1轴标题\n",
    "ax2.set_ylabel('CR',color = 'b')\n",
    "\n",
    "ax2.legend(loc=1)\n",
    "ax1.legend(loc=2)\n",
    "\n",
    "ax1.grid()\n",
    "plt.show()"
   ]
  },
  {
   "cell_type": "markdown",
   "metadata": {},
   "source": [
    "### End"
   ]
  }
 ],
 "metadata": {
  "kernelspec": {
   "display_name": "Python 3",
   "language": "python",
   "name": "python3"
  },
  "language_info": {
   "codemirror_mode": {
    "name": "ipython",
    "version": 3
   },
   "file_extension": ".py",
   "mimetype": "text/x-python",
   "name": "python",
   "nbconvert_exporter": "python",
   "pygments_lexer": "ipython3",
   "version": "3.7.6"
  }
 },
 "nbformat": 4,
 "nbformat_minor": 2
}
