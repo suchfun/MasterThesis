{
 "cells": [
  {
   "cell_type": "code",
   "execution_count": 6,
   "metadata": {},
   "outputs": [],
   "source": [
    "import numpy as np\n",
    "from scipy.optimize import minimize\n",
    "import time\n",
    "import pandas as pd \n",
    "import json\n",
    "import pickle"
   ]
  },
  {
   "cell_type": "code",
   "execution_count": 7,
   "metadata": {},
   "outputs": [],
   "source": [
    "def tr_fun(x,params):\n",
    "    '''\n",
    "    x: scalar,x-coordinate\n",
    "    params: ndarray,weights\n",
    "    module style: a0+a1*x+a2*x^2...\n",
    "    '''\n",
    "    x = np.array([x**i for i in range(len(params))])\n",
    "    ret = np.dot(x,params)\n",
    "    return ret\n",
    "\n",
    "def loss_fun(x,y,params):\n",
    "\n",
    "    return (tr_fun(x,params)-y)**2\n",
    "\n",
    "def cost_fun(params,X,Y):\n",
    "    '''\n",
    "    X: ndarray, xs in the interval\n",
    "    Y: ndarray, ys in the interval\n",
    "    C: penalty for L2 regulation\n",
    "    '''\n",
    "    \n",
    "    cost = 0\n",
    "    penalty = 0\n",
    "    \n",
    "    one_arr = np.ones(len(X))\n",
    "    loss_arr = np.array([loss_fun(X[i],Y[i],params) for i in range(len(X))])\n",
    "    cost = np.dot(loss_arr,one_arr) / len(X)\n",
    "    \n",
    "    penalty_arr = np.array([params[i]**2 for i in range(len(params))])\n",
    "    penalty = C * np.dot(penalty_arr,one_arr)\n",
    "    \n",
    "    cost += penalty\n",
    "    return cost\n",
    "\n",
    "def cost_minimizer(X,Y,params):\n",
    "    res = minimize(cost_fun,params,args=(X,Y),method='Nelder-Mead', tol=1e-5)\n",
    "    return res.x\n"
   ]
  },
  {
   "cell_type": "code",
   "execution_count": 8,
   "metadata": {},
   "outputs": [],
   "source": [
    "# sampling\n",
    "# in :df\n",
    "def sample(data):\n",
    "    sampling_data = np.zeros((len(data)//SAMPLING_RATE,3))\n",
    "    sampling_data[:,0] = [data['person_id'][i] for i in range(len(data)) if i%SAMPLING_RATE == 0]\n",
    "    sampling_data[:,1] = [data['x'][i] for i in range(len(data)) if i%SAMPLING_RATE == 0]\n",
    "    sampling_data[:,2] = [data['y'][i] for i in range(len(data)) if i%SAMPLING_RATE == 0]\n",
    "    return sampling_data"
   ]
  },
  {
   "cell_type": "code",
   "execution_count": 9,
   "metadata": {},
   "outputs": [],
   "source": [
    "'''\n",
    "0.0:{'param': array([[  1.10961481e-01,   1.87371589e-01,   1.91575569e-01,\n",
    "         -9.30694710e-03,   1.04808754e-04],\n",
    "       [ -5.08475707e-06,  -1.53824128e-04,  -2.16731290e-03,\n",
    "         -4.58150687e-04,   5.95677849e-06],\n",
    "       [ -5.16950820e-06,  -1.56426817e-04,  -2.21302459e-03,\n",
    "         -4.60758964e-04,   5.93261977e-06],\n",
    "       [ -5.24407372e-06,  -1.58666290e-04,  -2.20234728e-03,\n",
    "         -4.58758432e-04,   6.02276921e-06],\n",
    "       [  9.55750244e-05,  -1.95430749e-03,  -2.80372777e-02,\n",
    "         -1.22083993e-04,   1.21024965e-05],\n",
    "       [  1.33961777e-04,   5.55523625e-04,  -1.50674670e-02,\n",
    "         -2.61815004e-04,   7.93079416e-06],\n",
    "       [  1.11720758e-04,   6.35419082e-04,  -1.62648254e-02,\n",
    "         -2.73435454e-04,   9.17428821e-06],\n",
    "       [  9.87005807e-05,   7.08446104e-04,  -2.30387088e-02,\n",
    "         -1.91802814e-04,   1.19948478e-05],\n",
    "       [  1.33718846e-04,   5.43129646e-04,  -2.96899154e-02,\n",
    "          7.10191702e-06,   1.18399754e-05],\n",
    "       [  2.44045184e-04,  -4.13514213e-04,  -3.20198044e-02,\n",
    "          2.93375487e-06,   1.45600534e-05]]), 'x_minmax': array([[ 44.473,  46.619],\n",
    "       [ 42.949,  44.102],\n",
    "       [ 43.023,  43.134],\n",
    "       [ 43.023,  43.45 ],\n",
    "       [ 42.237,  43.323],\n",
    "       [ 39.662,  41.84 ],\n",
    "       [ 36.923,  39.25 ],\n",
    "       [ 33.805,  36.358],\n",
    "       [ 31.147,  33.382],\n",
    "       [ 29.256,  30.804]])}\n",
    "'''\n",
    "\n",
    "def fitting(sampling_data):\n",
    "    param_dic = {}\n",
    "    i = 0\n",
    "    params = np.zeros(SEGMENT_LENGTH) + 0.1\n",
    "    while i < len(sampling_data):  \n",
    "        X = sampling_data[i:i+SEGMENT_LENGTH,1]\n",
    "        x_minmax = np.array([np.min(X),np.max(X)])\n",
    "        Y = sampling_data[i:i+SEGMENT_LENGTH,2]\n",
    "        tr_id = sampling_data[i,0]\n",
    "        params = cost_minimizer(X,Y,params)\n",
    "        if tr_id not in param_dic:\n",
    "            param_dic[tr_id] = {}\n",
    "            param_dic[tr_id]['param'] = [params]\n",
    "            param_dic[tr_id]['x_minmax'] = [x_minmax]\n",
    "        else:\n",
    "            param_dic[tr_id]['param'] = np.append(param_dic[tr_id]['param'],[params],axis=0)\n",
    "            param_dic[tr_id]['x_minmax'] = np.append(param_dic[tr_id]['x_minmax'],[x_minmax],axis=0)\n",
    "        i+=SEGMENT_LENGTH\n",
    "\n",
    "    for k,v in param_dic.items():\n",
    "        v['param'] = v['param'].tolist()\n",
    "        v['x_minmax'] = v['x_minmax'].tolist()\n",
    "        \n",
    "    return param_dic"
   ]
  },
  {
   "cell_type": "markdown",
   "metadata": {},
   "source": [
    "### ex1——轨迹点数抽样"
   ]
  },
  {
   "cell_type": "code",
   "execution_count": 14,
   "metadata": {},
   "outputs": [],
   "source": [
    "def genEx1Para():\n",
    "    global SAMPLING_RATE\n",
    "    nodeName = ['node1','node2','node3']\n",
    "    sampleRate = [2,5,10,20,50]\n",
    "    for node in nodeName:\n",
    "        df = pd.read_csv('data/'+node+'.csv')\n",
    "        for s in sampleRate:\n",
    "            SAMPLING_RATE = s\n",
    "            SAMPLING_DATA = sample(df)\n",
    "            PARAM_DICT = fitting(SAMPLING_DATA)\n",
    "            save_name = 'paraC1/'+node+'para'+str(s)+'.txt'\n",
    "            with open(save_name,'w') as f:#dict转txt\n",
    "                json.dump(json.dumps(PARAM_DICT),f)\n",
    "            f.close()"
   ]
  },
  {
   "cell_type": "code",
   "execution_count": 15,
   "metadata": {},
   "outputs": [],
   "source": [
    "SAMPLING_RATE = 1\n",
    "POINTS_NUM_PER_TR = 500\n",
    "C = 1\n",
    "SEGMENT_LENGTH = 5"
   ]
  },
  {
   "cell_type": "code",
   "execution_count": 16,
   "metadata": {},
   "outputs": [],
   "source": [
    "genEx1Para()"
   ]
  },
  {
   "cell_type": "markdown",
   "metadata": {},
   "source": [
    "### ex2"
   ]
  },
  {
   "cell_type": "code",
   "execution_count": 21,
   "metadata": {},
   "outputs": [],
   "source": [
    "SAMPLING_RATE = 5\n",
    "POINTS_NUM_PER_TR = 500\n",
    "C = 1\n",
    "SEGMENT_LENGTH = 5"
   ]
  },
  {
   "cell_type": "code",
   "execution_count": 22,
   "metadata": {},
   "outputs": [],
   "source": [
    "file_name = ['node1K5a01','node1K5a03','node1K5a05','node1K5a07','node1K5a09','node2K5a01','node2K5a03','node2K5a05','node2K5a07','node2K5a09','node3K5a01','node3K5a03','node3K5a05','node3K5a07','node3K5a09']"
   ]
  },
  {
   "cell_type": "code",
   "execution_count": 25,
   "metadata": {},
   "outputs": [],
   "source": [
    "def genEx2Para():\n",
    "    for name in file_name:\n",
    "        df = pd.read_csv('data/'+name+'.csv')\n",
    "        tr_num = len(df)/POINTS_NUM_PER_TR\n",
    "        print(tr_num)\n",
    "        sampling_data = sample(df)\n",
    "        para_dict = fitting(sampling_data)\n",
    "        with open('paraC1/'+name+'.txt','w') as f:\n",
    "            json.dump(json.dumps(para_dict),f)\n",
    "        f.close()"
   ]
  },
  {
   "cell_type": "code",
   "execution_count": 26,
   "metadata": {},
   "outputs": [
    {
     "name": "stdout",
     "output_type": "stream",
     "text": [
      "16.0\n",
      "53.0\n",
      "90.0\n",
      "125.0\n",
      "162.0\n",
      "15.0\n",
      "52.0\n",
      "90.0\n",
      "126.0\n",
      "162.0\n",
      "16.0\n",
      "52.0\n",
      "91.0\n",
      "127.0\n",
      "161.0\n"
     ]
    }
   ],
   "source": [
    "genEx2Para()"
   ]
  },
  {
   "cell_type": "code",
   "execution_count": null,
   "metadata": {},
   "outputs": [],
   "source": []
  }
 ],
 "metadata": {
  "kernelspec": {
   "display_name": "Python 3",
   "language": "python",
   "name": "python3"
  },
  "language_info": {
   "codemirror_mode": {
    "name": "ipython",
    "version": 3
   },
   "file_extension": ".py",
   "mimetype": "text/x-python",
   "name": "python",
   "nbconvert_exporter": "python",
   "pygments_lexer": "ipython3",
   "version": "3.7.6"
  }
 },
 "nbformat": 4,
 "nbformat_minor": 2
}
