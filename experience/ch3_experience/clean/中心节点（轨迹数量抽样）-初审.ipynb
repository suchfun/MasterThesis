{
 "cells": [
  {
   "cell_type": "code",
   "execution_count": 1,
   "metadata": {},
   "outputs": [],
   "source": [
    "import numpy as np\n",
    "import pandas as pd\n",
    "import json\n",
    "\n",
    "from pyclustering.cluster.kmeans import kmeans\n",
    "from pyclustering.utils.metric import type_metric, distance_metric\n",
    "from pyclustering.cluster.center_initializer import kmeans_plusplus_initializer\n",
    "\n",
    "\n",
    "from sklearn.metrics.cluster import adjusted_rand_score\n",
    "\n",
    "import matplotlib.pyplot as plt\n",
    "from itertools import combinations"
   ]
  },
  {
   "cell_type": "markdown",
   "metadata": {},
   "source": [
    "### 还原轨迹数据所需函数"
   ]
  },
  {
   "cell_type": "code",
   "execution_count": 2,
   "metadata": {},
   "outputs": [],
   "source": [
    "def tr_fun(x,params):\n",
    "    '''\n",
    "    x: scalar,x-coordinate\n",
    "    params: ndarray,weights\n",
    "    module style: a0+a1*x+a2*x^2...\n",
    "    '''\n",
    "    x = np.array([x**i for i in range(len(params))])\n",
    "    ret = np.dot(x,params)\n",
    "    return ret"
   ]
  },
  {
   "cell_type": "markdown",
   "metadata": {},
   "source": [
    "### 全局聚类所需函数"
   ]
  },
  {
   "cell_type": "code",
   "execution_count": 3,
   "metadata": {},
   "outputs": [],
   "source": [
    "def df2array(df):\n",
    "    # 将数据以 ndarray 的形式读入内存\n",
    "    # [[x1,x2,...,x500,y1,y2,...,y500],[],...]\n",
    "    i = 0\n",
    "    data = np.array([])\n",
    "    while i <= len(df)-1:\n",
    "        arr_x = np.array(df['x'][i:i+500])\n",
    "        arr_y = np.array(df['y'][i:i+500])\n",
    "        arr = np.append(arr_x,arr_y)\n",
    "        if len(data)==0:\n",
    "            data = np.array([arr])\n",
    "        else:\n",
    "            data = np.append(data,[arr],axis=0)\n",
    "        i+=500\n",
    "    return data"
   ]
  },
  {
   "cell_type": "code",
   "execution_count": 4,
   "metadata": {},
   "outputs": [],
   "source": [
    "# 确保定义的距离是有效的，非负性，同一性，对称性，直递性（三角不等式）\n",
    "\n",
    "def dist(tr1,tr2):\n",
    "    length = len(tr1)\n",
    "    if not(length == 1000):\n",
    "        # 传入参数形式为(k,1000)\n",
    "        # 计算k个簇心点更新前后的距离\n",
    "        distance = 0\n",
    "        for i in range(length):\n",
    "            pre = tr1[i]\n",
    "            now = tr2[i]\n",
    "            half = int(len(pre)/2)\n",
    "            x1 = pre[0:half]\n",
    "            y1 = pre[half:]\n",
    "            x2 = now[0:half]\n",
    "            y2 = now[half:]\n",
    "            deta_x = x1 - x2\n",
    "            deta_y = y1 - y2\n",
    "            distance = distance + np.sum((deta_x**2 + deta_y**2) ** 0.5) / len(x1)\n",
    "    else:       \n",
    "        half = int(length/2)\n",
    "        x1 = tr1[0:half]\n",
    "        y1 = tr1[half:]\n",
    "        x2 = tr2[0:half]\n",
    "        y2 = tr2[half:]\n",
    "        deta_x = x1 - x2\n",
    "        deta_y = y1 - y2\n",
    "        distance = np.sum((deta_x**2 + deta_y**2) ** 0.5) / len(x1)\n",
    "        # print(distance)\n",
    "    return distance"
   ]
  },
  {
   "cell_type": "code",
   "execution_count": 5,
   "metadata": {},
   "outputs": [],
   "source": [
    "def cluster(data,K):\n",
    "\n",
    "    metric = distance_metric(type_metric.USER_DEFINED, func=dist)\n",
    "    initial_centers = kmeans_plusplus_initializer(data, K).initialize()\n",
    "\n",
    "    kmeans_instance = kmeans(data, initial_centers, metric=metric)\n",
    "\n",
    "    kmeans_instance.process()\n",
    "    clusters = kmeans_instance.get_clusters()\n",
    "    centers = kmeans_instance.get_centers()\n",
    "    \n",
    "    return clusters,centers"
   ]
  },
  {
   "cell_type": "code",
   "execution_count": 6,
   "metadata": {},
   "outputs": [],
   "source": [
    "# ndarray中每个元素长度要相等\n",
    "def getKmeansResult(data,K):\n",
    "    clusters,centers = cluster(data,K)\n",
    "    labels = np.zeros(len(data))\n",
    "    for i in range(K):\n",
    "        for j in range(len(data)):\n",
    "            if j in clusters[i]:\n",
    "                labels[j] = i\n",
    "    return labels,np.array(centers)"
   ]
  },
  {
   "cell_type": "code",
   "execution_count": 7,
   "metadata": {},
   "outputs": [],
   "source": [
    "def cost(data,labels,centers):\n",
    "    loss = 0\n",
    "    for i in range(len(data)):\n",
    "        loss = loss + dist(data[i],centers[int(labels[i])])\n",
    "    loss = loss / len(data)\n",
    "    return loss # 平均每个簇的损失"
   ]
  },
  {
   "cell_type": "code",
   "execution_count": 8,
   "metadata": {},
   "outputs": [],
   "source": [
    "def chooseK(data,K):\n",
    "    x = np.arange(3,K+1)\n",
    "    y = np.zeros(len(x))\n",
    "    for k in range(3,K+1):\n",
    "        labels,centers = getKmeansResult(data,k)\n",
    "        y[k-3] = cost(data, labels,centers)\n",
    "    plt.plot(x,y)\n",
    "    plt.xlabel('K')\n",
    "    plt.ylabel('cost')\n",
    "    plt.grid(True)\n",
    "    plt.show()"
   ]
  },
  {
   "cell_type": "markdown",
   "metadata": {},
   "source": [
    "### main"
   ]
  },
  {
   "cell_type": "code",
   "execution_count": 9,
   "metadata": {},
   "outputs": [],
   "source": [
    "# resample 50 points each segment\n",
    "def resample(tr_id,x_minmax,params):\n",
    "    segment_num = len(params)\n",
    "    global RESAMPLE_DATA\n",
    "    matrix = np.zeros((segment_num * RESAMPLE_EACH_SEGMENT,3))\n",
    "    matrix[:,0] = tr_id\n",
    "    x = np.array([])\n",
    "    y = np.array([])\n",
    "    x_min = x_minmax[:,0]\n",
    "    x_max = x_minmax[:,1]\n",
    "    delta_x = (x_max - x_min)/RESAMPLE_EACH_SEGMENT\n",
    "    for i in range(segment_num):\n",
    "        lx = [x_min[i]+j*delta_x[i] for j in range(RESAMPLE_EACH_SEGMENT)]\n",
    "        ly = [tr_fun(in_x,params[i]) for in_x in lx]\n",
    "        x = np.append(x,lx)\n",
    "        y = np.append(y,ly)\n",
    "    matrix[:,1] = x\n",
    "    matrix[:,2] = y\n",
    "\n",
    "    if len(RESAMPLE_DATA) == 0:\n",
    "        RESAMPLE_DATA = matrix\n",
    "    else:\n",
    "        RESAMPLE_DATA = np.append(RESAMPLE_DATA,matrix,axis = 0)"
   ]
  },
  {
   "cell_type": "code",
   "execution_count": 10,
   "metadata": {},
   "outputs": [],
   "source": [
    "def para2df(file_name):\n",
    "    global RESAMPLE_DATA\n",
    "    global RESAMPLE_EACH_SEGMENT\n",
    "    RESAMPLE_DATA = np.array([])\n",
    "    with open(file_name,\"r\") as f:\n",
    "        data=json.load(f)\n",
    "    para_dic = json.loads(s=data)\n",
    "    #######\n",
    "    for k,v in para_dic.items():\n",
    "        RESAMPLE_EACH_SEGMENT = int(500/len(v['x_minmax']))\n",
    "        break\n",
    "    #######\n",
    "    print(RESAMPLE_EACH_SEGMENT)\n",
    "    for k,v in para_dic.items():\n",
    "        tr_id = k\n",
    "        params = np.array(v['param'])\n",
    "        x_minmax = np.array(v['x_minmax'])\n",
    "        resample(tr_id,x_minmax,params)\n",
    "    df = pd.DataFrame(RESAMPLE_DATA,columns=['person_id','x','y'])\n",
    "    return df"
   ]
  },
  {
   "cell_type": "code",
   "execution_count": 11,
   "metadata": {},
   "outputs": [],
   "source": [
    "def RI(a,b):\n",
    "    ss = 0\n",
    "    dd = 0\n",
    "    sum = 0\n",
    "    for com in combinations(range(len(a)),2):\n",
    "        sum = sum + 1\n",
    "        if (a[com[0]] == a[com[1]]) and (b[com[0]] == b[com[1]]):\n",
    "            ss = ss + 1\n",
    "        if (a[com[0]] != a[com[1]]) and (b[com[0]] != b[com[1]]):\n",
    "            dd = dd + 1\n",
    "    return (ss + dd) / sum"
   ]
  },
  {
   "cell_type": "code",
   "execution_count": 12,
   "metadata": {},
   "outputs": [],
   "source": [
    "# 对于抽样率不为1的实验，生成所有轨迹的分类结果\n",
    "def allTraResult(centers):\n",
    "    result = []\n",
    "    for i in ALL_DATA:\n",
    "        distArr = []\n",
    "        for j in range(K):\n",
    "            distArr.append(dist(np.array(i),np.array(centers[j])))\n",
    "        minDist = np.min(distArr)\n",
    "        result.append(distArr.index(minDist))\n",
    "    return result"
   ]
  },
  {
   "cell_type": "code",
   "execution_count": 13,
   "metadata": {},
   "outputs": [],
   "source": [
    "def stableClustering(data,k):\n",
    "    labels,centers = getKmeansResult(data,k)\n",
    "    min_cost = cost(data,labels,centers)\n",
    "    for i in range(50): # 取50次聚类中损失函数最小的\n",
    "        labels_,centers_ = getKmeansResult(data,k)\n",
    "        cost_ = cost(data,labels_,centers_)\n",
    "        if cost_ < min_cost:\n",
    "            labels = labels_\n",
    "            centers = centers_\n",
    "            min_cost = cost_\n",
    "    print(min_cost)\n",
    "    return labels,centers"
   ]
  },
  {
   "cell_type": "code",
   "execution_count": 14,
   "metadata": {},
   "outputs": [],
   "source": [
    "RESAMPLE_EACH_SEGMENT = 0\n",
    "RESAMPLE_DATA = np.array([])"
   ]
  },
  {
   "cell_type": "code",
   "execution_count": 21,
   "metadata": {},
   "outputs": [],
   "source": [
    "all_df = pd.read_csv('./data/all.csv')\n",
    "ALL_DATA = df2array(all_df)"
   ]
  },
  {
   "cell_type": "markdown",
   "metadata": {},
   "source": [
    "### 加载第一个节点的参数文件"
   ]
  },
  {
   "cell_type": "code",
   "execution_count": 15,
   "metadata": {},
   "outputs": [
    {
     "name": "stdout",
     "output_type": "stream",
     "text": [
      "25\n"
     ]
    }
   ],
   "source": [
    "df1 = para2df('paraC1/node1K5a05.txt')"
   ]
  },
  {
   "cell_type": "markdown",
   "metadata": {},
   "source": [
    "### 加载第二个节点参数文件"
   ]
  },
  {
   "cell_type": "code",
   "execution_count": 16,
   "metadata": {},
   "outputs": [
    {
     "name": "stdout",
     "output_type": "stream",
     "text": [
      "25\n"
     ]
    }
   ],
   "source": [
    "df2 = para2df('paraC1/node2K5a05.txt')"
   ]
  },
  {
   "cell_type": "markdown",
   "metadata": {},
   "source": [
    "### 加载第三个节点参数文件"
   ]
  },
  {
   "cell_type": "code",
   "execution_count": 17,
   "metadata": {},
   "outputs": [
    {
     "name": "stdout",
     "output_type": "stream",
     "text": [
      "25\n"
     ]
    }
   ],
   "source": [
    "df3 = para2df('paraC1/node3K5a05.txt')"
   ]
  },
  {
   "cell_type": "code",
   "execution_count": 18,
   "metadata": {},
   "outputs": [],
   "source": [
    "frames = [df1, df2, df3]\n",
    "\n",
    "df = pd.concat(frames)"
   ]
  },
  {
   "cell_type": "code",
   "execution_count": 19,
   "metadata": {},
   "outputs": [
    {
     "data": {
      "text/plain": [
       "271"
      ]
     },
     "execution_count": 19,
     "metadata": {},
     "output_type": "execute_result"
    }
   ],
   "source": [
    "NUM_TR = int(len(df)/500)\n",
    "NUM_TR "
   ]
  },
  {
   "cell_type": "markdown",
   "metadata": {
    "collapsed": true
   },
   "source": [
    "### 实验二：轨迹数量抽样"
   ]
  },
  {
   "cell_type": "code",
   "execution_count": 20,
   "metadata": {},
   "outputs": [],
   "source": [
    "DATA05 = df2array(df)"
   ]
  },
  {
   "cell_type": "code",
   "execution_count": 21,
   "metadata": {},
   "outputs": [
    {
     "name": "stdout",
     "output_type": "stream",
     "text": [
      "4.398436508971342\n"
     ]
    }
   ],
   "source": [
    "labels,centers = stableClustering(DATA05,6)"
   ]
  },
  {
   "cell_type": "code",
   "execution_count": 25,
   "metadata": {},
   "outputs": [
    {
     "data": {
      "text/plain": [
       "array([3., 3., 3., 3., 1., 1., 1., 3., 3., 3., 1., 3., 1., 1., 3., 1., 3.,\n",
       "       4., 4., 4., 4., 4., 4., 4., 4., 4., 4., 4., 4., 4., 4., 4., 2., 2.,\n",
       "       2., 2., 2., 2., 2., 2., 2., 2., 2., 2., 2., 5., 4., 5., 5., 5., 5.,\n",
       "       5., 5., 1., 5., 5., 5., 4., 0., 0., 0., 0., 0., 0., 0., 0., 0., 0.,\n",
       "       0., 0., 0., 0., 0., 0., 0., 0., 0., 0., 0., 0., 0., 0., 0., 0., 0.,\n",
       "       0., 0., 0., 0., 0., 2., 2., 2., 2., 2., 0., 2., 0., 2., 2., 2., 2.,\n",
       "       0., 0., 2., 2., 0., 0., 2., 4., 4., 4., 4., 4., 4., 4., 4., 4., 4.,\n",
       "       5., 5., 4., 4., 4., 4., 4., 4., 4., 5., 4., 4., 4., 3., 3., 3., 3.,\n",
       "       3., 3., 1., 3., 3., 3., 3., 3., 3., 3., 5., 1., 1., 1., 5., 1., 5.,\n",
       "       5., 1., 1., 1., 1., 1., 5., 1., 1., 1., 0., 0., 0., 0., 0., 0., 0.,\n",
       "       0., 0., 0., 0., 0., 0., 0., 0., 0., 0., 0., 0., 0., 0., 0., 0., 0.,\n",
       "       0., 0., 0., 0., 0., 0., 0., 0., 0., 0., 0., 0., 0., 0., 0., 0., 4.,\n",
       "       4., 4., 4., 4., 4., 4., 4., 4., 4., 4., 4., 4., 4., 4., 4., 4., 4.,\n",
       "       5., 5., 1., 5., 5., 1., 5., 1., 5., 1., 5., 1., 1., 1., 5., 5., 5.,\n",
       "       1., 1., 1., 1., 1., 1., 1., 3., 3., 3., 3., 3., 3., 1., 3., 3., 3.,\n",
       "       0., 2., 2., 2., 2., 2., 2., 2., 2., 0., 2., 0., 0., 2., 2., 2.])"
      ]
     },
     "execution_count": 25,
     "metadata": {},
     "output_type": "execute_result"
    }
   ],
   "source": [
    "labels"
   ]
  },
  {
   "cell_type": "code",
   "execution_count": 29,
   "metadata": {},
   "outputs": [
    {
     "data": {
      "image/png": "[encoded data removed]",
      "text/plain": [
       "<Figure size 432x288 with 1 Axes>"
      ]
     },
     "metadata": {
      "needs_background": "light"
     },
     "output_type": "display_data"
    }
   ],
   "source": [
    "colors = ['red','blue','orange','black','green','darkgray']\n",
    "for i in range(len(DATA05)):\n",
    "    x = DATA05[i][:500]\n",
    "    y = DATA05[i][500:]\n",
    "    c = colors[int(labels[i])]\n",
    "    plt.plot(x,y,linewidth=0.5,color = c)\n",
    "    plt.xlabel('x')\n",
    "    plt.ylabel('y')\n",
    "    \n",
    "plt.show()"
   ]
  }
 ],
 "metadata": {
  "kernelspec": {
   "display_name": "Python 3",
   "language": "python",
   "name": "python3"
  },
  "language_info": {
   "codemirror_mode": {
    "name": "ipython",
    "version": 3
   },
   "file_extension": ".py",
   "mimetype": "text/x-python",
   "name": "python",
   "nbconvert_exporter": "python",
   "pygments_lexer": "ipython3",
   "version": "3.7.6"
  }
 },
 "nbformat": 4,
 "nbformat_minor": 2
}
