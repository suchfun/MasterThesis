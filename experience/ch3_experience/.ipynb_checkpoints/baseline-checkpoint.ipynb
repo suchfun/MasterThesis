{
 "cells": [
  {
   "cell_type": "code",
   "execution_count": 2,
   "metadata": {},
   "outputs": [],
   "source": [
    "import numpy as np \n",
    "import pandas as pd \n",
    "import matplotlib.pyplot as plt\n",
    "\n",
    "from sklearn.metrics import davies_bouldin_score\n",
    "from sklearn.cluster import DBSCAN \n",
    "from sklearn.cluster import KMeans\n",
    "from sklearn.metrics.cluster import adjusted_rand_score\n",
    "\n",
    "from pyclustering.cluster.kmeans import kmeans\n",
    "from pyclustering.utils.metric import type_metric, distance_metric\n",
    "from pyclustering.cluster.center_initializer import kmeans_plusplus_initializer"
   ]
  },
  {
   "cell_type": "code",
   "execution_count": 3,
   "metadata": {},
   "outputs": [],
   "source": [
    "POINTS_NUM_PER_TR = 500\n",
    "\n",
    "df = pd.read_csv('../data/all.csv')\n",
    "\n",
    "NUM_TR = int(len(df)/POINTS_NUM_PER_TR)"
   ]
  },
  {
   "cell_type": "code",
   "execution_count": 4,
   "metadata": {},
   "outputs": [
    {
     "data": {
      "text/plain": [
       "968"
      ]
     },
     "execution_count": 4,
     "metadata": {},
     "output_type": "execute_result"
    }
   ],
   "source": [
    "NUM_TR"
   ]
  },
  {
   "cell_type": "code",
   "execution_count": 5,
   "metadata": {},
   "outputs": [],
   "source": [
    "def df2array(df):\n",
    "    # 将数据以 ndarray 的形式读入内存\n",
    "    # [[x1,x2,...,x500,y1,y2,...,y500],[],...]\n",
    "    i = 0\n",
    "    data = np.array([])\n",
    "    while i <= len(df)-1:\n",
    "        arr_x = np.array(df['x'][i:i+POINTS_NUM_PER_TR])\n",
    "        arr_y = np.array(df['y'][i:i+POINTS_NUM_PER_TR])\n",
    "        arr = np.append(arr_x,arr_y)\n",
    "        if len(data)==0:\n",
    "            data = np.array([arr])\n",
    "        else:\n",
    "            data = np.append(data,[arr],axis=0)\n",
    "        i+=POINTS_NUM_PER_TR\n",
    "    return data"
   ]
  },
  {
   "cell_type": "code",
   "execution_count": 6,
   "metadata": {},
   "outputs": [],
   "source": [
    "data = df2array(df)"
   ]
  },
  {
   "cell_type": "code",
   "execution_count": 7,
   "metadata": {},
   "outputs": [
    {
     "data": {
      "text/plain": [
       "array([[ 46.619,  46.59 ,  46.528, ..., -16.763, -16.738, -16.701],\n",
       "       [ 42.603,  42.579,  42.515, ...,   5.021,   5.053,   5.13 ],\n",
       "       [-24.227, -24.211, -24.168, ...,  19.123,  19.187,  19.264],\n",
       "       ...,\n",
       "       [-16.401, -16.411, -16.423, ..., -13.48 , -13.545, -13.602],\n",
       "       [ 45.387,  45.359,  45.263, ...,   2.25 ,   2.221,   2.173],\n",
       "       [ 14.487,  14.497,  14.524, ..., -11.821, -11.803, -11.772]])"
      ]
     },
     "execution_count": 7,
     "metadata": {},
     "output_type": "execute_result"
    }
   ],
   "source": [
    "data"
   ]
  },
  {
   "cell_type": "code",
   "execution_count": 8,
   "metadata": {},
   "outputs": [],
   "source": [
    "# 确保定义的距离是有效的，非负性，同一性，对称性，直递性（三角不等式）\n",
    "\n",
    "def dist(tr1,tr2):\n",
    "    length = len(tr1)\n",
    "    if not(length == 1000):\n",
    "        # 传入参数形式为(k,1000)\n",
    "        # 计算k个簇心点更新前后的距离\n",
    "        distance = 0\n",
    "        for i in range(length):\n",
    "            pre = tr1[i]\n",
    "            now = tr2[i]\n",
    "            half = int(len(pre)/2)\n",
    "            x1 = pre[0:half]\n",
    "            y1 = pre[half:]\n",
    "            x2 = now[0:half]\n",
    "            y2 = now[half:]\n",
    "            deta_x = x1 - x2\n",
    "            deta_y = y1 - y2\n",
    "            distance = distance + np.sum((deta_x**2 + deta_y**2) ** 0.5) / len(x1)\n",
    "    else:       \n",
    "        half = int(length/2)\n",
    "        x1 = tr1[0:half]\n",
    "        y1 = tr1[half:]\n",
    "        x2 = tr2[0:half]\n",
    "        y2 = tr2[half:]\n",
    "        deta_x = x1 - x2\n",
    "        deta_y = y1 - y2\n",
    "        distance = np.sum((deta_x**2 + deta_y**2) ** 0.5) / len(x1)\n",
    "        # print(distance)\n",
    "    return distance"
   ]
  },
  {
   "cell_type": "code",
   "execution_count": 9,
   "metadata": {},
   "outputs": [],
   "source": [
    "def cluster(data,K):\n",
    "\n",
    "    metric = distance_metric(type_metric.USER_DEFINED, func=dist)\n",
    "    initial_centers = kmeans_plusplus_initializer(data, K).initialize()\n",
    "\n",
    "    kmeans_instance = kmeans(data, initial_centers, metric=metric)\n",
    "\n",
    "    kmeans_instance.process()\n",
    "    clusters = kmeans_instance.get_clusters()\n",
    "    centers = kmeans_instance.get_centers()\n",
    "    \n",
    "    return clusters,centers"
   ]
  },
  {
   "cell_type": "code",
   "execution_count": 10,
   "metadata": {},
   "outputs": [],
   "source": [
    "# ndarray中每个元素长度要相等\n",
    "\n",
    "\n",
    "def getKmeansResult(data,K):\n",
    "    clusters,centers = cluster(data,K)\n",
    "    labels = np.zeros(NUM_TR)\n",
    "    for i in range(K):\n",
    "        for j in range(NUM_TR):\n",
    "            if j in clusters[i]:\n",
    "                labels[j] = i\n",
    "    return labels,np.array(centers)"
   ]
  },
  {
   "cell_type": "code",
   "execution_count": 11,
   "metadata": {},
   "outputs": [],
   "source": [
    "def cost(data,labels,centers):\n",
    "    loss = 0\n",
    "    for i in range(len(data)):\n",
    "        loss = loss + dist(data[i],centers[int(labels[i])])\n",
    "    loss = loss / len(data)\n",
    "    return loss"
   ]
  },
  {
   "cell_type": "code",
   "execution_count": 14,
   "metadata": {},
   "outputs": [],
   "source": [
    "def chooseK(data,K):\n",
    "    x = np.arange(3,K+1)\n",
    "    y = np.zeros(len(x))\n",
    "    for k in range(3,K+1):\n",
    "        labels,centers = getKmeansResult(data,k)\n",
    "        y[k-3] = cost(data, labels,centers)\n",
    "    plt.plot(x,y)\n",
    "    plt.grid(True)\n",
    "    plt.show()"
   ]
  },
  {
   "cell_type": "code",
   "execution_count": 15,
   "metadata": {},
   "outputs": [
    {
     "data": {
      "image/png": "[encoded data removed]",
      "text/plain": [
       "<Figure size 432x288 with 1 Axes>"
      ]
     },
     "metadata": {
      "needs_background": "light"
     },
     "output_type": "display_data"
    }
   ],
   "source": [
    "chooseK(data,20)"
   ]
  },
  {
   "cell_type": "code",
   "execution_count": 53,
   "metadata": {},
   "outputs": [],
   "source": [
    "labels,centers = getKmeansResult(data,5)"
   ]
  },
  {
   "cell_type": "code",
   "execution_count": 54,
   "metadata": {
    "scrolled": true
   },
   "outputs": [
    {
     "data": {
      "text/plain": [
       "array([4, 1, 2, 4, 4, 2, 3, 0, 2, 3, 1, 2, 0, 3, 0, 4, 1, 2, 3, 4, 4, 2,\n",
       "       4, 3, 4, 0, 2, 3, 3, 2, 0, 4, 4, 3, 2, 4, 0, 4, 4, 0, 0, 0, 0, 1,\n",
       "       4, 1, 1, 4, 0, 4, 1, 1, 4, 3, 0, 3, 0, 1, 1, 4, 4, 2, 2, 4, 0, 4,\n",
       "       0, 1, 1, 2, 0, 3, 1, 0, 2, 0, 1, 0, 3, 1, 0, 1, 0, 1, 1, 4, 1, 4,\n",
       "       4, 0, 0, 4, 0, 3, 2, 2, 0, 2, 4, 0, 3, 0, 4, 4, 0, 3, 3, 1, 0, 0,\n",
       "       3, 0, 0, 4, 4, 0, 4, 0, 2, 0, 0, 4, 2, 3, 0, 4, 0, 2, 2, 3, 0, 2,\n",
       "       4, 0, 3, 3, 0, 4, 0, 4, 0, 0, 2, 3, 3, 4, 3, 2, 4, 3, 0, 0, 0, 1,\n",
       "       1, 0, 1, 1, 3, 1, 1, 0, 1, 0, 3, 0, 0, 1, 3, 1, 4, 1, 0, 1, 2, 1,\n",
       "       0, 2, 0, 2, 4, 4, 2, 0, 1, 1, 0, 0, 4, 0, 0, 0, 0, 3, 4, 0, 3, 2,\n",
       "       2, 2, 3, 1, 3, 4, 2, 0, 0, 0, 4, 2, 0, 4, 3, 0, 0, 2, 2, 2, 1, 3,\n",
       "       4, 4, 4, 1, 4, 2, 1, 4, 0, 4, 1, 4, 1, 4, 4, 2, 1, 3, 3, 0, 3, 2,\n",
       "       0, 4, 1, 3, 2, 4, 1, 4, 1, 0, 2, 2, 1, 3, 3, 2, 3, 4, 3, 4, 0, 3,\n",
       "       0, 0, 0, 2, 0, 2, 1, 2, 3, 4, 2, 1, 1, 0, 4, 3, 4, 3, 0, 1, 4, 4,\n",
       "       2, 4, 0, 0, 4, 3, 3, 2, 3, 1, 3, 4, 0, 3, 4, 4, 0, 1, 4, 0, 3, 4,\n",
       "       3, 0, 3, 0, 1, 4, 1, 4, 2, 4, 4, 2, 0, 1, 0, 2, 4, 4, 1, 2, 0, 4,\n",
       "       4, 2, 4, 0, 1, 1, 4, 4, 1, 2, 0, 1, 0, 0, 3, 0, 3, 1, 2, 1, 2, 1,\n",
       "       1, 0, 4, 1, 0, 3, 4, 1, 3, 2, 1, 4, 0, 4, 1, 2, 0, 4, 4, 0, 1, 0,\n",
       "       1, 1, 3, 4, 1, 4, 3, 1, 4, 0, 2, 0, 2, 3, 1, 3, 1, 4, 3, 4, 4, 0,\n",
       "       3, 0, 4, 4, 1, 1, 0, 3, 2, 1, 0, 4, 4, 2, 0, 4, 3, 1, 0, 1, 2, 3,\n",
       "       3, 2, 2, 0, 2, 4, 4, 3, 2, 1, 0, 1, 3, 3, 0, 3, 0, 2, 2, 0, 3, 2,\n",
       "       1, 1, 0, 0, 2, 1, 4, 4, 2, 4, 0, 4, 1, 0, 2, 4, 2, 0, 1, 2, 0, 2,\n",
       "       3, 4, 4, 0, 3, 4, 4, 3, 3, 2, 3, 3, 3, 4, 3, 1, 4, 1, 2, 4, 0, 0,\n",
       "       2, 0, 1, 1, 1, 1, 4, 4, 1, 1, 4, 2, 4, 0, 0, 1, 3, 3, 2, 4, 1, 3,\n",
       "       0, 2, 4, 0, 1, 1, 0, 4, 4, 4, 1, 4, 1, 1, 4, 3, 1, 3, 4, 0, 1, 3,\n",
       "       0, 3, 4, 0, 1, 1, 3, 3, 3, 4, 1, 3, 4, 0, 3, 0, 1, 4, 1, 2, 1, 0,\n",
       "       4, 3, 4, 1, 1, 4, 2, 1, 1, 0, 3, 0, 3, 2, 0, 0, 0, 1, 0, 1, 0, 0,\n",
       "       1, 1, 2, 4, 2, 2, 4, 3, 4, 1, 2, 3, 1, 3, 4, 0, 4, 0, 1, 4, 1, 3,\n",
       "       2, 0, 1, 1, 1, 3, 1, 3, 4, 3, 1, 1, 4, 4, 0, 0, 1, 3, 1, 1, 1, 1,\n",
       "       0, 0, 4, 2, 2, 0, 3, 2, 4, 2, 0, 3, 0, 4, 3, 4, 0, 3, 1, 1, 4, 2,\n",
       "       0, 4, 3, 0, 3, 1, 3, 1, 2, 2, 3, 0, 2, 4, 0, 2, 3, 1, 4, 2, 2, 0,\n",
       "       4, 2, 3, 0, 0, 3, 3, 3, 3, 4, 1, 0, 4, 3, 1, 0, 0, 2, 4, 3, 3, 4,\n",
       "       0, 3, 3, 0, 0, 3, 2, 1, 1, 1, 1, 4, 0, 3, 0, 3, 4, 4, 0, 2, 1, 4,\n",
       "       1, 2, 1, 4, 0, 4, 2, 4, 0, 0, 1, 0, 3, 0, 4, 3, 3, 1, 3, 4, 4, 1,\n",
       "       1, 0, 0, 4, 1, 0, 0, 4, 1, 1, 2, 3, 1, 3, 4, 1, 3, 3, 4, 3, 3, 1,\n",
       "       4, 1, 0, 3, 0, 1, 4, 2, 1, 0, 1, 0, 3, 4, 1, 3, 3, 0, 4, 1, 2, 4,\n",
       "       1, 2, 4, 2, 4, 0, 3, 1, 4, 3, 3, 4, 2, 2, 4, 3, 0, 4, 3, 1, 0, 3,\n",
       "       4, 1, 2, 0, 1, 3, 0, 4, 1, 2, 1, 2, 4, 4, 1, 1, 4, 1, 3, 3, 1, 4,\n",
       "       0, 3, 4, 1, 1, 0, 0, 3, 4, 1, 2, 3, 0, 0, 0, 4, 0, 2, 0, 4, 4, 2,\n",
       "       3, 1, 4, 4, 4, 2, 2, 1, 3, 1, 1, 4, 2, 2, 0, 4, 4, 4, 1, 4, 3, 3,\n",
       "       3, 4, 1, 0, 4, 0, 4, 4, 3, 4, 1, 0, 3, 4, 4, 3, 3, 2, 2, 0, 3, 4,\n",
       "       4, 2, 1, 4, 4, 4, 3, 4, 0, 4, 2, 0, 3, 4, 4, 0, 1, 1, 2, 0, 4, 1,\n",
       "       0, 4, 1, 0, 0, 1, 1, 1, 4, 1, 1, 4, 1, 2, 1, 1, 0, 1, 1, 2, 4, 4,\n",
       "       4, 2, 3, 2, 4, 2, 2, 4, 4, 4, 1, 1, 2, 1, 0, 4, 0, 1, 4, 2, 1, 0,\n",
       "       3, 1, 0, 2, 2, 0, 2, 3, 3, 3, 4, 1, 0, 0, 0, 2, 0, 1, 3, 3, 1, 0],\n",
       "      dtype=int64)"
      ]
     },
     "execution_count": 54,
     "metadata": {},
     "output_type": "execute_result"
    }
   ],
   "source": [
    "labels.astype(np.int64)"
   ]
  },
  {
   "cell_type": "code",
   "execution_count": 47,
   "metadata": {},
   "outputs": [],
   "source": [
    "l1 = [733,  96, 921, 733, 227, 921, 351, 227, 351, 921, 351, 921, 733,\n",
    "        96, 227, 227,  96, 921, 351, 227, 227, 921, 227,  96, 733,  96,\n",
    "       921, 351, 921, 921,  96, 227, 227, 351, 921, 227, 227, 227, 733,\n",
    "       227, 227, 227, 227,  96, 227,  96, 227, 227, 733, 227,  96, 351,\n",
    "       227, 351,  96,  96, 227, 227,  96, 227, 227, 921, 921, 227, 227,\n",
    "       227, 227,  96,  96, 921, 227,  96,  96, 227, 921,  96,  96, 227,\n",
    "       351,  96, 227,  96,  96, 227, 227, 733, 227, 733, 733,  96,  96,\n",
    "       733, 733, 921, 921, 351,  96, 921, 227, 227, 351,  96, 733, 227,\n",
    "       227, 351, 351,  96,  96, 227,  96, 733, 733, 733, 733, 227,  96,\n",
    "       227, 351, 227,  96, 733, 921, 351,  96, 227, 227, 921, 921,  96,\n",
    "       227, 921, 733, 227,  96, 351, 227, 227, 733, 227, 227,  96, 921,\n",
    "       351, 351, 227,  96, 921, 227,  96, 227,  96, 227, 227,  96, 227,\n",
    "        96, 351, 921, 227,  96, 227,  96,  96, 351,  96, 227,  96, 921,\n",
    "        96, 227,  96,  96,  96, 921,  96, 227, 921, 227, 921, 227, 733,\n",
    "       921,  96,  96,  96, 227, 227, 733,  96, 227, 227, 227,  96, 227,\n",
    "       227, 351, 921, 921, 921, 351,  96, 351, 227, 921,  96, 227, 227,\n",
    "       733, 921, 227, 227, 351, 227, 227, 921, 921, 921,  96, 351, 227,\n",
    "       227, 227,  96, 733, 921,  96, 227, 227, 227,  96, 733,  96, 227,\n",
    "       227, 351,  96,  96, 351, 227, 351, 921, 227, 733,  96,  96, 351,\n",
    "       733,  96, 227,  96, 227, 921, 921,  96, 351,  96, 921, 921, 227,\n",
    "       351, 227, 227, 351,  96,  96,  96, 921,  96, 921, 227, 921, 351,\n",
    "       227, 921, 227, 227,  96, 227, 351, 733, 351, 921, 227, 227, 733,\n",
    "       921, 227,  96, 227, 227, 351,  96, 921, 351,  96, 351, 227, 227,\n",
    "        96, 227, 733,  96, 227, 227, 227, 351, 733, 351, 227, 351, 227,\n",
    "        96, 733,  96, 227, 921, 227, 227, 921, 227,  96, 227, 921, 227,\n",
    "       227, 227, 351,  96, 227, 227, 921, 227, 227,  96,  96, 227, 227,\n",
    "        96, 921, 227,  96, 227, 227, 351,  96, 351, 227, 921,  96, 921,\n",
    "       351, 227, 227, 227,  96, 227, 351, 227, 227,  96, 921, 351, 227,\n",
    "       227, 227,  96, 921, 227, 227, 733,  96,  96, 227, 227,  96, 351,\n",
    "       733,  96, 227, 921,  96, 227,  96, 921, 227, 921, 921,  96, 351,\n",
    "        96, 227, 351, 227, 733,  96, 351, 227, 227, 227,  96,  96,  96,\n",
    "       351, 921, 227, 227, 227, 733, 921, 227, 227, 351,  96, 227,  96,\n",
    "       351, 351, 921, 921, 921, 227, 921, 227, 227, 351, 921,  96, 227,\n",
    "        96,  96,  96, 227, 351, 227, 921, 921, 227,  96, 921,  96,  96,\n",
    "       227, 227, 921,  96, 733, 733, 921,  96, 227, 733,  96, 733, 921,\n",
    "       227, 921, 227,  96, 921,  96, 921, 351, 733, 227, 351, 351, 227,\n",
    "       733, 351, 351, 921, 351, 351,  96, 733, 351,  96, 227,  96, 921,\n",
    "       227, 227, 227, 921, 227, 227,  96, 351,  96, 227, 227,  96, 351,\n",
    "       733, 921, 227,  96,  96,  96, 351, 351, 921, 733,  96, 921, 227,\n",
    "       921, 227, 733, 351, 227, 227, 733, 733, 733, 351, 227, 227,  96,\n",
    "       227, 351,  96, 351, 733,  96, 351, 351, 227, 351, 227,  96,  96,\n",
    "        96, 351,  96, 351, 227,  96, 351, 227, 227, 351, 227,  96, 733,\n",
    "        96, 921, 227, 227, 227,  96, 733,  96,  96, 227, 921, 227, 227,\n",
    "       227, 351, 227, 351, 351, 227, 227,  96,  96, 227,  96, 227,  96,\n",
    "        96,  96, 921, 733, 921, 921, 733, 351, 227, 227, 921, 351,  96,\n",
    "       351, 733,  96, 227, 227,  96, 733,  96, 351, 921, 227,  96,  96,\n",
    "        96,  96,  96, 351, 733,  96,  96, 227, 733, 733,  96, 227,  96,\n",
    "        96,  96,  96,  96,  96, 227, 733, 733, 921, 921, 227, 351, 921,\n",
    "       227, 921, 227, 351,  96, 733, 351, 227, 227,  96,  96,  96, 227,\n",
    "       921, 227, 733, 351, 227, 351,  96, 351,  96, 921, 921, 351,  96,\n",
    "       921, 733, 227, 921,  96,  96, 733, 921, 921, 227, 227, 921, 351,\n",
    "       227, 227, 921, 351, 351, 351, 733,  96, 227, 227,  96,  96, 733,\n",
    "       227, 921, 227, 351, 351, 733, 227, 351, 351, 733,  96, 351, 921,\n",
    "        96, 227,  96, 351, 227, 227, 351, 227, 351, 227, 733,  96, 921,\n",
    "        96, 227,  96, 921,  96, 733, 921, 227, 921, 227, 227, 227, 351,\n",
    "        96, 351,  96,  96, 351,  96,  96, 351, 227, 733,  96,  96, 227,\n",
    "       227, 227,  96,  96, 227, 733,  96, 227, 921, 351,  96,  96, 733,\n",
    "       227, 351,  96, 733, 351, 351, 351, 733, 351,  96,  96, 227,  96,\n",
    "       227, 921, 227, 227,  96, 227,  96, 227,  96, 351, 351, 227, 733,\n",
    "        96, 921, 227,  96, 921, 227, 921, 227, 227, 351,  96, 227, 351,\n",
    "       351, 227, 921, 921, 733, 351, 227, 733, 351,  96, 227, 351, 227,\n",
    "        96, 921, 733, 227, 351,  96, 227, 227, 921,  96, 921, 227, 227,\n",
    "        96,  96, 227,  96, 351, 351,  96, 227, 227, 921, 227, 227,  96,\n",
    "        96, 227,  96, 733, 227, 921, 351, 227,  96, 227, 227, 227, 921,\n",
    "       351, 227, 227, 921, 351,  96, 227, 227, 733, 921, 921,  96,  96,\n",
    "        96, 227, 227, 921, 921, 227, 733, 227, 733,  96, 227,  96, 351,\n",
    "        96, 733,  96,  96, 227, 733, 733, 733,  96, 733, 227, 227, 921,\n",
    "       227, 733,  96, 351, 921, 921,  96, 351, 227, 227, 921,  96, 227,\n",
    "       733, 227,  96, 227, 227, 733, 921,  96, 351, 227, 227, 227,  96,\n",
    "       227, 921, 227, 227,  96,  96, 733,  96, 227, 227, 227,  96,  96,\n",
    "       227,  96,  96, 227, 227, 921, 227,  96, 227, 227, 227, 921, 227,\n",
    "       733, 227, 921, 351, 921, 227, 921, 921, 227, 733, 227,  96, 227,\n",
    "       921,  96,  96, 733, 227,  96, 733, 921, 921,  96, 351,  96,  96,\n",
    "       921, 921, 227, 921, 351, 351, 921, 227,  96, 227,  96,  96, 921,\n",
    "       227, 227, 351, 351, 227,  96]"
   ]
  },
  {
   "cell_type": "code",
   "execution_count": 48,
   "metadata": {},
   "outputs": [],
   "source": [
    "l2 = [733,  96, 921, 733, 227, 921, 351, 227, 351, 921, 351, 921, 733,\n",
    "        96, 227, 227,  96, 921, 351, 227, 227, 921, 227,  96, 733,  96,\n",
    "       921, 351, 921, 921,  96, 227, 227, 351, 921, 227, 227, 227, 733,\n",
    "       227, 227, 227, 227,  96, 227,  96, 227, 227, 733, 227,  96, 351,\n",
    "       227, 351,  96,  96, 227, 227,  96, 227, 227, 921, 921, 227, 227,\n",
    "       227, 227,  96,  96, 921, 227,  96,  96, 227, 921,  96,  96, 227,\n",
    "       351,  96, 227,  96,  96, 227, 227, 733, 227, 733, 733,  96,  96,\n",
    "       733, 733, 921, 921, 351,  96, 921, 227, 227, 351,  96, 733, 227,\n",
    "       227, 351, 351,  96,  96, 227,  96, 733, 733, 733, 733, 227,  96,\n",
    "       227, 351, 227,  96, 733, 921, 351,  96, 227, 227, 921, 921,  96,\n",
    "       227, 921, 733, 227,  96, 351, 227, 227, 733, 227, 227,  96, 921,\n",
    "       351, 351, 227,  96, 921, 227,  96, 227,  96, 227, 227,  96, 227,\n",
    "        96, 351, 921, 227,  96, 227,  96,  96, 351,  96, 227,  96, 921,\n",
    "        96, 227,  96,  96,  96, 921,  96, 227, 921, 227, 921, 227, 733,\n",
    "       921,  96,  96,  96, 227, 227, 733,  96, 227, 227, 227,  96, 227,\n",
    "       227, 351, 921, 921, 921, 351,  96, 351, 227, 921,  96, 227, 227,\n",
    "       733, 921, 227, 227, 351, 227, 227, 921, 921, 921,  96, 351, 227,\n",
    "       227, 227,  96, 733, 921,  96, 227, 227, 227,  96, 733,  96, 227,\n",
    "       227, 351,  96,  96, 351, 227, 351, 921, 227, 733,  96,  96, 351,\n",
    "       733,  96, 227,  96, 227, 921, 921,  96, 351,  96, 921, 921, 227,\n",
    "       351, 227, 227, 351,  96,  96,  96, 921,  96, 921, 227, 921, 351,\n",
    "       227, 921, 227, 227,  96, 227, 351, 733, 351, 921, 227, 227, 733,\n",
    "       921, 227,  96, 227, 227, 351,  96, 921, 351,  96, 351, 227, 227,\n",
    "        96, 227, 733,  96, 227, 227, 227, 351, 733, 351, 227, 351, 227,\n",
    "        96, 733,  96, 227, 921, 227, 227, 921, 227,  96, 227, 921, 227,\n",
    "       227, 227, 351,  96, 227, 227, 921, 227, 227,  96,  96, 227, 227,\n",
    "        96, 921, 227,  96, 227, 227, 351,  96, 351, 227, 921,  96, 921,\n",
    "       351, 227, 227, 227,  96, 227, 351, 227, 227,  96, 921, 351, 227,\n",
    "       227, 227,  96, 921, 227, 227, 733,  96,  96, 227, 227,  96, 351,\n",
    "       733,  96, 227, 921,  96, 227,  96, 921, 227, 921, 921,  96, 351,\n",
    "        96, 227, 351, 227, 733,  96, 351, 227, 227, 227,  96,  96,  96,\n",
    "       351, 921, 227, 227, 227, 733, 921, 227, 227, 351,  96, 227,  96,\n",
    "       351, 351, 921, 921, 921, 227, 921, 227, 227, 351, 921,  96, 227,\n",
    "        96,  96,  96, 227, 351, 227, 921, 921, 227,  96, 921,  96,  96,\n",
    "       227, 227, 921,  96, 733, 733, 921,  96, 227, 733,  96, 733, 921,\n",
    "       227, 921, 227,  96, 921,  96, 921, 351, 733, 227, 351, 351, 227,\n",
    "       733, 351, 351, 921, 351, 351,  96, 733, 351,  96, 227,  96, 921,\n",
    "       227, 227, 227, 921, 227, 227,  96, 351,  96, 227, 227,  96, 351,\n",
    "       733, 921, 227,  96,  96,  96, 351, 351, 921, 733,  96, 921, 227,\n",
    "       921, 227, 733, 351, 227, 227, 733, 733, 733, 351, 227, 227,  96,\n",
    "       227, 351,  96, 351, 733,  96, 351, 351, 227, 351, 227,  96,  96,\n",
    "        96, 351,  96, 351, 227,  96, 351, 227, 227, 351, 227,  96, 733,\n",
    "        96, 921, 227, 227, 227,  96, 733,  96,  96, 227, 921, 227, 227,\n",
    "       227, 351, 227, 351, 351, 227, 227,  96,  96, 227,  96, 227,  96,\n",
    "        96,  96, 921, 733, 921, 921, 733, 351, 227, 227, 921, 351,  96,\n",
    "       351, 733,  96, 227, 227,  96, 733,  96, 351, 921, 227,  96,  96,\n",
    "        96,  96,  96, 351, 733,  96,  96, 227, 733, 733,  96, 227,  96,\n",
    "        96,  96,  96,  96,  96, 227, 733, 733, 921, 921, 227, 351, 921,\n",
    "       227, 921, 227, 351,  96, 733, 351, 227, 227,  96,  96,  96, 227,\n",
    "       921, 227, 733, 351, 227, 351,  96, 351,  96, 921, 921, 351,  96,\n",
    "       921, 733, 227, 921,  96,  96, 733, 921, 921, 227, 227, 921, 351,\n",
    "       227, 227, 921, 351, 351, 351, 733,  96, 227, 227,  96,  96, 733,\n",
    "       227, 921, 227, 351, 351, 733, 227, 351, 351, 733,  96, 351, 921,\n",
    "        96, 227,  96, 351, 227, 227, 351, 227, 351, 227, 733,  96, 921,\n",
    "        96, 227,  96, 921,  96, 733, 921, 227, 921, 227, 227, 227, 351,\n",
    "        96, 351,  96,  96, 351,  96,  96, 351, 227, 733,  96,  96, 227,\n",
    "       227, 227,  96,  96, 227, 733, 227, 227, 921, 351,  96,  96, 733,\n",
    "       227, 351,  96, 733, 351, 351, 351, 733, 351,  96,  96, 227,  96,\n",
    "       227, 921, 227, 227,  96, 227,  96, 227,  96, 351, 351, 227, 733,\n",
    "        96, 921, 227,  96, 921, 227, 921, 227, 227, 351,  96, 227, 351,\n",
    "       351, 227, 921, 921, 733, 351, 227, 733, 351,  96, 227, 351, 227,\n",
    "        96, 921, 733, 227, 351,  96, 227, 227, 921,  96, 921, 227, 227,\n",
    "        96,  96, 227,  96, 351, 351,  96, 227, 227, 921, 227, 227,  96,\n",
    "       227, 227,  96, 733, 227, 921, 351, 227,  96, 227, 227, 227, 921,\n",
    "       351, 227, 227, 921, 351,  96, 227, 227, 733, 921, 921,  96,  96,\n",
    "        96, 227, 227, 921, 921, 227, 733, 227, 733,  96, 227,  96, 351,\n",
    "        96, 733,  96,  96, 227, 733, 733, 733,  96, 733, 227, 227, 921,\n",
    "       227, 733,  96, 351, 921, 921,  96, 351, 227, 227, 921,  96, 227,\n",
    "       733, 227,  96, 227, 227, 733, 921,  96, 351, 227, 227, 227,  96,\n",
    "       227, 921, 227, 227,  96,  96, 733,  96, 227, 227, 227,  96,  96,\n",
    "       227,  96,  96, 227, 227, 921, 227,  96, 227, 227, 227, 921, 227,\n",
    "       733, 227, 921, 351, 921, 227, 921, 921, 227, 733, 227,  96, 227,\n",
    "       921,  96,  96, 733, 227,  96, 733, 921, 921,  96, 351,  96,  96,\n",
    "       921, 921, 227, 921, 351, 351, 921, 227,  96, 227,  96,  96, 921,\n",
    "       227, 227, 351, 351, 227,  96]"
   ]
  },
  {
   "cell_type": "code",
   "execution_count": 57,
   "metadata": {},
   "outputs": [
    {
     "data": {
      "text/plain": [
       "0.9931700285945958"
      ]
     },
     "execution_count": 57,
     "metadata": {},
     "output_type": "execute_result"
    }
   ],
   "source": [
    "adjusted_rand_score(l1,l2)"
   ]
  },
  {
   "cell_type": "code",
   "execution_count": 50,
   "metadata": {},
   "outputs": [],
   "source": [
    "from itertools import combinations"
   ]
  },
  {
   "cell_type": "code",
   "execution_count": 51,
   "metadata": {},
   "outputs": [],
   "source": [
    "def RI(a,b):\n",
    "    ss = 0\n",
    "    dd = 0\n",
    "    sum = 0\n",
    "    for com in combinations(range(len(a)),2):\n",
    "        sum = sum + 1\n",
    "        if (a[com[0]] == a[com[1]]) and (b[com[0]] == b[com[1]]):\n",
    "            ss = ss + 1\n",
    "        if (a[com[0]] != a[com[1]]) and (b[com[0]] != b[com[1]]):\n",
    "            dd = dd + 1\n",
    "    return (ss + dd) / sum"
   ]
  },
  {
   "cell_type": "code",
   "execution_count": 58,
   "metadata": {},
   "outputs": [
    {
     "data": {
      "text/plain": [
       "0.9975257890553557"
      ]
     },
     "execution_count": 58,
     "metadata": {},
     "output_type": "execute_result"
    }
   ],
   "source": [
    "RI(l1,l2)"
   ]
  },
  {
   "cell_type": "code",
   "execution_count": null,
   "metadata": {},
   "outputs": [],
   "source": []
  }
 ],
 "metadata": {
  "kernelspec": {
   "display_name": "Python 3",
   "language": "python",
   "name": "python3"
  },
  "language_info": {
   "codemirror_mode": {
    "name": "ipython",
    "version": 3
   },
   "file_extension": ".py",
   "mimetype": "text/x-python",
   "name": "python",
   "nbconvert_exporter": "python",
   "pygments_lexer": "ipython3",
   "version": "3.7.4"
  }
 },
 "nbformat": 4,
 "nbformat_minor": 2
}
