{
 "cells": [
  {
   "cell_type": "markdown",
   "metadata": {},
   "source": [
    "### 中心节点操作流程\n",
    "- 轨迹生成\n",
    "- 聚类操作（kmedoids），但此时的聚类结果是无序的\n",
    "- 原始数据网格化\n",
    "- 聚类得到簇心结果，然后将所有网格化数据对这些簇心进行比较，从而得到有序的聚类结果"
   ]
  },
  {
   "cell_type": "code",
   "execution_count": 1,
   "metadata": {},
   "outputs": [],
   "source": [
    "import numpy as np \n",
    "import pandas as pd \n",
    "import matplotlib.pyplot as plt\n",
    "\n",
    "from sklearn.metrics import davies_bouldin_score\n",
    "from sklearn.cluster import DBSCAN \n",
    "from sklearn.cluster import KMeans\n",
    "from sklearn.metrics.cluster import adjusted_rand_score\n",
    "\n",
    "from pyclustering.cluster.kmeans import kmeans\n",
    "from pyclustering.utils.metric import type_metric, distance_metric\n",
    "from pyclustering.cluster.center_initializer import kmeans_plusplus_initializer"
   ]
  },
  {
   "cell_type": "markdown",
   "metadata": {},
   "source": [
    "#### 轨迹生成"
   ]
  },
  {
   "cell_type": "code",
   "execution_count": 2,
   "metadata": {},
   "outputs": [],
   "source": [
    "def trGendrator(firstPoints,transMatrix,allState,maxLength):\n",
    "    returnTr = []\n",
    "    for i in range(len(firstPoints)):\n",
    "        genTr = []\n",
    "        nowP = firstPoints[i]\n",
    "        genTr.append(nowP)\n",
    "        for i in range(maxLength):\n",
    "            pro = list(transMatrix.loc[nowP])\n",
    "            if np.isnan(pro[0]):\n",
    "                break\n",
    "            n = np.random.choice(len(allState),1,p = pro)\n",
    "            genTr.append(allState[n[0]])\n",
    "            nowP = allState[n[0]]\n",
    "        returnTr.append(genTr)\n",
    "    return returnTr"
   ]
  },
  {
   "cell_type": "markdown",
   "metadata": {},
   "source": [
    "#### 聚类操作"
   ]
  },
  {
   "cell_type": "code",
   "execution_count": 3,
   "metadata": {},
   "outputs": [],
   "source": [
    "def dist(a,b):\n",
    "    distance = 0\n",
    "    distance = (directed_hausdorff(a,b)[0] + directed_hausdorff(a,b)[0]) / 2   \n",
    "    return distance"
   ]
  },
  {
   "cell_type": "code",
   "execution_count": 4,
   "metadata": {},
   "outputs": [],
   "source": [
    "def distMatrix(data):\n",
    "    length = len(data)\n",
    "    mat = np.zeros((length,length))\n",
    "    for i in range(length):\n",
    "        for j in range(length):\n",
    "            mat[i][j] = dist(data[i],data[j])\n",
    "    return mat"
   ]
  },
  {
   "cell_type": "code",
   "execution_count": 5,
   "metadata": {},
   "outputs": [],
   "source": [
    "#  clusterid 中的类号是指的是代表聚类中心的元素号。\n",
    "def cluster(data,K):\n",
    "    distance = distMatrix(data)\n",
    "    clusterid, error, nfound = kmedoids(distance,K,npass = 10)\n",
    "    return clusterid"
   ]
  },
  {
   "cell_type": "code",
   "execution_count": 6,
   "metadata": {},
   "outputs": [],
   "source": [
    "def cost(data,labels):\n",
    "    loss = 0\n",
    "    for i in range(len(data)):\n",
    "        loss = loss + dist(data[i],data[labels[i]])\n",
    "    loss = loss / len(data)\n",
    "    return loss"
   ]
  },
  {
   "cell_type": "code",
   "execution_count": 7,
   "metadata": {},
   "outputs": [],
   "source": [
    "def chooseK(data,K):\n",
    "    x = np.arange(3,K+1)\n",
    "    y = np.zeros(len(x))\n",
    "    for k in range(3,K+1):\n",
    "        labels = cluster(data,k)\n",
    "        y[k-3] = cost(data, labels)\n",
    "    plt.plot(x,y)\n",
    "    plt.show()"
   ]
  },
  {
   "cell_type": "markdown",
   "metadata": {},
   "source": [
    "#### 原始数据网格化"
   ]
  },
  {
   "cell_type": "code",
   "execution_count": 9,
   "metadata": {},
   "outputs": [],
   "source": [
    "POINTS_NUM_PER_TR = 500\n",
    "\n",
    "df = pd.read_csv('../data/all.csv')\n",
    "\n",
    "NUM_TR = int(len(df)/POINTS_NUM_PER_TR)"
   ]
  },
  {
   "cell_type": "code",
   "execution_count": 11,
   "metadata": {},
   "outputs": [],
   "source": [
    "def df2array(df):\n",
    "    # 将数据以 ndarray 的形式读入内存\n",
    "    # [[x1,x2,...,x500,y1,y2,...,y500],[],...]\n",
    "    i = 0\n",
    "    data = np.array([])\n",
    "    while i <= len(df)-1:\n",
    "        arr_x = np.array(df['x'][i:i+POINTS_NUM_PER_TR])\n",
    "        arr_y = np.array(df['y'][i:i+POINTS_NUM_PER_TR])\n",
    "        arr = np.append(arr_x,arr_y)\n",
    "        if len(data)==0:\n",
    "            data = np.array([arr])\n",
    "        else:\n",
    "            data = np.append(data,[arr],axis=0)\n",
    "        i+=POINTS_NUM_PER_TR\n",
    "    return data"
   ]
  },
  {
   "cell_type": "code",
   "execution_count": 12,
   "metadata": {},
   "outputs": [],
   "source": [
    "DATA = df2array(df)"
   ]
  },
  {
   "cell_type": "code",
   "execution_count": 8,
   "metadata": {},
   "outputs": [],
   "source": [
    "def discretization(data):\n",
    "    \n",
    "    # 网格坐标化\n",
    "    data = np.round(data)\n",
    "    tr_point = [    [  (data[j][i],data[j][i+POINTS_NUM_PER_TR])    for i in range(POINTS_NUM_PER_TR)]     \n",
    "                           for j in range(len(data))]\n",
    "    \n",
    "    \n",
    "    # 去掉连续落在同一区间上的点\n",
    "    for i in range(len(tr_point)):\n",
    "        tmp = []\n",
    "        l = tr_point[i].copy()\n",
    "        for j in range(POINTS_NUM_PER_TR-1):\n",
    "            if l[j] == l[j+1]:\n",
    "                tmp.append(j)\n",
    "        tr_point[i] = [l[i] for i in range(POINTS_NUM_PER_TR) if i not in tmp]\n",
    "        \n",
    "    # 防止出现跨越的点\n",
    "    for i in range(len(tr_point)):\n",
    "        tmp = tr_point[i].copy()  # [(),(),...,()]\n",
    "        count = 0 # 添加的点造成的偏移\n",
    "        for j in range(len(tmp) - 1):\n",
    "            now_p = tmp[j]\n",
    "            next_p = tmp[j + 1]\n",
    "            if not(tr_point[i][j + count] == now_p and tr_point[i][j + count + 1] == next_p):\n",
    "                print('WRONGGGGG: ',now_p,next_p,tr_point[i][j + count],tr_point[i][j + count],)\n",
    "                break\n",
    "            if now_p[0] == next_p[0] and abs(now_p[1] - next_p[1]) == 1:\n",
    "                continue\n",
    "            elif abs(now_p[0] - next_p[0]) == 1 and now_p[1] == next_p[1]:\n",
    "                continue   \n",
    "            else:\n",
    "                # print(now_p,next_p)\n",
    "                delta_x = int(abs(now_p[0] - next_p[0]))\n",
    "                delta_y = int(abs(now_p[1] - next_p[1]))\n",
    "                if delta_x == 0:\n",
    "                    step = (next_p[1] - now_p[1]) / delta_y\n",
    "                    for k in range(1,delta_y,1):\n",
    "                        tr_point[i].insert(j + count + k,(now_p[0],now_p[1] + k * step))\n",
    "                    count = count + delta_y - 1\n",
    "                    continue\n",
    "                elif delta_y == 0:\n",
    "                    step = (next_p[0] - now_p[0])/delta_x\n",
    "                    for k in range(1,delta_x,1):\n",
    "                        tr_point[i].insert(j + count + k,(now_p[0] + k * step,now_p[1]))\n",
    "                    count = count + delta_x - 1\n",
    "                    continue\n",
    "                else:\n",
    "                    step_x = (next_p[0] - now_p[0])/delta_x\n",
    "                    step_y = (next_p[1] - now_p[1]) / delta_y\n",
    "                    k = 1\n",
    "                    while delta_x != 0 and delta_y != 0:\n",
    "                        tr_point[i].insert(j + count + 1,(now_p[0] + k * step_x,now_p[1]))\n",
    "                        tr_point[i].insert(j + count + 2,(now_p[0] + k * step_x,now_p[1] + k * step_y))\n",
    "                        count = count + 2\n",
    "                        k = k + 1\n",
    "                        delta_x = delta_x - 1\n",
    "                        delta_y = delta_y - 1\n",
    "                    if delta_x == 0 and delta_y == 0:\n",
    "                        tr_point[i].pop(j + count)\n",
    "                        count = count - 1\n",
    "                    elif delta_x == 0:\n",
    "                        step = (next_p[1] - now_p[1]) / delta_y\n",
    "                        for k in range(1,delta_y,1):\n",
    "                            tr_point[i].insert(j + count + k,(now_p[0],now_p[1] + k * step))\n",
    "                        count = count + delta_y - 1\n",
    "                        continue\n",
    "                    elif delta_y == 0:\n",
    "                        step = (next_p[0] - now_p[0])/delta_x\n",
    "                        for k in range(1,delta_x,1):\n",
    "                            tr_point[i].insert(j + count + k,(now_p[0] + k * step,now_p[1]))\n",
    "                        count = count + delta_x - 1\n",
    "                        continue\n",
    "                        \n",
    "    return tr_point"
   ]
  },
  {
   "cell_type": "code",
   "execution_count": 13,
   "metadata": {},
   "outputs": [],
   "source": [
    "DISC_DATA = discretization(DATA)"
   ]
  },
  {
   "cell_type": "markdown",
   "metadata": {},
   "source": [
    "#### 与簇心进行对比，得到最后的聚类结果"
   ]
  },
  {
   "cell_type": "code",
   "execution_count": null,
   "metadata": {},
   "outputs": [],
   "source": []
  }
 ],
 "metadata": {
  "kernelspec": {
   "display_name": "Python 3",
   "language": "python",
   "name": "python3"
  },
  "language_info": {
   "codemirror_mode": {
    "name": "ipython",
    "version": 3
   },
   "file_extension": ".py",
   "mimetype": "text/x-python",
   "name": "python",
   "nbconvert_exporter": "python",
   "pygments_lexer": "ipython3",
   "version": "3.7.4"
  }
 },
 "nbformat": 4,
 "nbformat_minor": 2
}
