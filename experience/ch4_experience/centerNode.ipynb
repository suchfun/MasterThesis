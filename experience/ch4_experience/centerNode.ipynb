{
 "cells": [
  {
   "cell_type": "markdown",
   "metadata": {},
   "source": [
    "### 中心节点操作流程\n",
    "- 轨迹生成\n",
    "- 聚类操作（kmedoids），但此时的聚类结果是无序的\n",
    "- 原始数据网格化\n",
    "- 聚类得到簇心结果，然后将所有网格化数据对这些簇心进行比较，从而得到有序的聚类结果"
   ]
  },
  {
   "cell_type": "code",
   "execution_count": 59,
   "metadata": {},
   "outputs": [],
   "source": [
    "import numpy as np \n",
    "import pandas as pd \n",
    "import matplotlib.pyplot as plt\n",
    "\n",
    "from sklearn.metrics import davies_bouldin_score\n",
    "from sklearn.cluster import DBSCAN \n",
    "from sklearn.cluster import KMeans\n",
    "from sklearn.metrics.cluster import adjusted_rand_score\n",
    "\n",
    "from pyclustering.cluster.kmeans import kmeans\n",
    "from pyclustering.utils.metric import type_metric, distance_metric\n",
    "from pyclustering.cluster.center_initializer import kmeans_plusplus_initializer\n",
    "from hausdorff import hausdorff_distance\n",
    "\n",
    "from Bio.Cluster import kmedoids\n",
    "import pickle"
   ]
  },
  {
   "cell_type": "code",
   "execution_count": 60,
   "metadata": {},
   "outputs": [],
   "source": [
    "NODE_NUM = 3"
   ]
  },
  {
   "cell_type": "markdown",
   "metadata": {},
   "source": [
    "#### 轨迹生成"
   ]
  },
  {
   "cell_type": "code",
   "execution_count": 181,
   "metadata": {},
   "outputs": [],
   "source": [
    "def loadPara():\n",
    "    allPara = []\n",
    "    with open('node1paraK3.pickle', 'rb') as f:\n",
    "        para = pickle.load(f)\n",
    "    allPara.append(para)\n",
    "    with open('node2paraK3.pickle', 'rb') as f:\n",
    "        para = pickle.load(f)\n",
    "    allPara.append(para)\n",
    "    with open('node3paraK3.pickle', 'rb') as f:\n",
    "        para = pickle.load(f)\n",
    "    allPara.append(para)\n",
    "    return allPara"
   ]
  },
  {
   "cell_type": "code",
   "execution_count": 62,
   "metadata": {},
   "outputs": [],
   "source": [
    "def trGendrator(allPara):\n",
    "    returnTr = []\n",
    "    for n in range(NODE_NUM):\n",
    "        nodePara = allPara[n]\n",
    "        for j in range(len(nodePara)):\n",
    "            cPara = nodePara[j]\n",
    "            firstPoints = cPara['firstP']\n",
    "            maxLength = cPara['maxL']\n",
    "            transMatrix = cPara['transM']\n",
    "            allState = cPara['allS']\n",
    "            for i in range(len(firstPoints)):\n",
    "                genTr = []\n",
    "                nowP = firstPoints[i]\n",
    "                genTr.append(nowP)\n",
    "                for m in range(maxLength):\n",
    "                    pro = list(transMatrix.loc[nowP])\n",
    "                    if np.isnan(pro[0]):\n",
    "                        break\n",
    "                    n = np.random.choice(len(allState),1,p = pro)\n",
    "                    genTr.append(allState[n[0]])\n",
    "                    nowP = allState[n[0]]\n",
    "                returnTr.append(genTr)\n",
    "    return returnTr"
   ]
  },
  {
   "cell_type": "markdown",
   "metadata": {},
   "source": [
    "#### 聚类操作"
   ]
  },
  {
   "cell_type": "code",
   "execution_count": 63,
   "metadata": {},
   "outputs": [],
   "source": [
    "def dist(a,b):\n",
    "    \n",
    "    return hausdorff_distance(a,b)"
   ]
  },
  {
   "cell_type": "code",
   "execution_count": 64,
   "metadata": {},
   "outputs": [],
   "source": [
    "def distMatrix(data):\n",
    "    length = len(data)\n",
    "    mat = [[]]\n",
    "    for i in range(1,length):\n",
    "        tmp = []\n",
    "        for j in range(i):\n",
    "            tmp.append(dist(np.array(data[i]),np.array(data[j])))\n",
    "        mat.append(tmp) \n",
    "    return mat"
   ]
  },
  {
   "cell_type": "code",
   "execution_count": 65,
   "metadata": {},
   "outputs": [],
   "source": [
    "#  clusterid 中的类号是指的是代表聚类中心的元素号。\n",
    "def cluster(data,K,mat):\n",
    "    clusterid, error, nfound = kmedoids(mat,K,npass = 20)\n",
    "    return clusterid"
   ]
  },
  {
   "cell_type": "code",
   "execution_count": 66,
   "metadata": {},
   "outputs": [],
   "source": [
    "def cost(data,labels):\n",
    "    loss = 0\n",
    "    for i in range(len(data)):\n",
    "        loss = loss + dist(np.array(data[i]),np.array(data[labels[i]]))\n",
    "    loss = loss / len(data)\n",
    "    return loss"
   ]
  },
  {
   "cell_type": "code",
   "execution_count": 67,
   "metadata": {},
   "outputs": [],
   "source": [
    "def chooseK(data,K,mat):\n",
    "    x = np.arange(3,K+1)\n",
    "    y = np.zeros(len(x))\n",
    "    for k in range(3,K+1):\n",
    "        labels = cluster(data,k,mat)\n",
    "        y[k-3] = cost(data, labels)\n",
    "    plt.plot(x,y)\n",
    "    plt.show()"
   ]
  },
  {
   "cell_type": "markdown",
   "metadata": {},
   "source": [
    "#### 原始数据网格化"
   ]
  },
  {
   "cell_type": "code",
   "execution_count": 68,
   "metadata": {},
   "outputs": [],
   "source": [
    "def df2array(df):\n",
    "    # 将数据以 ndarray 的形式读入内存\n",
    "    # [[x1,x2,...,x500,y1,y2,...,y500],[],...]\n",
    "    i = 0\n",
    "    data = np.array([])\n",
    "    while i <= len(df)-1:\n",
    "        arr_x = np.array(df['x'][i:i+POINTS_NUM_PER_TR])\n",
    "        arr_y = np.array(df['y'][i:i+POINTS_NUM_PER_TR])\n",
    "        arr = np.append(arr_x,arr_y)\n",
    "        if len(data)==0:\n",
    "            data = np.array([arr])\n",
    "        else:\n",
    "            data = np.append(data,[arr],axis=0)\n",
    "        i+=POINTS_NUM_PER_TR\n",
    "    return data"
   ]
  },
  {
   "cell_type": "code",
   "execution_count": 69,
   "metadata": {},
   "outputs": [],
   "source": [
    "def discretization(data):\n",
    "    \n",
    "    # 网格坐标化\n",
    "    data = np.round(data)\n",
    "    tr_point = [    [  (data[j][i],data[j][i+POINTS_NUM_PER_TR])    for i in range(POINTS_NUM_PER_TR)]     \n",
    "                           for j in range(len(data))]\n",
    "    \n",
    "    \n",
    "    # 去掉连续落在同一区间上的点\n",
    "    for i in range(len(tr_point)):\n",
    "        tmp = []\n",
    "        l = tr_point[i].copy()\n",
    "        for j in range(POINTS_NUM_PER_TR-1):\n",
    "            if l[j] == l[j+1]:\n",
    "                tmp.append(j)\n",
    "        tr_point[i] = [l[i] for i in range(POINTS_NUM_PER_TR) if i not in tmp]\n",
    "        \n",
    "    # 防止出现跨越的点\n",
    "    for i in range(len(tr_point)):\n",
    "        tmp = tr_point[i].copy()  # [(),(),...,()]\n",
    "        count = 0 # 添加的点造成的偏移\n",
    "        for j in range(len(tmp) - 1):\n",
    "            now_p = tmp[j]\n",
    "            next_p = tmp[j + 1]\n",
    "            if not(tr_point[i][j + count] == now_p and tr_point[i][j + count + 1] == next_p):\n",
    "                print('WRONGGGGG: ',now_p,next_p,tr_point[i][j + count],tr_point[i][j + count],)\n",
    "                break\n",
    "            if now_p[0] == next_p[0] and abs(now_p[1] - next_p[1]) == 1:\n",
    "                continue\n",
    "            elif abs(now_p[0] - next_p[0]) == 1 and now_p[1] == next_p[1]:\n",
    "                continue   \n",
    "            else:\n",
    "                # print(now_p,next_p)\n",
    "                delta_x = int(abs(now_p[0] - next_p[0]))\n",
    "                delta_y = int(abs(now_p[1] - next_p[1]))\n",
    "                if delta_x == 0:\n",
    "                    step = (next_p[1] - now_p[1]) / delta_y\n",
    "                    for k in range(1,delta_y,1):\n",
    "                        tr_point[i].insert(j + count + k,(now_p[0],now_p[1] + k * step))\n",
    "                    count = count + delta_y - 1\n",
    "                    continue\n",
    "                elif delta_y == 0:\n",
    "                    step = (next_p[0] - now_p[0])/delta_x\n",
    "                    for k in range(1,delta_x,1):\n",
    "                        tr_point[i].insert(j + count + k,(now_p[0] + k * step,now_p[1]))\n",
    "                    count = count + delta_x - 1\n",
    "                    continue\n",
    "                else:\n",
    "                    step_x = (next_p[0] - now_p[0])/delta_x\n",
    "                    step_y = (next_p[1] - now_p[1]) / delta_y\n",
    "                    k = 1\n",
    "                    while delta_x != 0 and delta_y != 0:\n",
    "                        tr_point[i].insert(j + count + 1,(now_p[0] + k * step_x,now_p[1]))\n",
    "                        tr_point[i].insert(j + count + 2,(now_p[0] + k * step_x,now_p[1] + k * step_y))\n",
    "                        count = count + 2\n",
    "                        k = k + 1\n",
    "                        delta_x = delta_x - 1\n",
    "                        delta_y = delta_y - 1\n",
    "                    if delta_x == 0 and delta_y == 0:\n",
    "                        tr_point[i].pop(j + count)\n",
    "                        count = count - 1\n",
    "                    elif delta_x == 0:\n",
    "                        step = (next_p[1] - now_p[1]) / delta_y\n",
    "                        for k in range(1,delta_y,1):\n",
    "                            tr_point[i].insert(j + count + k,(now_p[0],now_p[1] + k * step))\n",
    "                        count = count + delta_y - 1\n",
    "                        continue\n",
    "                    elif delta_y == 0:\n",
    "                        step = (next_p[0] - now_p[0])/delta_x\n",
    "                        for k in range(1,delta_x,1):\n",
    "                            tr_point[i].insert(j + count + k,(now_p[0] + k * step,now_p[1]))\n",
    "                        count = count + delta_x - 1\n",
    "                        continue\n",
    "                        \n",
    "    return tr_point"
   ]
  },
  {
   "cell_type": "markdown",
   "metadata": {},
   "source": [
    "#### ================加载参数，生成轨迹================"
   ]
  },
  {
   "cell_type": "code",
   "execution_count": 182,
   "metadata": {},
   "outputs": [],
   "source": [
    "PARA = loadPara()"
   ]
  },
  {
   "cell_type": "code",
   "execution_count": 183,
   "metadata": {},
   "outputs": [],
   "source": [
    "GEN_TR = trGendrator(PARA)"
   ]
  },
  {
   "cell_type": "code",
   "execution_count": 184,
   "metadata": {},
   "outputs": [
    {
     "data": {
      "image/png": "[encoded data removed]",
      "text/plain": [
       "<Figure size 432x288 with 1 Axes>"
      ]
     },
     "metadata": {
      "needs_background": "light"
     },
     "output_type": "display_data"
    }
   ],
   "source": [
    "for i in range(len(GEN_TR)):\n",
    "    x = [p[0] for p in GEN_TR[i]]\n",
    "    y = [p[1] for p in GEN_TR[i]]\n",
    "    plt.scatter(x,y,1)\n",
    "plt.show()"
   ]
  },
  {
   "cell_type": "code",
   "execution_count": 185,
   "metadata": {},
   "outputs": [
    {
     "data": {
      "text/plain": [
       "968"
      ]
     },
     "execution_count": 185,
     "metadata": {},
     "output_type": "execute_result"
    }
   ],
   "source": [
    "len(GEN_TR)"
   ]
  },
  {
   "cell_type": "markdown",
   "metadata": {},
   "source": [
    "#### ================生成数据集上的聚类，得到簇心================"
   ]
  },
  {
   "cell_type": "code",
   "execution_count": 186,
   "metadata": {},
   "outputs": [],
   "source": [
    "MAT = distMatrix(GEN_TR)"
   ]
  },
  {
   "cell_type": "code",
   "execution_count": 17,
   "metadata": {
    "scrolled": true
   },
   "outputs": [
    {
     "data": {
      "image/png": "[encoded data removed]",
      "text/plain": [
       "<Figure size 432x288 with 1 Axes>"
      ]
     },
     "metadata": {
      "needs_background": "light"
     },
     "output_type": "display_data"
    }
   ],
   "source": [
    "chooseK(GEN_TR,20,MAT)"
   ]
  },
  {
   "cell_type": "code",
   "execution_count": 75,
   "metadata": {},
   "outputs": [],
   "source": [
    "K = 7"
   ]
  },
  {
   "cell_type": "code",
   "execution_count": 197,
   "metadata": {},
   "outputs": [
    {
     "data": {
      "text/plain": [
       "[416, 34, 866, 170, 429, 885, 826]"
      ]
     },
     "execution_count": 197,
     "metadata": {},
     "output_type": "execute_result"
    }
   ],
   "source": [
    "ours = list(set(cluster(GEN_TR,K,MAT)))\n",
    "ours"
   ]
  },
  {
   "cell_type": "markdown",
   "metadata": {},
   "source": [
    "#### ================原始数据网格化================"
   ]
  },
  {
   "cell_type": "code",
   "execution_count": 83,
   "metadata": {},
   "outputs": [],
   "source": [
    "POINTS_NUM_PER_TR = 500\n",
    "\n",
    "df = pd.read_csv('../data/all.csv')\n",
    "\n",
    "NUM_TR = int(len(df)/POINTS_NUM_PER_TR)"
   ]
  },
  {
   "cell_type": "code",
   "execution_count": 84,
   "metadata": {},
   "outputs": [],
   "source": [
    "DATA = df2array(df)"
   ]
  },
  {
   "cell_type": "code",
   "execution_count": 85,
   "metadata": {},
   "outputs": [],
   "source": [
    "DISC_DATA = discretization(DATA)"
   ]
  },
  {
   "cell_type": "markdown",
   "metadata": {},
   "source": [
    "#### ================对比试验================"
   ]
  },
  {
   "cell_type": "code",
   "execution_count": 198,
   "metadata": {},
   "outputs": [],
   "source": [
    "l2 = []\n",
    "for i in DISC_DATA:\n",
    "    distArr = []\n",
    "    for j in range(K):\n",
    "        distArr.append(hausdorff_distance(np.array(i),np.array(GEN_TR[ours[j]])))\n",
    "    minDist = np.min(distArr)\n",
    "    l2.append(distArr.index(minDist))"
   ]
  },
  {
   "cell_type": "code",
   "execution_count": 125,
   "metadata": {},
   "outputs": [
    {
     "data": {
      "image/png": "[encoded data removed]",
      "text/plain": [
       "<Figure size 432x288 with 1 Axes>"
      ]
     },
     "metadata": {
      "needs_background": "light"
     },
     "output_type": "display_data"
    }
   ],
   "source": [
    "COLORS = ['b', 'g', 'r', 'c', 'm', 'y', 'k']\n",
    "\n",
    "for i in range(len(DISC_DATA)):\n",
    "    x = [p[0] for p in DISC_DATA[i]]\n",
    "    y = [p[1] for p in DISC_DATA[i]]\n",
    "    plt.plot(x,y,1,color=COLORS[l2[i]])\n",
    "plt.show()"
   ]
  },
  {
   "cell_type": "code",
   "execution_count": 199,
   "metadata": {},
   "outputs": [
    {
     "data": {
      "text/plain": [
       "array([5, 4, 2, 5, 4, 2, 1, 4, 1, 6, 6, 1, 5, 4, 5, 5, 4, 2, 1, 5, 5, 2,\n",
       "       5, 6, 5, 6, 1, 0, 2, 2, 4, 5, 5, 6, 1, 4, 5, 5, 5, 5, 5, 5, 5, 4,\n",
       "       5, 3, 4, 5, 5, 5, 4, 0, 4, 6, 3, 6, 5, 4, 0, 5, 5, 1, 2, 5, 5, 5,\n",
       "       4, 4, 6, 2, 4, 6, 0, 5, 2, 4, 4, 5, 6, 4, 4, 4, 4, 4, 4, 5, 4, 5,\n",
       "       5, 4, 3, 5, 5, 2, 2, 6, 3, 2, 5, 5, 1, 3, 5, 5, 5, 6, 0, 4, 3, 5,\n",
       "       6, 5, 5, 5, 5, 5, 4, 4, 1, 4, 4, 5, 2, 6, 3, 5, 5, 2, 2, 3, 4, 2,\n",
       "       5, 4, 3, 1, 4, 5, 5, 5, 5, 4, 2, 0, 1, 5, 0, 2, 5, 3, 5, 3, 4, 4,\n",
       "       0, 4, 3, 6, 2, 4, 4, 5, 3, 3, 0, 3, 5, 4, 2, 4, 5, 4, 4, 4, 2, 4,\n",
       "       5, 2, 5, 2, 5, 5, 2, 3, 3, 6, 5, 4, 5, 4, 4, 5, 4, 6, 5, 5, 1, 2,\n",
       "       2, 2, 1, 3, 1, 5, 2, 3, 4, 5, 5, 2, 4, 5, 1, 5, 4, 2, 2, 2, 6, 1,\n",
       "       5, 4, 5, 0, 5, 2, 6, 5, 4, 4, 4, 5, 3, 5, 5, 1, 4, 3, 0, 5, 6, 2,\n",
       "       4, 5, 4, 4, 1, 5, 4, 5, 3, 5, 2, 2, 3, 6, 0, 2, 2, 5, 6, 4, 5, 6,\n",
       "       4, 4, 6, 2, 4, 2, 4, 2, 1, 5, 2, 4, 4, 4, 5, 6, 5, 6, 6, 4, 5, 5,\n",
       "       2, 5, 4, 5, 5, 6, 6, 2, 1, 6, 6, 4, 5, 6, 5, 5, 4, 4, 5, 5, 6, 5,\n",
       "       6, 4, 6, 5, 4, 5, 3, 5, 2, 5, 4, 2, 5, 4, 4, 2, 5, 5, 4, 1, 3, 5,\n",
       "       5, 1, 4, 4, 4, 4, 5, 5, 4, 1, 5, 4, 5, 5, 0, 4, 0, 4, 2, 4, 1, 6,\n",
       "       4, 4, 4, 3, 5, 0, 5, 5, 0, 2, 6, 5, 5, 4, 3, 2, 4, 5, 5, 4, 4, 5,\n",
       "       4, 4, 1, 5, 0, 5, 2, 3, 5, 4, 2, 5, 2, 2, 4, 1, 6, 5, 6, 4, 5, 4,\n",
       "       1, 4, 4, 5, 4, 3, 0, 6, 2, 4, 5, 5, 5, 2, 5, 5, 6, 4, 5, 4, 6, 6,\n",
       "       6, 2, 2, 5, 2, 5, 5, 1, 2, 3, 4, 4, 4, 6, 5, 1, 4, 2, 2, 5, 6, 2,\n",
       "       4, 4, 5, 5, 2, 4, 5, 5, 2, 4, 5, 5, 4, 5, 2, 5, 2, 4, 4, 2, 3, 2,\n",
       "       1, 5, 5, 0, 6, 5, 5, 1, 1, 1, 6, 6, 6, 5, 6, 4, 5, 4, 2, 5, 4, 5,\n",
       "       2, 4, 5, 4, 0, 3, 4, 5, 6, 6, 5, 2, 5, 6, 3, 3, 0, 1, 1, 5, 4, 6,\n",
       "       5, 2, 5, 5, 0, 4, 5, 5, 5, 5, 0, 5, 4, 0, 5, 0, 4, 0, 5, 6, 6, 1,\n",
       "       5, 1, 5, 3, 0, 3, 1, 3, 1, 5, 0, 1, 5, 4, 1, 4, 4, 5, 3, 2, 4, 4,\n",
       "       5, 4, 5, 3, 4, 5, 2, 4, 4, 5, 6, 5, 1, 6, 5, 4, 4, 0, 4, 4, 5, 3,\n",
       "       4, 4, 2, 5, 2, 2, 5, 1, 5, 4, 1, 6, 4, 6, 5, 4, 5, 4, 4, 5, 4, 6,\n",
       "       1, 5, 3, 3, 6, 6, 4, 1, 5, 6, 0, 5, 5, 5, 4, 4, 4, 3, 4, 4, 0, 3,\n",
       "       5, 5, 5, 2, 1, 5, 1, 2, 4, 2, 5, 0, 4, 5, 0, 5, 5, 6, 0, 6, 5, 2,\n",
       "       5, 5, 6, 4, 0, 4, 1, 4, 2, 1, 6, 3, 2, 5, 4, 2, 6, 3, 5, 2, 2, 5,\n",
       "       4, 2, 6, 5, 5, 6, 6, 6, 1, 5, 4, 5, 5, 6, 3, 5, 4, 2, 5, 6, 1, 5,\n",
       "       4, 6, 1, 5, 4, 1, 2, 0, 4, 0, 6, 5, 5, 0, 4, 6, 5, 5, 4, 2, 4, 5,\n",
       "       6, 2, 3, 5, 6, 5, 2, 5, 4, 4, 6, 4, 1, 3, 4, 0, 6, 0, 6, 5, 5, 4,\n",
       "       4, 5, 4, 5, 0, 0, 5, 5, 4, 4, 2, 6, 3, 6, 5, 4, 1, 6, 5, 1, 0, 6,\n",
       "       5, 6, 6, 6, 4, 0, 5, 2, 4, 5, 4, 4, 6, 5, 4, 6, 1, 5, 5, 4, 2, 4,\n",
       "       4, 2, 4, 2, 5, 5, 0, 4, 5, 1, 6, 4, 2, 2, 5, 6, 4, 5, 1, 3, 5, 3,\n",
       "       5, 6, 2, 5, 5, 1, 6, 5, 4, 2, 0, 2, 5, 5, 4, 0, 5, 6, 6, 6, 4, 5,\n",
       "       5, 2, 5, 5, 4, 4, 5, 6, 5, 4, 2, 1, 5, 0, 5, 5, 5, 2, 0, 5, 5, 2,\n",
       "       6, 4, 4, 4, 5, 2, 2, 4, 4, 3, 4, 5, 2, 2, 4, 5, 5, 5, 3, 5, 4, 6,\n",
       "       6, 5, 6, 4, 4, 5, 5, 5, 6, 5, 4, 5, 2, 5, 5, 6, 6, 2, 2, 4, 0, 5,\n",
       "       4, 2, 3, 4, 5, 4, 6, 5, 5, 5, 2, 4, 6, 4, 5, 5, 3, 4, 2, 5, 5, 4,\n",
       "       3, 5, 4, 5, 5, 4, 3, 0, 5, 4, 0, 5, 4, 2, 4, 4, 5, 4, 4, 2, 5, 5,\n",
       "       4, 2, 6, 1, 4, 2, 1, 5, 5, 5, 4, 5, 1, 3, 4, 5, 5, 3, 5, 2, 6, 4,\n",
       "       6, 4, 3, 2, 1, 5, 2, 6, 1, 6, 5, 3, 4, 3, 3, 2, 5, 4, 1, 6, 4, 4])"
      ]
     },
     "execution_count": 199,
     "metadata": {},
     "output_type": "execute_result"
    }
   ],
   "source": [
    "np.array(l2)"
   ]
  },
  {
   "cell_type": "code",
   "execution_count": null,
   "metadata": {},
   "outputs": [],
   "source": []
  }
 ],
 "metadata": {
  "kernelspec": {
   "display_name": "Python 3",
   "language": "python",
   "name": "python3"
  },
  "language_info": {
   "codemirror_mode": {
    "name": "ipython",
    "version": 3
   },
   "file_extension": ".py",
   "mimetype": "text/x-python",
   "name": "python",
   "nbconvert_exporter": "python",
   "pygments_lexer": "ipython3",
   "version": "3.7.4"
  }
 },
 "nbformat": 4,
 "nbformat_minor": 2
}
