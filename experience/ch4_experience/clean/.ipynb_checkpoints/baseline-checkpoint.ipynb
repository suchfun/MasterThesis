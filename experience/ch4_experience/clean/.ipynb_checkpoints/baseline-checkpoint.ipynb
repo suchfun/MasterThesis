{
 "cells": [
  {
   "cell_type": "code",
   "execution_count": 60,
   "metadata": {},
   "outputs": [],
   "source": [
    "import numpy as np \n",
    "import pandas as pd \n",
    "import matplotlib.pyplot as plt\n",
    "\n",
    "from sklearn.metrics.cluster import adjusted_rand_score\n",
    "from hausdorff import hausdorff_distance\n",
    "\n",
    "from Bio.Cluster import kmedoids\n",
    "\n",
    "from itertools import combinations\n",
    "\n",
    "import pickle"
   ]
  },
  {
   "cell_type": "code",
   "execution_count": 2,
   "metadata": {},
   "outputs": [],
   "source": [
    "def df2array(df):\n",
    "    # 将数据以 ndarray 的形式读入内存\n",
    "    # [[x1,x2,...,x500,y1,y2,...,y500],[],...]\n",
    "    i = 0\n",
    "    data = np.array([])\n",
    "    while i <= len(df)-1:\n",
    "        arr_x = np.array(df['x'][i:i+POINTS_NUM_PER_TR])\n",
    "        arr_y = np.array(df['y'][i:i+POINTS_NUM_PER_TR])\n",
    "        arr = np.append(arr_x,arr_y)\n",
    "        if len(data)==0:\n",
    "            data = np.array([arr])\n",
    "        else:\n",
    "            data = np.append(data,[arr],axis=0)\n",
    "        i+=POINTS_NUM_PER_TR\n",
    "    return data"
   ]
  },
  {
   "cell_type": "code",
   "execution_count": 3,
   "metadata": {},
   "outputs": [],
   "source": [
    "def discretization(data):\n",
    "    \n",
    "    # 网格坐标化\n",
    "    data = np.round(data)\n",
    "    tr_point = [    [  (data[j][i],data[j][i+POINTS_NUM_PER_TR])    for i in range(POINTS_NUM_PER_TR)]     \n",
    "                           for j in range(len(data))]\n",
    "    \n",
    "    \n",
    "    # 去掉连续落在同一区间上的点\n",
    "    for i in range(len(tr_point)):\n",
    "        tmp = []\n",
    "        l = tr_point[i].copy()\n",
    "        for j in range(POINTS_NUM_PER_TR-1):\n",
    "            if l[j] == l[j+1]:\n",
    "                tmp.append(j)\n",
    "        tr_point[i] = [l[i] for i in range(POINTS_NUM_PER_TR) if i not in tmp]\n",
    "        \n",
    "    # 防止出现跨越的点\n",
    "    for i in range(len(tr_point)):\n",
    "        tmp = tr_point[i].copy()  # [(),(),...,()]\n",
    "        count = 0 # 添加的点造成的偏移\n",
    "        for j in range(len(tmp) - 1):\n",
    "            now_p = tmp[j]\n",
    "            next_p = tmp[j + 1]\n",
    "            if not(tr_point[i][j + count] == now_p and tr_point[i][j + count + 1] == next_p):\n",
    "                print('WRONGGGGG: ',now_p,next_p,tr_point[i][j + count],tr_point[i][j + count],)\n",
    "                break\n",
    "            if now_p[0] == next_p[0] and abs(now_p[1] - next_p[1]) == 1:\n",
    "                continue\n",
    "            elif abs(now_p[0] - next_p[0]) == 1 and now_p[1] == next_p[1]:\n",
    "                continue   \n",
    "            else:\n",
    "                # print(now_p,next_p)\n",
    "                delta_x = int(abs(now_p[0] - next_p[0]))\n",
    "                delta_y = int(abs(now_p[1] - next_p[1]))\n",
    "                if delta_x == 0:\n",
    "                    step = (next_p[1] - now_p[1]) / delta_y\n",
    "                    for k in range(1,delta_y,1):\n",
    "                        tr_point[i].insert(j + count + k,(now_p[0],now_p[1] + k * step))\n",
    "                    count = count + delta_y - 1\n",
    "                    continue\n",
    "                elif delta_y == 0:\n",
    "                    step = (next_p[0] - now_p[0])/delta_x\n",
    "                    for k in range(1,delta_x,1):\n",
    "                        tr_point[i].insert(j + count + k,(now_p[0] + k * step,now_p[1]))\n",
    "                    count = count + delta_x - 1\n",
    "                    continue\n",
    "                else:\n",
    "                    step_x = (next_p[0] - now_p[0])/delta_x\n",
    "                    step_y = (next_p[1] - now_p[1]) / delta_y\n",
    "                    k = 1\n",
    "                    while delta_x != 0 and delta_y != 0:\n",
    "                        tr_point[i].insert(j + count + 1,(now_p[0] + k * step_x,now_p[1]))\n",
    "                        tr_point[i].insert(j + count + 2,(now_p[0] + k * step_x,now_p[1] + k * step_y))\n",
    "                        count = count + 2\n",
    "                        k = k + 1\n",
    "                        delta_x = delta_x - 1\n",
    "                        delta_y = delta_y - 1\n",
    "                    if delta_x == 0 and delta_y == 0:\n",
    "                        tr_point[i].pop(j + count)\n",
    "                        count = count - 1\n",
    "                    elif delta_x == 0:\n",
    "                        step = (next_p[1] - now_p[1]) / delta_y\n",
    "                        for k in range(1,delta_y,1):\n",
    "                            tr_point[i].insert(j + count + k,(now_p[0],now_p[1] + k * step))\n",
    "                        count = count + delta_y - 1\n",
    "                        continue\n",
    "                    elif delta_y == 0:\n",
    "                        step = (next_p[0] - now_p[0])/delta_x\n",
    "                        for k in range(1,delta_x,1):\n",
    "                            tr_point[i].insert(j + count + k,(now_p[0] + k * step,now_p[1]))\n",
    "                        count = count + delta_x - 1\n",
    "                        continue\n",
    "                        \n",
    "    return tr_point"
   ]
  },
  {
   "cell_type": "code",
   "execution_count": 4,
   "metadata": {},
   "outputs": [],
   "source": [
    "def distMatrix(data):\n",
    "    length = len(data)\n",
    "    mat = [[]]\n",
    "    for i in range(1,length):\n",
    "        tmp = []\n",
    "        for j in range(i):\n",
    "            tmp.append(dist(np.array(data[i]),np.array(data[j])))\n",
    "        mat.append(tmp) \n",
    "    return mat"
   ]
  },
  {
   "cell_type": "code",
   "execution_count": 5,
   "metadata": {},
   "outputs": [],
   "source": [
    "def dist(a,b):\n",
    "    \n",
    "    return hausdorff_distance(a,b)"
   ]
  },
  {
   "cell_type": "code",
   "execution_count": 7,
   "metadata": {},
   "outputs": [],
   "source": [
    "def cost(data,labels):\n",
    "    loss = 0\n",
    "    for i in range(len(data)):\n",
    "        loss = loss + dist(np.array(data[i]),np.array(data[labels[i]]))\n",
    "    loss = loss / len(data)\n",
    "    return loss"
   ]
  },
  {
   "cell_type": "code",
   "execution_count": 10,
   "metadata": {},
   "outputs": [],
   "source": [
    "def chooseK(data,K,mat):\n",
    "    x = np.arange(3,K+1)\n",
    "    y = np.zeros(len(x))\n",
    "    for k in range(3,K+1):\n",
    "        labels = cluster(data,k,mat)\n",
    "        y[k-3] = cost(data, labels)\n",
    "    plt.plot(x,y)\n",
    "    plt.show()"
   ]
  },
  {
   "cell_type": "code",
   "execution_count": 11,
   "metadata": {},
   "outputs": [],
   "source": [
    "def RI(a,b):\n",
    "    ss = 0\n",
    "    dd = 0\n",
    "    sum = 0\n",
    "    for com in combinations(range(len(a)),2):\n",
    "        sum = sum + 1\n",
    "        if (a[com[0]] == a[com[1]]) and (b[com[0]] == b[com[1]]):\n",
    "            ss = ss + 1\n",
    "        if (a[com[0]] != a[com[1]]) and (b[com[0]] != b[com[1]]):\n",
    "            dd = dd + 1\n",
    "    return (ss + dd) / sum"
   ]
  },
  {
   "cell_type": "code",
   "execution_count": 52,
   "metadata": {},
   "outputs": [],
   "source": [
    "def stableClustering(data,k,mat):\n",
    "    labels = cluster(k,mat)  # [121,111,123,123,121,111,...]\n",
    "    min_cost = cost(data,labels)\n",
    "    for i in range(50): # 取50次聚类中损失函数最小的\n",
    "        labels_ = cluster(k,mat)\n",
    "        cost_ = cost(data,labels_)\n",
    "        if cost_ < min_cost:\n",
    "            labels = labels_\n",
    "            min_cost = cost_\n",
    "    print('min_cost:'+str(min_cost))\n",
    "    return labels"
   ]
  },
  {
   "cell_type": "code",
   "execution_count": 35,
   "metadata": {},
   "outputs": [],
   "source": [
    "#  clusterid 中的类号是指的是代表聚类中心的元素号。\n",
    "def cluster(K,mat):\n",
    "    clusterid, error, nfound = kmedoids(mat,K,npass = 100)\n",
    "    return clusterid"
   ]
  },
  {
   "cell_type": "code",
   "execution_count": 48,
   "metadata": {},
   "outputs": [],
   "source": [
    "def getLabelResult(originalData,data,centers):\n",
    "    result = []\n",
    "    for i in originalData:\n",
    "        distArr = []\n",
    "        for j in range(len(centers)):\n",
    "            distArr.append(hausdorff_distance(np.array(i),np.array(data[centers[j]])))\n",
    "        minDist = np.min(distArr)\n",
    "        result.append(distArr.index(minDist))\n",
    "    return result"
   ]
  },
  {
   "cell_type": "code",
   "execution_count": 37,
   "metadata": {},
   "outputs": [],
   "source": [
    "def init():\n",
    "    df = pd.read_csv('data/all.csv')\n",
    "    num_tr = int(len(df)/POINTS_NUM_PER_TR)\n",
    "    print('num_tr:'+str(num_tr))\n",
    "    disc_data = discretization(df2array(df))\n",
    "    mat = distMatrix(disc_data)\n",
    "    return disc_data,mat"
   ]
  },
  {
   "cell_type": "code",
   "execution_count": 38,
   "metadata": {},
   "outputs": [],
   "source": [
    "def checkStability1(k,n): # 测试对于同一数据集，不同聚类结果的稳定性\n",
    "    ri = 0\n",
    "    ari = 0\n",
    "    N = n\n",
    "    for i in range(N):\n",
    "        l1 = stableClustering(DISC_DATA,k,MAT)\n",
    "        l2 = stableClustering(DISC_DATA,k,MAT)\n",
    "        ri = ri + RI(l1,l2)\n",
    "        ari = ari + adjusted_rand_score(l1,l2)\n",
    "        print(RI(l1,l2),adjusted_rand_score(l1,l2))\n",
    "    return ri/N,ari/N"
   ]
  },
  {
   "cell_type": "code",
   "execution_count": 44,
   "metadata": {},
   "outputs": [],
   "source": [
    "def checkStability2(k,n): # 测试对于同一数据集的聚类结果与通过比较距离的聚类结果的稳定性\n",
    "    ri = 0\n",
    "    ari = 0\n",
    "    N = n\n",
    "    for i in range(N):\n",
    "        l1 = stableClustering(DISC_DATA,k,MAT)\n",
    "        l2 = getLabelResult(DISC_DATA,DISC_DATA,list(set(l1)))\n",
    "        ri = ri + RI(l1,l2)\n",
    "        ari = ari + adjusted_rand_score(l1,l2)\n",
    "        print(RI(l1,l2),adjusted_rand_score(l1,l2))\n",
    "    return ri/N,ari/N    "
   ]
  },
  {
   "cell_type": "code",
   "execution_count": 18,
   "metadata": {
    "scrolled": true
   },
   "outputs": [
    {
     "name": "stdout",
     "output_type": "stream",
     "text": [
      "num_tr:532\n"
     ]
    }
   ],
   "source": [
    "DISC_DATA,MAT = init()"
   ]
  },
  {
   "cell_type": "code",
   "execution_count": 53,
   "metadata": {},
   "outputs": [
    {
     "name": "stdout",
     "output_type": "stream",
     "text": [
      "min_cost:7.65497643745643\n",
      "min_cost:7.65497643745643\n",
      "0.9948600314345185 0.9886930095491141\n",
      "min_cost:7.65497643745643\n",
      "min_cost:7.65497643745643\n",
      "0.9971822210894468 0.9938089232435319\n",
      "min_cost:7.65497643745643\n",
      "min_cost:7.65497643745643\n",
      "1.0 1.0\n"
     ]
    },
    {
     "data": {
      "text/plain": [
       "(0.9973474175079885, 0.994167310930882)"
      ]
     },
     "execution_count": 53,
     "metadata": {},
     "output_type": "execute_result"
    }
   ],
   "source": [
    "checkStability1(3,3)"
   ]
  },
  {
   "cell_type": "code",
   "execution_count": 54,
   "metadata": {},
   "outputs": [
    {
     "name": "stdout",
     "output_type": "stream",
     "text": [
      "min_cost:7.65497643745643\n",
      "1.0 1.0\n",
      "min_cost:7.65497643745643\n",
      "0.9971822210894468 0.9938089232435319\n",
      "min_cost:7.65497643745643\n",
      "1.0 1.0\n"
     ]
    },
    {
     "data": {
      "text/plain": [
       "(0.999060740363149, 0.9979363077478439)"
      ]
     },
     "execution_count": 54,
     "metadata": {},
     "output_type": "execute_result"
    }
   ],
   "source": [
    "checkStability2(3,3)"
   ]
  },
  {
   "cell_type": "code",
   "execution_count": 63,
   "metadata": {},
   "outputs": [],
   "source": [
    "def genBaseline():\n",
    "    Ks = [3,4,5,6]\n",
    "    for k in Ks:\n",
    "        baseline = stableClustering(DISC_DATA,k,MAT).tolist()\n",
    "        with open('./baseline'+str(k)+'.pickle','wb') as f:#dict转txt\n",
    "            pickle.dump(baseline,f,pickle.HIGHEST_PROTOCOL)\n",
    "        f.close()"
   ]
  },
  {
   "cell_type": "code",
   "execution_count": 64,
   "metadata": {},
   "outputs": [
    {
     "name": "stdout",
     "output_type": "stream",
     "text": [
      "min_cost:7.65497643745643\n",
      "min_cost:6.799204172193893\n",
      "min_cost:6.215772510690886\n",
      "min_cost:5.665232358911372\n"
     ]
    }
   ],
   "source": [
    "genBaseline()"
   ]
  },
  {
   "cell_type": "markdown",
   "metadata": {
    "collapsed": true
   },
   "source": [
    "### End"
   ]
  }
 ],
 "metadata": {
  "kernelspec": {
   "display_name": "Python 3",
   "language": "python",
   "name": "python3"
  },
  "language_info": {
   "codemirror_mode": {
    "name": "ipython",
    "version": 3
   },
   "file_extension": ".py",
   "mimetype": "text/x-python",
   "name": "python",
   "nbconvert_exporter": "python",
   "pygments_lexer": "ipython3",
   "version": "3.7.6"
  }
 },
 "nbformat": 4,
 "nbformat_minor": 2
}
